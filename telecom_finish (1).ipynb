{
 "cells": [
  {
   "cell_type": "markdown",
   "metadata": {},
   "source": [
    "### 1. Описание проекта:\n",
    "\n",
    "Оператор связи «Ниединогоразрыва.ком» хочет научиться прогнозировать отток клиентов. Если выяснится, что пользователь планирует уйти, ему будут предложены промокоды и специальные условия. Команда оператора собрала персональные данные о некоторых клиентах, информацию об их тарифах и договорах.\n",
    "\n",
    "Оператор предоставляет два основных типа услуг:\n",
    "\n",
    "Стационарную телефонную связь. Возможно подключение телефонного аппарата к нескольким линиям одновременно.\n",
    "Интернет. Подключение может быть двух типов: через телефонную линию (DSL, от англ. digital subscriber line, «цифровая абонентская линия») или оптоволоконный кабель (Fiber optic).\n",
    "Также доступны такие услуги:\n",
    "\n",
    "Интернет-безопасность: антивирус (DeviceProtection) и блокировка небезопасных сайтов (OnlineSecurity);\n",
    "Выделенная линия технической поддержки (TechSupport);\n",
    "Облачное хранилище файлов для резервного копирования данных (OnlineBackup);\n",
    "Стриминговое телевидение (StreamingTV) и каталог фильмов (StreamingMovies).\n",
    "Стриминговое телевидение (StreamingTV) и каталог фильмов (StreamingMovies).\n",
    "\n",
    "Описание данных\n",
    "Данные состоят из файлов, полученных из разных источников:\n",
    "contract_new.csv — информация о договоре;\n",
    "\n",
    "personal_new.csv — персональные данные клиента;\n",
    "\n",
    "internet_new.csv — информация об интернет-услугах;\n",
    "\n",
    "phone_new.csv — информация об услугах телефонии.\n",
    "\n",
    "Во всех файлах столбец customerID содержит код клиента.\n",
    "\n"
   ]
  },
  {
   "cell_type": "markdown",
   "metadata": {},
   "source": [
    "\n",
    "Содержание\n",
    "1.  Описание проекта\n",
    "2.  План Работы\n",
    "3.  Исследовательский анализ данных\n",
    "4.  Подготовка данных\n",
    "5.  Исследование моделей\n",
    "6.  Анализ лучшей модели\n",
    "7.  Итоговый вывод\n",
    "8.  Отчет о проделаной работе\n"
   ]
  },
  {
   "cell_type": "markdown",
   "metadata": {},
   "source": [
    "### 2. ПЛАН РАБОТЫ:\n",
    "Цель:\n",
    "\n",
    "Необходимо научиться прогнозировать отток клиентов.\n",
    "\n",
    "Описание представленных данных. \n",
    "Для решения поставленной задачи нам предложено для обработки четыре датасета. \n",
    "В каждом датасете имеется  столбец customerID, который  содержит код клиента.\n",
    "В таблице personal_new.csv (персональные данные клиента)  еще столбцы: \n",
    "gender – пол\n",
    "SeniorCitizen – пенсионный статус по возрасту\n",
    "Partner – наличие супруга/супруги\n",
    "Dependents – наличие иждивенцев.\n",
    "\n",
    "В таблице contract_new.csv (информация о договоре):\n",
    "BeginDate – дата начала пользования услугами\n",
    "EndDate – дата окончания пользования услугами\n",
    "Type – тип договора: ежемесячный, годовой и т.д.\n",
    "PaperlessBilling – выставления счёта по электронной почте\n",
    "PaymentMethod – способ оплаты\n",
    "MonthlyCharges – ежемесячные траты на услуги\n",
    "TotalCharges – всего потрачено денег на услуги\n",
    "\n",
    "В таблице internet_new.csv (информация об интернет-услугах)6\n",
    "•\tInternetService – наличие услуг Интернет\n",
    "•\tOnlineSecurity – межсетевой экран\n",
    "•\tOnlineBackup–облачное хранилище файлов для  резервного копирования данных\n",
    "•\tDeviceProtection – антивирус\n",
    "•\tTechSupport\t–выделенная\tлиния\tтехнической  поддержки\n",
    "•\tStreamingTV – онлайн-ТВ\n",
    "•\tStreamingMovies – онлайн-кинотеатр.\n",
    "\n",
    "В таблице phone_new.csv (информация об услугах телефонии):\n",
    "•\tMultipleLines – возможность подключения телефонного аппарата к нескольким линиям одновременно.\n",
    "\n",
    "Для успешного достижения цели, необходимо выполнить следующие задачи:\n",
    "\n",
    "\n",
    "Загрузить и проанализировать  данные;\n",
    "посмотреть на пропуски, дубликаты и верный формат данных и привести всё к правильному виду;\n",
    "провести разведывательный анализ\n",
    "посмотреть на распределение целевого признака\n",
    "посмотреть на колличественные признаки\n",
    "посмотреть на распределение типа услуг в разбивках: на тех кто ушёл и тех кто остался всё ещё с нами.\n",
    "посмотреть на распределение типа оплаты услуг в разбивках: на тех кто ушёл и тех кто остался всё ещё с нами.\n",
    "На основе анализа обучить модель и протестировать\n",
    "\n",
    "подготовить данные к обучению модели, разбить на обучающую и тестовую выборку,провести масштабирование и  кодирование,\n",
    "выбрать модели для обучения,\n",
    "посмотреть на качество моделей  на основе метрики roc auc\n",
    "выбрать лучшую модель (Пороговое значение основной метрики - >= 0.85) и посмотреть на финальную оценку метрики roc auc. Для интерпретации результатов модели на тестовой выборке  использовать дополнительную метрику accuracy. Построить и проанализировать ROC-кривую, проанализировать матрицу ошибок и важность признаков. \n",
    "\n",
    "Для выполнения указанных задач и поставленной цели буду придерживаться следующих шагов:\n",
    "1. Загрузка библиотек и исследовательский анализ данных \n",
    "      \n",
    "      Импорт библиотек\n",
    "      \n",
    "      Просмотр  датасетов\n",
    "      \n",
    "      Проверка  типов данных на соответствие реальным значениям \n",
    "      \n",
    "      Выявление наличия / отсутствия пропусков и явных дубликатов в данных\n",
    "      \n",
    "      Работа с аномалиями\n",
    "\n",
    "2. Подготовка  данных\n",
    "      Объединение таблиц в одну общую по столбцу customerID и обработка появившихся пропусков\n",
    "      \n",
    "      Генерация новых признаков и добавление целевого признака на основе EndDate\n",
    "      \n",
    "      Корректировка типов данных\n",
    "      \n",
    "      Проверка признаков на мультиколлинеарность\n",
    "      \n",
    "      Определение целевого признака и разделение данных на обучающую и тестовую выборки в соотношении 75% / 25%\n",
    "      \n",
    "      Кодирование данных с помощью OneHotEncoder для избежания утечки\n",
    "      \n",
    "   \n",
    "\n",
    "3. Обучение и выбор лучшей модели\n",
    "      \n",
    "      Обучение и подбор оптимальных гиперпараметров на кросс-валидации для логистической регрессии, случайного леса и градиентного бустинга\n",
    "      \n",
    "      Сравнение полученных результатов AUC-ROC и accuracy\n",
    "      \n",
    "      Выбор модели по лучшим показателям\n",
    "\n",
    "4. Проверка выбранной модели на тестовом наборе данных\n",
    "      \n",
    "      Проверка качества модели на тестовом наборе данных\n",
    "      \n",
    "      Построение и анализ ROC-кривой\n",
    "      \n",
    "      Построение  и анализ матрицы ошибок и определение важности признаков. \n",
    "\n",
    "5. Итоговый вывод\n",
    "    \n",
    "    Отчет и рекомендация для заказчика оператора связи «Ниединогоразрыва.ком»\n",
    "   \n",
    "    Заключение\n",
    "   \n",
    "    чек-лист плана\n",
    "    \n",
    "    описание возникших трудностей при выполнении проекта\n",
    "\n",
    "\n",
    "\n",
    "<"
   ]
  },
  {
   "cell_type": "markdown",
   "metadata": {},
   "source": [
    "Данные состоят из файлов, полученных из разных источников:\n",
    "\n",
    "/datasets/contract_new.csv — информация о договоре;\n",
    "/datasets/personal_new.csv — персональные данные клиента;\n",
    "/datasets/internet_new.csv — информация об интернет-услугах;\n",
    "/datasets/phone_new.csv — информация об услугах телефонии.\n",
    "\n",
    "\n",
    "Информация о договорах актуальна на 1 февраля 2020.\n",
    "\n",
    "Выделяем признаки:\n",
    "\n",
    "BeginDate – дата начала пользования услугами;\n",
    "EndDate – дата окончания пользования услугами;\n",
    "Type – тип оплаты: ежемесячный, годовой и т.д.;\n",
    "PaperlessBilling – электронный платёжный документ;\n",
    "PaymentMethod – способ оплаты;\n",
    "MonthlyCharges – ежемесячные траты на услуги по договору;\n",
    "TotalCharges – всего потрачено денег на услуги;\n",
    "Dependents – наличие иждивенцев;\n",
    "Senior Citizen – наличие пенсионного статуса по возрасту;\n",
    "Partner – наличие супруга(и);\n",
    "MultipleLines – наличие возможности ведения параллельных линий во время звонка.\n",
    "\n",
    "\n",
    "Целевой признак:рассторгнул ли клиент контракт или нет:\n",
    "1 да, рассторгнул\n",
    "0 нет, не рассторгнул.\n",
    "\n"
   ]
  },
  {
   "cell_type": "markdown",
   "metadata": {},
   "source": [
    "### 3. Исследовательский анализ данных"
   ]
  },
  {
   "cell_type": "code",
   "execution_count": 1,
   "metadata": {},
   "outputs": [],
   "source": [
    "# импортируем необходимые для работы библиотеки\n",
    "import os\n",
    "import pandas as pd\n",
    "import numpy as np\n",
    "import matplotlib.pyplot as plt\n",
    "import seaborn as sns\n",
    "\n",
    "from datetime import datetime\n",
    "from scipy import stats as st\n",
    "RANDOM_STATE = 11092023\n",
    "import warnings\n",
    "warnings.filterwarnings(\"ignore\")\n"
   ]
  },
  {
   "cell_type": "code",
   "execution_count": 2,
   "metadata": {},
   "outputs": [
    {
     "name": "stdout",
     "output_type": "stream",
     "text": [
      "Requirement already satisfied: scikit-learn in /opt/conda/lib/python3.9/site-packages (0.24.1)\n",
      "Collecting scikit-learn\n",
      "  Downloading scikit_learn-1.3.0-cp39-cp39-manylinux_2_17_x86_64.manylinux2014_x86_64.whl (10.9 MB)\n",
      "\u001b[K     |████████████████████████████████| 10.9 MB 2.1 MB/s eta 0:00:01\n",
      "\u001b[?25hRequirement already satisfied: numpy>=1.17.3 in /opt/conda/lib/python3.9/site-packages (from scikit-learn) (1.21.1)\n",
      "Requirement already satisfied: scipy>=1.5.0 in /opt/conda/lib/python3.9/site-packages (from scikit-learn) (1.9.1)\n",
      "Requirement already satisfied: threadpoolctl>=2.0.0 in /opt/conda/lib/python3.9/site-packages (from scikit-learn) (3.1.0)\n",
      "Collecting joblib>=1.1.1\n",
      "  Downloading joblib-1.3.2-py3-none-any.whl (302 kB)\n",
      "\u001b[K     |████████████████████████████████| 302 kB 88.4 MB/s eta 0:00:01\n",
      "\u001b[?25hInstalling collected packages: joblib, scikit-learn\n",
      "  Attempting uninstall: joblib\n",
      "    Found existing installation: joblib 1.1.0\n",
      "    Uninstalling joblib-1.1.0:\n",
      "      Successfully uninstalled joblib-1.1.0\n",
      "  Attempting uninstall: scikit-learn\n",
      "    Found existing installation: scikit-learn 0.24.1\n",
      "    Uninstalling scikit-learn-0.24.1:\n",
      "      Successfully uninstalled scikit-learn-0.24.1\n",
      "Successfully installed joblib-1.3.2 scikit-learn-1.3.0\n",
      "Collecting phik\n",
      "  Downloading phik-0.12.3-cp39-cp39-manylinux_2_17_x86_64.manylinux2014_x86_64.whl (679 kB)\n",
      "\u001b[K     |████████████████████████████████| 679 kB 1.2 MB/s eta 0:00:01\n",
      "\u001b[?25hRequirement already satisfied: matplotlib>=2.2.3 in /opt/conda/lib/python3.9/site-packages (from phik) (3.3.4)\n",
      "Requirement already satisfied: scipy>=1.5.2 in /opt/conda/lib/python3.9/site-packages (from phik) (1.9.1)\n",
      "Requirement already satisfied: numpy>=1.18.0 in /opt/conda/lib/python3.9/site-packages (from phik) (1.21.1)\n",
      "Requirement already satisfied: joblib>=0.14.1 in /opt/conda/lib/python3.9/site-packages (from phik) (1.3.2)\n",
      "Requirement already satisfied: pandas>=0.25.1 in /opt/conda/lib/python3.9/site-packages (from phik) (1.2.4)\n",
      "Requirement already satisfied: pillow>=6.2.0 in /opt/conda/lib/python3.9/site-packages (from matplotlib>=2.2.3->phik) (8.4.0)\n",
      "Requirement already satisfied: python-dateutil>=2.1 in /opt/conda/lib/python3.9/site-packages (from matplotlib>=2.2.3->phik) (2.8.1)\n",
      "Requirement already satisfied: kiwisolver>=1.0.1 in /opt/conda/lib/python3.9/site-packages (from matplotlib>=2.2.3->phik) (1.4.4)\n",
      "Requirement already satisfied: cycler>=0.10 in /opt/conda/lib/python3.9/site-packages (from matplotlib>=2.2.3->phik) (0.11.0)\n",
      "Requirement already satisfied: pyparsing!=2.0.4,!=2.1.2,!=2.1.6,>=2.0.3 in /opt/conda/lib/python3.9/site-packages (from matplotlib>=2.2.3->phik) (2.4.7)\n",
      "Requirement already satisfied: pytz>=2017.3 in /opt/conda/lib/python3.9/site-packages (from pandas>=0.25.1->phik) (2021.1)\n",
      "Requirement already satisfied: six>=1.5 in /opt/conda/lib/python3.9/site-packages (from python-dateutil>=2.1->matplotlib>=2.2.3->phik) (1.16.0)\n",
      "Installing collected packages: phik\n",
      "Successfully installed phik-0.12.3\n"
     ]
    }
   ],
   "source": [
    "#Вставляю в блокнот команды установки сторонних библиотек и обновляю до последних версий\n",
    "!pip install -U scikit-learn\n",
    "!pip install phik"
   ]
  },
  {
   "cell_type": "code",
   "execution_count": 3,
   "metadata": {},
   "outputs": [],
   "source": [
    "from phik.report import plot_correlation_matrix"
   ]
  },
  {
   "cell_type": "code",
   "execution_count": 4,
   "metadata": {},
   "outputs": [],
   "source": [
    "# импортирую библиотеки для графики\n",
    "import re\n",
    "import seaborn as sns\n",
    "from functools import reduce\n",
    "from matplotlib import pyplot\n",
    "plt.rcParams[\"figure.figsize\"] = (10,8)"
   ]
  },
  {
   "cell_type": "code",
   "execution_count": 5,
   "metadata": {},
   "outputs": [],
   "source": [
    "# импортирую библиотеки для обучения\n",
    "from sklearn.pipeline import Pipeline\n",
    "from sklearn.compose import ColumnTransformer\n",
    "from sklearn.preprocessing import FunctionTransformer,  StandardScaler, OrdinalEncoder,  OneHotEncoder\n",
    "from sklearn.model_selection import train_test_split, RandomizedSearchCV, GridSearchCV\n",
    "from sklearn.metrics import roc_auc_score, accuracy_score, roc_curve, confusion_matrix, f1_score, accuracy_score, precision_score, recall_score\n",
    "from sklearn.linear_model import LogisticRegression\n",
    "from statsmodels.stats.outliers_influence import variance_inflation_factor\n",
    "from lightgbm import LGBMClassifier\n",
    "from sklearn.ensemble import RandomForestClassifier\n",
    "\n",
    "from catboost import CatBoostClassifier,  Pool, metrics, cv\n",
    "\n",
    "from sklearn.model_selection import cross_val_score, StratifiedKFold\n"
   ]
  },
  {
   "cell_type": "code",
   "execution_count": 6,
   "metadata": {},
   "outputs": [],
   "source": [
    "# загружаю данные и предварительно изучаю\n",
    "try:\n",
    "    contract = pd.read_csv('contract_new.csv')\n",
    "    personal = pd.read_csv('personal_new.csv')\n",
    "    internet = pd.read_csv('internet_new.csv')\n",
    "    phone = pd.read_csv('phone_new.csv')\n",
    "except:\n",
    "    contract = pd.read_csv('/datasets/contract_new.csv')\n",
    "    personal = pd.read_csv('/datasets/personal_new.csv')\n",
    "    internet = pd.read_csv('/datasets/internet_new.csv')\n",
    "    phone = pd.read_csv('/datasets/phone_new.csv')"
   ]
  },
  {
   "cell_type": "code",
   "execution_count": 7,
   "metadata": {},
   "outputs": [
    {
     "name": "stdout",
     "output_type": "stream",
     "text": [
      "0\n"
     ]
    },
    {
     "data": {
      "text/html": [
       "<div>\n",
       "<style scoped>\n",
       "    .dataframe tbody tr th:only-of-type {\n",
       "        vertical-align: middle;\n",
       "    }\n",
       "\n",
       "    .dataframe tbody tr th {\n",
       "        vertical-align: top;\n",
       "    }\n",
       "\n",
       "    .dataframe thead th {\n",
       "        text-align: right;\n",
       "    }\n",
       "</style>\n",
       "<table border=\"1\" class=\"dataframe\">\n",
       "  <thead>\n",
       "    <tr style=\"text-align: right;\">\n",
       "      <th></th>\n",
       "      <th>customerID</th>\n",
       "      <th>BeginDate</th>\n",
       "      <th>EndDate</th>\n",
       "      <th>Type</th>\n",
       "      <th>PaperlessBilling</th>\n",
       "      <th>PaymentMethod</th>\n",
       "      <th>MonthlyCharges</th>\n",
       "      <th>TotalCharges</th>\n",
       "    </tr>\n",
       "  </thead>\n",
       "  <tbody>\n",
       "    <tr>\n",
       "      <th>0</th>\n",
       "      <td>7590-VHVEG</td>\n",
       "      <td>2020-01-01</td>\n",
       "      <td>No</td>\n",
       "      <td>Month-to-month</td>\n",
       "      <td>Yes</td>\n",
       "      <td>Electronic check</td>\n",
       "      <td>29.85</td>\n",
       "      <td>31.04</td>\n",
       "    </tr>\n",
       "    <tr>\n",
       "      <th>1</th>\n",
       "      <td>5575-GNVDE</td>\n",
       "      <td>2017-04-01</td>\n",
       "      <td>No</td>\n",
       "      <td>One year</td>\n",
       "      <td>No</td>\n",
       "      <td>Mailed check</td>\n",
       "      <td>56.95</td>\n",
       "      <td>2071.84</td>\n",
       "    </tr>\n",
       "    <tr>\n",
       "      <th>2</th>\n",
       "      <td>3668-QPYBK</td>\n",
       "      <td>2019-10-01</td>\n",
       "      <td>No</td>\n",
       "      <td>Month-to-month</td>\n",
       "      <td>Yes</td>\n",
       "      <td>Mailed check</td>\n",
       "      <td>53.85</td>\n",
       "      <td>226.17</td>\n",
       "    </tr>\n",
       "    <tr>\n",
       "      <th>3</th>\n",
       "      <td>7795-CFOCW</td>\n",
       "      <td>2016-05-01</td>\n",
       "      <td>No</td>\n",
       "      <td>One year</td>\n",
       "      <td>No</td>\n",
       "      <td>Bank transfer (automatic)</td>\n",
       "      <td>42.30</td>\n",
       "      <td>1960.6</td>\n",
       "    </tr>\n",
       "    <tr>\n",
       "      <th>4</th>\n",
       "      <td>9237-HQITU</td>\n",
       "      <td>2019-09-01</td>\n",
       "      <td>No</td>\n",
       "      <td>Month-to-month</td>\n",
       "      <td>Yes</td>\n",
       "      <td>Electronic check</td>\n",
       "      <td>70.70</td>\n",
       "      <td>353.5</td>\n",
       "    </tr>\n",
       "    <tr>\n",
       "      <th>5</th>\n",
       "      <td>9305-CDSKC</td>\n",
       "      <td>2019-03-01</td>\n",
       "      <td>No</td>\n",
       "      <td>Month-to-month</td>\n",
       "      <td>Yes</td>\n",
       "      <td>Electronic check</td>\n",
       "      <td>99.65</td>\n",
       "      <td>1150.96</td>\n",
       "    </tr>\n",
       "    <tr>\n",
       "      <th>6</th>\n",
       "      <td>1452-KIOVK</td>\n",
       "      <td>2018-04-01</td>\n",
       "      <td>No</td>\n",
       "      <td>Month-to-month</td>\n",
       "      <td>Yes</td>\n",
       "      <td>Credit card (automatic)</td>\n",
       "      <td>89.10</td>\n",
       "      <td>2058.21</td>\n",
       "    </tr>\n",
       "    <tr>\n",
       "      <th>7</th>\n",
       "      <td>6713-OKOMC</td>\n",
       "      <td>2019-04-01</td>\n",
       "      <td>No</td>\n",
       "      <td>Month-to-month</td>\n",
       "      <td>No</td>\n",
       "      <td>Mailed check</td>\n",
       "      <td>29.75</td>\n",
       "      <td>300.48</td>\n",
       "    </tr>\n",
       "    <tr>\n",
       "      <th>8</th>\n",
       "      <td>7892-POOKP</td>\n",
       "      <td>2017-07-01</td>\n",
       "      <td>No</td>\n",
       "      <td>Month-to-month</td>\n",
       "      <td>Yes</td>\n",
       "      <td>Electronic check</td>\n",
       "      <td>104.80</td>\n",
       "      <td>3573.68</td>\n",
       "    </tr>\n",
       "    <tr>\n",
       "      <th>9</th>\n",
       "      <td>6388-TABGU</td>\n",
       "      <td>2014-12-01</td>\n",
       "      <td>2017-05-01</td>\n",
       "      <td>One year</td>\n",
       "      <td>No</td>\n",
       "      <td>Bank transfer (automatic)</td>\n",
       "      <td>56.15</td>\n",
       "      <td>1628.35</td>\n",
       "    </tr>\n",
       "    <tr>\n",
       "      <th>10</th>\n",
       "      <td>9763-GRSKD</td>\n",
       "      <td>2019-01-01</td>\n",
       "      <td>No</td>\n",
       "      <td>Month-to-month</td>\n",
       "      <td>Yes</td>\n",
       "      <td>Mailed check</td>\n",
       "      <td>49.95</td>\n",
       "      <td>649.35</td>\n",
       "    </tr>\n",
       "    <tr>\n",
       "      <th>11</th>\n",
       "      <td>7469-LKBCI</td>\n",
       "      <td>2018-10-01</td>\n",
       "      <td>No</td>\n",
       "      <td>Two year</td>\n",
       "      <td>No</td>\n",
       "      <td>Credit card (automatic)</td>\n",
       "      <td>18.95</td>\n",
       "      <td>312.3</td>\n",
       "    </tr>\n",
       "    <tr>\n",
       "      <th>12</th>\n",
       "      <td>8091-TTVAX</td>\n",
       "      <td>2015-04-01</td>\n",
       "      <td>No</td>\n",
       "      <td>One year</td>\n",
       "      <td>No</td>\n",
       "      <td>Credit card (automatic)</td>\n",
       "      <td>100.35</td>\n",
       "      <td>6111.31</td>\n",
       "    </tr>\n",
       "    <tr>\n",
       "      <th>13</th>\n",
       "      <td>0280-XJGEX</td>\n",
       "      <td>2015-09-01</td>\n",
       "      <td>No</td>\n",
       "      <td>Month-to-month</td>\n",
       "      <td>Yes</td>\n",
       "      <td>Bank transfer (automatic)</td>\n",
       "      <td>103.70</td>\n",
       "      <td>5496.1</td>\n",
       "    </tr>\n",
       "    <tr>\n",
       "      <th>14</th>\n",
       "      <td>5129-JLPIS</td>\n",
       "      <td>2018-01-01</td>\n",
       "      <td>No</td>\n",
       "      <td>Month-to-month</td>\n",
       "      <td>Yes</td>\n",
       "      <td>Electronic check</td>\n",
       "      <td>105.50</td>\n",
       "      <td>2637.5</td>\n",
       "    </tr>\n",
       "    <tr>\n",
       "      <th>15</th>\n",
       "      <td>3655-SNQYZ</td>\n",
       "      <td>2014-05-01</td>\n",
       "      <td>2016-03-01</td>\n",
       "      <td>Two year</td>\n",
       "      <td>No</td>\n",
       "      <td>Credit card (automatic)</td>\n",
       "      <td>113.25</td>\n",
       "      <td>2491.5</td>\n",
       "    </tr>\n",
       "    <tr>\n",
       "      <th>16</th>\n",
       "      <td>8191-XWSZG</td>\n",
       "      <td>2015-10-01</td>\n",
       "      <td>No</td>\n",
       "      <td>One year</td>\n",
       "      <td>No</td>\n",
       "      <td>Mailed check</td>\n",
       "      <td>20.65</td>\n",
       "      <td>1106.01</td>\n",
       "    </tr>\n",
       "    <tr>\n",
       "      <th>17</th>\n",
       "      <td>9959-WOFKT</td>\n",
       "      <td>2014-03-01</td>\n",
       "      <td>No</td>\n",
       "      <td>Two year</td>\n",
       "      <td>No</td>\n",
       "      <td>Bank transfer (automatic)</td>\n",
       "      <td>106.70</td>\n",
       "      <td>8257.51</td>\n",
       "    </tr>\n",
       "    <tr>\n",
       "      <th>18</th>\n",
       "      <td>4190-MFLUW</td>\n",
       "      <td>2019-01-01</td>\n",
       "      <td>No</td>\n",
       "      <td>Month-to-month</td>\n",
       "      <td>No</td>\n",
       "      <td>Credit card (automatic)</td>\n",
       "      <td>55.20</td>\n",
       "      <td>789.36</td>\n",
       "    </tr>\n",
       "    <tr>\n",
       "      <th>19</th>\n",
       "      <td>4183-MYFRB</td>\n",
       "      <td>2018-05-01</td>\n",
       "      <td>No</td>\n",
       "      <td>Month-to-month</td>\n",
       "      <td>Yes</td>\n",
       "      <td>Electronic check</td>\n",
       "      <td>90.05</td>\n",
       "      <td>1891.05</td>\n",
       "    </tr>\n",
       "  </tbody>\n",
       "</table>\n",
       "</div>"
      ],
      "text/plain": [
       "    customerID   BeginDate     EndDate            Type PaperlessBilling  \\\n",
       "0   7590-VHVEG  2020-01-01          No  Month-to-month              Yes   \n",
       "1   5575-GNVDE  2017-04-01          No        One year               No   \n",
       "2   3668-QPYBK  2019-10-01          No  Month-to-month              Yes   \n",
       "3   7795-CFOCW  2016-05-01          No        One year               No   \n",
       "4   9237-HQITU  2019-09-01          No  Month-to-month              Yes   \n",
       "5   9305-CDSKC  2019-03-01          No  Month-to-month              Yes   \n",
       "6   1452-KIOVK  2018-04-01          No  Month-to-month              Yes   \n",
       "7   6713-OKOMC  2019-04-01          No  Month-to-month               No   \n",
       "8   7892-POOKP  2017-07-01          No  Month-to-month              Yes   \n",
       "9   6388-TABGU  2014-12-01  2017-05-01        One year               No   \n",
       "10  9763-GRSKD  2019-01-01          No  Month-to-month              Yes   \n",
       "11  7469-LKBCI  2018-10-01          No        Two year               No   \n",
       "12  8091-TTVAX  2015-04-01          No        One year               No   \n",
       "13  0280-XJGEX  2015-09-01          No  Month-to-month              Yes   \n",
       "14  5129-JLPIS  2018-01-01          No  Month-to-month              Yes   \n",
       "15  3655-SNQYZ  2014-05-01  2016-03-01        Two year               No   \n",
       "16  8191-XWSZG  2015-10-01          No        One year               No   \n",
       "17  9959-WOFKT  2014-03-01          No        Two year               No   \n",
       "18  4190-MFLUW  2019-01-01          No  Month-to-month               No   \n",
       "19  4183-MYFRB  2018-05-01          No  Month-to-month              Yes   \n",
       "\n",
       "                PaymentMethod  MonthlyCharges TotalCharges  \n",
       "0            Electronic check           29.85        31.04  \n",
       "1                Mailed check           56.95      2071.84  \n",
       "2                Mailed check           53.85       226.17  \n",
       "3   Bank transfer (automatic)           42.30       1960.6  \n",
       "4            Electronic check           70.70        353.5  \n",
       "5            Electronic check           99.65      1150.96  \n",
       "6     Credit card (automatic)           89.10      2058.21  \n",
       "7                Mailed check           29.75       300.48  \n",
       "8            Electronic check          104.80      3573.68  \n",
       "9   Bank transfer (automatic)           56.15      1628.35  \n",
       "10               Mailed check           49.95       649.35  \n",
       "11    Credit card (automatic)           18.95        312.3  \n",
       "12    Credit card (automatic)          100.35      6111.31  \n",
       "13  Bank transfer (automatic)          103.70       5496.1  \n",
       "14           Electronic check          105.50       2637.5  \n",
       "15    Credit card (automatic)          113.25       2491.5  \n",
       "16               Mailed check           20.65      1106.01  \n",
       "17  Bank transfer (automatic)          106.70      8257.51  \n",
       "18    Credit card (automatic)           55.20       789.36  \n",
       "19           Electronic check           90.05      1891.05  "
      ]
     },
     "metadata": {},
     "output_type": "display_data"
    },
    {
     "name": "stdout",
     "output_type": "stream",
     "text": [
      "<class 'pandas.core.frame.DataFrame'>\n",
      "RangeIndex: 7043 entries, 0 to 7042\n",
      "Data columns (total 8 columns):\n",
      " #   Column            Non-Null Count  Dtype  \n",
      "---  ------            --------------  -----  \n",
      " 0   customerID        7043 non-null   object \n",
      " 1   BeginDate         7043 non-null   object \n",
      " 2   EndDate           7043 non-null   object \n",
      " 3   Type              7043 non-null   object \n",
      " 4   PaperlessBilling  7043 non-null   object \n",
      " 5   PaymentMethod     7043 non-null   object \n",
      " 6   MonthlyCharges    7043 non-null   float64\n",
      " 7   TotalCharges      7043 non-null   object \n",
      "dtypes: float64(1), object(7)\n",
      "memory usage: 440.3+ KB\n"
     ]
    },
    {
     "data": {
      "text/html": [
       "<div>\n",
       "<style scoped>\n",
       "    .dataframe tbody tr th:only-of-type {\n",
       "        vertical-align: middle;\n",
       "    }\n",
       "\n",
       "    .dataframe tbody tr th {\n",
       "        vertical-align: top;\n",
       "    }\n",
       "\n",
       "    .dataframe thead th {\n",
       "        text-align: right;\n",
       "    }\n",
       "</style>\n",
       "<table border=\"1\" class=\"dataframe\">\n",
       "  <thead>\n",
       "    <tr style=\"text-align: right;\">\n",
       "      <th></th>\n",
       "      <th>MonthlyCharges</th>\n",
       "    </tr>\n",
       "  </thead>\n",
       "  <tbody>\n",
       "    <tr>\n",
       "      <th>count</th>\n",
       "      <td>7043.000000</td>\n",
       "    </tr>\n",
       "    <tr>\n",
       "      <th>mean</th>\n",
       "      <td>64.761692</td>\n",
       "    </tr>\n",
       "    <tr>\n",
       "      <th>std</th>\n",
       "      <td>30.090047</td>\n",
       "    </tr>\n",
       "    <tr>\n",
       "      <th>min</th>\n",
       "      <td>18.250000</td>\n",
       "    </tr>\n",
       "    <tr>\n",
       "      <th>25%</th>\n",
       "      <td>35.500000</td>\n",
       "    </tr>\n",
       "    <tr>\n",
       "      <th>50%</th>\n",
       "      <td>70.350000</td>\n",
       "    </tr>\n",
       "    <tr>\n",
       "      <th>75%</th>\n",
       "      <td>89.850000</td>\n",
       "    </tr>\n",
       "    <tr>\n",
       "      <th>max</th>\n",
       "      <td>118.750000</td>\n",
       "    </tr>\n",
       "  </tbody>\n",
       "</table>\n",
       "</div>"
      ],
      "text/plain": [
       "       MonthlyCharges\n",
       "count     7043.000000\n",
       "mean        64.761692\n",
       "std         30.090047\n",
       "min         18.250000\n",
       "25%         35.500000\n",
       "50%         70.350000\n",
       "75%         89.850000\n",
       "max        118.750000"
      ]
     },
     "execution_count": 7,
     "metadata": {},
     "output_type": "execute_result"
    }
   ],
   "source": [
    "print(contract.duplicated().sum())\n",
    "display(contract.head(20))\n",
    "contract.info()\n",
    "contract.describe()"
   ]
  },
  {
   "cell_type": "code",
   "execution_count": 8,
   "metadata": {},
   "outputs": [
    {
     "name": "stdout",
     "output_type": "stream",
     "text": [
      "0\n"
     ]
    },
    {
     "data": {
      "text/html": [
       "<div>\n",
       "<style scoped>\n",
       "    .dataframe tbody tr th:only-of-type {\n",
       "        vertical-align: middle;\n",
       "    }\n",
       "\n",
       "    .dataframe tbody tr th {\n",
       "        vertical-align: top;\n",
       "    }\n",
       "\n",
       "    .dataframe thead th {\n",
       "        text-align: right;\n",
       "    }\n",
       "</style>\n",
       "<table border=\"1\" class=\"dataframe\">\n",
       "  <thead>\n",
       "    <tr style=\"text-align: right;\">\n",
       "      <th></th>\n",
       "      <th>customerID</th>\n",
       "      <th>gender</th>\n",
       "      <th>SeniorCitizen</th>\n",
       "      <th>Partner</th>\n",
       "      <th>Dependents</th>\n",
       "    </tr>\n",
       "  </thead>\n",
       "  <tbody>\n",
       "    <tr>\n",
       "      <th>0</th>\n",
       "      <td>7590-VHVEG</td>\n",
       "      <td>Female</td>\n",
       "      <td>0</td>\n",
       "      <td>Yes</td>\n",
       "      <td>No</td>\n",
       "    </tr>\n",
       "    <tr>\n",
       "      <th>1</th>\n",
       "      <td>5575-GNVDE</td>\n",
       "      <td>Male</td>\n",
       "      <td>0</td>\n",
       "      <td>No</td>\n",
       "      <td>No</td>\n",
       "    </tr>\n",
       "    <tr>\n",
       "      <th>2</th>\n",
       "      <td>3668-QPYBK</td>\n",
       "      <td>Male</td>\n",
       "      <td>0</td>\n",
       "      <td>No</td>\n",
       "      <td>No</td>\n",
       "    </tr>\n",
       "    <tr>\n",
       "      <th>3</th>\n",
       "      <td>7795-CFOCW</td>\n",
       "      <td>Male</td>\n",
       "      <td>0</td>\n",
       "      <td>No</td>\n",
       "      <td>No</td>\n",
       "    </tr>\n",
       "    <tr>\n",
       "      <th>4</th>\n",
       "      <td>9237-HQITU</td>\n",
       "      <td>Female</td>\n",
       "      <td>0</td>\n",
       "      <td>No</td>\n",
       "      <td>No</td>\n",
       "    </tr>\n",
       "  </tbody>\n",
       "</table>\n",
       "</div>"
      ],
      "text/plain": [
       "   customerID  gender  SeniorCitizen Partner Dependents\n",
       "0  7590-VHVEG  Female              0     Yes         No\n",
       "1  5575-GNVDE    Male              0      No         No\n",
       "2  3668-QPYBK    Male              0      No         No\n",
       "3  7795-CFOCW    Male              0      No         No\n",
       "4  9237-HQITU  Female              0      No         No"
      ]
     },
     "metadata": {},
     "output_type": "display_data"
    },
    {
     "name": "stdout",
     "output_type": "stream",
     "text": [
      "<class 'pandas.core.frame.DataFrame'>\n",
      "RangeIndex: 7043 entries, 0 to 7042\n",
      "Data columns (total 5 columns):\n",
      " #   Column         Non-Null Count  Dtype \n",
      "---  ------         --------------  ----- \n",
      " 0   customerID     7043 non-null   object\n",
      " 1   gender         7043 non-null   object\n",
      " 2   SeniorCitizen  7043 non-null   int64 \n",
      " 3   Partner        7043 non-null   object\n",
      " 4   Dependents     7043 non-null   object\n",
      "dtypes: int64(1), object(4)\n",
      "memory usage: 275.2+ KB\n"
     ]
    },
    {
     "data": {
      "text/html": [
       "<div>\n",
       "<style scoped>\n",
       "    .dataframe tbody tr th:only-of-type {\n",
       "        vertical-align: middle;\n",
       "    }\n",
       "\n",
       "    .dataframe tbody tr th {\n",
       "        vertical-align: top;\n",
       "    }\n",
       "\n",
       "    .dataframe thead th {\n",
       "        text-align: right;\n",
       "    }\n",
       "</style>\n",
       "<table border=\"1\" class=\"dataframe\">\n",
       "  <thead>\n",
       "    <tr style=\"text-align: right;\">\n",
       "      <th></th>\n",
       "      <th>SeniorCitizen</th>\n",
       "    </tr>\n",
       "  </thead>\n",
       "  <tbody>\n",
       "    <tr>\n",
       "      <th>count</th>\n",
       "      <td>7043.000000</td>\n",
       "    </tr>\n",
       "    <tr>\n",
       "      <th>mean</th>\n",
       "      <td>0.162147</td>\n",
       "    </tr>\n",
       "    <tr>\n",
       "      <th>std</th>\n",
       "      <td>0.368612</td>\n",
       "    </tr>\n",
       "    <tr>\n",
       "      <th>min</th>\n",
       "      <td>0.000000</td>\n",
       "    </tr>\n",
       "    <tr>\n",
       "      <th>25%</th>\n",
       "      <td>0.000000</td>\n",
       "    </tr>\n",
       "    <tr>\n",
       "      <th>50%</th>\n",
       "      <td>0.000000</td>\n",
       "    </tr>\n",
       "    <tr>\n",
       "      <th>75%</th>\n",
       "      <td>0.000000</td>\n",
       "    </tr>\n",
       "    <tr>\n",
       "      <th>max</th>\n",
       "      <td>1.000000</td>\n",
       "    </tr>\n",
       "  </tbody>\n",
       "</table>\n",
       "</div>"
      ],
      "text/plain": [
       "       SeniorCitizen\n",
       "count    7043.000000\n",
       "mean        0.162147\n",
       "std         0.368612\n",
       "min         0.000000\n",
       "25%         0.000000\n",
       "50%         0.000000\n",
       "75%         0.000000\n",
       "max         1.000000"
      ]
     },
     "execution_count": 8,
     "metadata": {},
     "output_type": "execute_result"
    }
   ],
   "source": [
    "print(personal.duplicated().sum())\n",
    "display(personal.head())\n",
    "personal.info()\n",
    "personal.describe()"
   ]
  },
  {
   "cell_type": "code",
   "execution_count": 9,
   "metadata": {},
   "outputs": [
    {
     "name": "stdout",
     "output_type": "stream",
     "text": [
      "0\n"
     ]
    },
    {
     "data": {
      "text/html": [
       "<div>\n",
       "<style scoped>\n",
       "    .dataframe tbody tr th:only-of-type {\n",
       "        vertical-align: middle;\n",
       "    }\n",
       "\n",
       "    .dataframe tbody tr th {\n",
       "        vertical-align: top;\n",
       "    }\n",
       "\n",
       "    .dataframe thead th {\n",
       "        text-align: right;\n",
       "    }\n",
       "</style>\n",
       "<table border=\"1\" class=\"dataframe\">\n",
       "  <thead>\n",
       "    <tr style=\"text-align: right;\">\n",
       "      <th></th>\n",
       "      <th>customerID</th>\n",
       "      <th>InternetService</th>\n",
       "      <th>OnlineSecurity</th>\n",
       "      <th>OnlineBackup</th>\n",
       "      <th>DeviceProtection</th>\n",
       "      <th>TechSupport</th>\n",
       "      <th>StreamingTV</th>\n",
       "      <th>StreamingMovies</th>\n",
       "    </tr>\n",
       "  </thead>\n",
       "  <tbody>\n",
       "    <tr>\n",
       "      <th>0</th>\n",
       "      <td>7590-VHVEG</td>\n",
       "      <td>DSL</td>\n",
       "      <td>No</td>\n",
       "      <td>Yes</td>\n",
       "      <td>No</td>\n",
       "      <td>No</td>\n",
       "      <td>No</td>\n",
       "      <td>No</td>\n",
       "    </tr>\n",
       "    <tr>\n",
       "      <th>1</th>\n",
       "      <td>5575-GNVDE</td>\n",
       "      <td>DSL</td>\n",
       "      <td>Yes</td>\n",
       "      <td>No</td>\n",
       "      <td>Yes</td>\n",
       "      <td>No</td>\n",
       "      <td>No</td>\n",
       "      <td>No</td>\n",
       "    </tr>\n",
       "    <tr>\n",
       "      <th>2</th>\n",
       "      <td>3668-QPYBK</td>\n",
       "      <td>DSL</td>\n",
       "      <td>Yes</td>\n",
       "      <td>Yes</td>\n",
       "      <td>No</td>\n",
       "      <td>No</td>\n",
       "      <td>No</td>\n",
       "      <td>No</td>\n",
       "    </tr>\n",
       "    <tr>\n",
       "      <th>3</th>\n",
       "      <td>7795-CFOCW</td>\n",
       "      <td>DSL</td>\n",
       "      <td>Yes</td>\n",
       "      <td>No</td>\n",
       "      <td>Yes</td>\n",
       "      <td>Yes</td>\n",
       "      <td>No</td>\n",
       "      <td>No</td>\n",
       "    </tr>\n",
       "    <tr>\n",
       "      <th>4</th>\n",
       "      <td>9237-HQITU</td>\n",
       "      <td>Fiber optic</td>\n",
       "      <td>No</td>\n",
       "      <td>No</td>\n",
       "      <td>No</td>\n",
       "      <td>No</td>\n",
       "      <td>No</td>\n",
       "      <td>No</td>\n",
       "    </tr>\n",
       "  </tbody>\n",
       "</table>\n",
       "</div>"
      ],
      "text/plain": [
       "   customerID InternetService OnlineSecurity OnlineBackup DeviceProtection  \\\n",
       "0  7590-VHVEG             DSL             No          Yes               No   \n",
       "1  5575-GNVDE             DSL            Yes           No              Yes   \n",
       "2  3668-QPYBK             DSL            Yes          Yes               No   \n",
       "3  7795-CFOCW             DSL            Yes           No              Yes   \n",
       "4  9237-HQITU     Fiber optic             No           No               No   \n",
       "\n",
       "  TechSupport StreamingTV StreamingMovies  \n",
       "0          No          No              No  \n",
       "1          No          No              No  \n",
       "2          No          No              No  \n",
       "3         Yes          No              No  \n",
       "4          No          No              No  "
      ]
     },
     "metadata": {},
     "output_type": "display_data"
    },
    {
     "name": "stdout",
     "output_type": "stream",
     "text": [
      "<class 'pandas.core.frame.DataFrame'>\n",
      "RangeIndex: 5517 entries, 0 to 5516\n",
      "Data columns (total 8 columns):\n",
      " #   Column            Non-Null Count  Dtype \n",
      "---  ------            --------------  ----- \n",
      " 0   customerID        5517 non-null   object\n",
      " 1   InternetService   5517 non-null   object\n",
      " 2   OnlineSecurity    5517 non-null   object\n",
      " 3   OnlineBackup      5517 non-null   object\n",
      " 4   DeviceProtection  5517 non-null   object\n",
      " 5   TechSupport       5517 non-null   object\n",
      " 6   StreamingTV       5517 non-null   object\n",
      " 7   StreamingMovies   5517 non-null   object\n",
      "dtypes: object(8)\n",
      "memory usage: 344.9+ KB\n"
     ]
    },
    {
     "data": {
      "text/html": [
       "<div>\n",
       "<style scoped>\n",
       "    .dataframe tbody tr th:only-of-type {\n",
       "        vertical-align: middle;\n",
       "    }\n",
       "\n",
       "    .dataframe tbody tr th {\n",
       "        vertical-align: top;\n",
       "    }\n",
       "\n",
       "    .dataframe thead th {\n",
       "        text-align: right;\n",
       "    }\n",
       "</style>\n",
       "<table border=\"1\" class=\"dataframe\">\n",
       "  <thead>\n",
       "    <tr style=\"text-align: right;\">\n",
       "      <th></th>\n",
       "      <th>customerID</th>\n",
       "      <th>InternetService</th>\n",
       "      <th>OnlineSecurity</th>\n",
       "      <th>OnlineBackup</th>\n",
       "      <th>DeviceProtection</th>\n",
       "      <th>TechSupport</th>\n",
       "      <th>StreamingTV</th>\n",
       "      <th>StreamingMovies</th>\n",
       "    </tr>\n",
       "  </thead>\n",
       "  <tbody>\n",
       "    <tr>\n",
       "      <th>count</th>\n",
       "      <td>5517</td>\n",
       "      <td>5517</td>\n",
       "      <td>5517</td>\n",
       "      <td>5517</td>\n",
       "      <td>5517</td>\n",
       "      <td>5517</td>\n",
       "      <td>5517</td>\n",
       "      <td>5517</td>\n",
       "    </tr>\n",
       "    <tr>\n",
       "      <th>unique</th>\n",
       "      <td>5517</td>\n",
       "      <td>2</td>\n",
       "      <td>2</td>\n",
       "      <td>2</td>\n",
       "      <td>2</td>\n",
       "      <td>2</td>\n",
       "      <td>2</td>\n",
       "      <td>2</td>\n",
       "    </tr>\n",
       "    <tr>\n",
       "      <th>top</th>\n",
       "      <td>6578-KRMAW</td>\n",
       "      <td>Fiber optic</td>\n",
       "      <td>No</td>\n",
       "      <td>No</td>\n",
       "      <td>No</td>\n",
       "      <td>No</td>\n",
       "      <td>No</td>\n",
       "      <td>No</td>\n",
       "    </tr>\n",
       "    <tr>\n",
       "      <th>freq</th>\n",
       "      <td>1</td>\n",
       "      <td>3096</td>\n",
       "      <td>3498</td>\n",
       "      <td>3088</td>\n",
       "      <td>3095</td>\n",
       "      <td>3473</td>\n",
       "      <td>2810</td>\n",
       "      <td>2785</td>\n",
       "    </tr>\n",
       "  </tbody>\n",
       "</table>\n",
       "</div>"
      ],
      "text/plain": [
       "        customerID InternetService OnlineSecurity OnlineBackup  \\\n",
       "count         5517            5517           5517         5517   \n",
       "unique        5517               2              2            2   \n",
       "top     6578-KRMAW     Fiber optic             No           No   \n",
       "freq             1            3096           3498         3088   \n",
       "\n",
       "       DeviceProtection TechSupport StreamingTV StreamingMovies  \n",
       "count              5517        5517        5517            5517  \n",
       "unique                2           2           2               2  \n",
       "top                  No          No          No              No  \n",
       "freq               3095        3473        2810            2785  "
      ]
     },
     "execution_count": 9,
     "metadata": {},
     "output_type": "execute_result"
    }
   ],
   "source": [
    "print(internet.duplicated().sum())\n",
    "display(internet.head())\n",
    "internet.info()\n",
    "internet.describe()"
   ]
  },
  {
   "cell_type": "code",
   "execution_count": 10,
   "metadata": {},
   "outputs": [
    {
     "name": "stdout",
     "output_type": "stream",
     "text": [
      "0\n"
     ]
    },
    {
     "data": {
      "text/html": [
       "<div>\n",
       "<style scoped>\n",
       "    .dataframe tbody tr th:only-of-type {\n",
       "        vertical-align: middle;\n",
       "    }\n",
       "\n",
       "    .dataframe tbody tr th {\n",
       "        vertical-align: top;\n",
       "    }\n",
       "\n",
       "    .dataframe thead th {\n",
       "        text-align: right;\n",
       "    }\n",
       "</style>\n",
       "<table border=\"1\" class=\"dataframe\">\n",
       "  <thead>\n",
       "    <tr style=\"text-align: right;\">\n",
       "      <th></th>\n",
       "      <th>customerID</th>\n",
       "      <th>MultipleLines</th>\n",
       "    </tr>\n",
       "  </thead>\n",
       "  <tbody>\n",
       "    <tr>\n",
       "      <th>0</th>\n",
       "      <td>5575-GNVDE</td>\n",
       "      <td>No</td>\n",
       "    </tr>\n",
       "    <tr>\n",
       "      <th>1</th>\n",
       "      <td>3668-QPYBK</td>\n",
       "      <td>No</td>\n",
       "    </tr>\n",
       "    <tr>\n",
       "      <th>2</th>\n",
       "      <td>9237-HQITU</td>\n",
       "      <td>No</td>\n",
       "    </tr>\n",
       "    <tr>\n",
       "      <th>3</th>\n",
       "      <td>9305-CDSKC</td>\n",
       "      <td>Yes</td>\n",
       "    </tr>\n",
       "    <tr>\n",
       "      <th>4</th>\n",
       "      <td>1452-KIOVK</td>\n",
       "      <td>Yes</td>\n",
       "    </tr>\n",
       "  </tbody>\n",
       "</table>\n",
       "</div>"
      ],
      "text/plain": [
       "   customerID MultipleLines\n",
       "0  5575-GNVDE            No\n",
       "1  3668-QPYBK            No\n",
       "2  9237-HQITU            No\n",
       "3  9305-CDSKC           Yes\n",
       "4  1452-KIOVK           Yes"
      ]
     },
     "metadata": {},
     "output_type": "display_data"
    },
    {
     "name": "stdout",
     "output_type": "stream",
     "text": [
      "<class 'pandas.core.frame.DataFrame'>\n",
      "RangeIndex: 6361 entries, 0 to 6360\n",
      "Data columns (total 2 columns):\n",
      " #   Column         Non-Null Count  Dtype \n",
      "---  ------         --------------  ----- \n",
      " 0   customerID     6361 non-null   object\n",
      " 1   MultipleLines  6361 non-null   object\n",
      "dtypes: object(2)\n",
      "memory usage: 99.5+ KB\n"
     ]
    },
    {
     "data": {
      "text/html": [
       "<div>\n",
       "<style scoped>\n",
       "    .dataframe tbody tr th:only-of-type {\n",
       "        vertical-align: middle;\n",
       "    }\n",
       "\n",
       "    .dataframe tbody tr th {\n",
       "        vertical-align: top;\n",
       "    }\n",
       "\n",
       "    .dataframe thead th {\n",
       "        text-align: right;\n",
       "    }\n",
       "</style>\n",
       "<table border=\"1\" class=\"dataframe\">\n",
       "  <thead>\n",
       "    <tr style=\"text-align: right;\">\n",
       "      <th></th>\n",
       "      <th>customerID</th>\n",
       "      <th>MultipleLines</th>\n",
       "    </tr>\n",
       "  </thead>\n",
       "  <tbody>\n",
       "    <tr>\n",
       "      <th>count</th>\n",
       "      <td>6361</td>\n",
       "      <td>6361</td>\n",
       "    </tr>\n",
       "    <tr>\n",
       "      <th>unique</th>\n",
       "      <td>6361</td>\n",
       "      <td>2</td>\n",
       "    </tr>\n",
       "    <tr>\n",
       "      <th>top</th>\n",
       "      <td>3359-DSRKA</td>\n",
       "      <td>No</td>\n",
       "    </tr>\n",
       "    <tr>\n",
       "      <th>freq</th>\n",
       "      <td>1</td>\n",
       "      <td>3390</td>\n",
       "    </tr>\n",
       "  </tbody>\n",
       "</table>\n",
       "</div>"
      ],
      "text/plain": [
       "        customerID MultipleLines\n",
       "count         6361          6361\n",
       "unique        6361             2\n",
       "top     3359-DSRKA            No\n",
       "freq             1          3390"
      ]
     },
     "execution_count": 10,
     "metadata": {},
     "output_type": "execute_result"
    }
   ],
   "source": [
    "print(phone.duplicated().sum())\n",
    "display(phone.head())\n",
    "phone.info()\n",
    "phone.describe()"
   ]
  },
  {
   "cell_type": "markdown",
   "metadata": {},
   "source": [
    "\n",
    "По загруженной информации можем отметить, что у нас  имеется 7043 данных о клиентах. При этом не все клиенты пользуются всеми сервисами, так как данных о телефонных контрактах 6361, а интерент 5517\n",
    "Наличие очевидных пропусков в данных не вижу. Замечу что количество  клиентов, которые пользуются интернет-услугами меньше только 80 % от общего кол-ва . \n",
    "Для анализа нам понадобится целевой признак - рассторгнул ли клиент контракт или нет:\n",
    "1 да, рассторгнул\n",
    "0 нет, не рассторгнул"
   ]
  },
  {
   "cell_type": "markdown",
   "metadata": {},
   "source": [
    "###  4.  Подготовка данных"
   ]
  },
  {
   "cell_type": "markdown",
   "metadata": {},
   "source": [
    "Пойдем по порядку заметим что в таблице contract тип данных в столбце TotalCharges  object, а должен был тип данных другой.  Поля даты приведены с периодичностью в месяц.\n",
    "Отсутвует целевой признак - флаг, разорвал ли клиент контракт, его можно извлечь из поля EndDate - даты окончания контракта (yes). \n",
    "Проверим, что во всех таблицах customerID уникальны или нет?\n",
    "\n",
    "Посмотрим, сколько общих объектов в разных таблицах."
   ]
  },
  {
   "cell_type": "code",
   "execution_count": 11,
   "metadata": {},
   "outputs": [
    {
     "data": {
      "text/plain": [
       "0      31.04\n",
       "1    2071.84\n",
       "2     226.17\n",
       "3     1960.6\n",
       "4      353.5\n",
       "5    1150.96\n",
       "6    2058.21\n",
       "7     300.48\n",
       "8    3573.68\n",
       "9    1628.35\n",
       "Name: TotalCharges, dtype: object"
      ]
     },
     "execution_count": 11,
     "metadata": {},
     "output_type": "execute_result"
    }
   ],
   "source": [
    "contract['TotalCharges'].head(10)"
   ]
  },
  {
   "cell_type": "code",
   "execution_count": 12,
   "metadata": {},
   "outputs": [
    {
     "data": {
      "text/plain": [
       "array(['31.04', '2071.84', '226.17', ..., '325.6', '520.8', '7251.82'],\n",
       "      dtype=object)"
      ]
     },
     "execution_count": 12,
     "metadata": {},
     "output_type": "execute_result"
    }
   ],
   "source": [
    "contract['TotalCharges'].unique()"
   ]
  },
  {
   "cell_type": "code",
   "execution_count": 13,
   "metadata": {},
   "outputs": [],
   "source": [
    "#display(contract['TotalCharges'].value_counts())"
   ]
  },
  {
   "cell_type": "code",
   "execution_count": 14,
   "metadata": {},
   "outputs": [],
   "source": [
    "#contract[contract['TotalCharges'] == 'Nan']"
   ]
  },
  {
   "cell_type": "code",
   "execution_count": 15,
   "metadata": {},
   "outputs": [
    {
     "data": {
      "text/html": [
       "<div>\n",
       "<style scoped>\n",
       "    .dataframe tbody tr th:only-of-type {\n",
       "        vertical-align: middle;\n",
       "    }\n",
       "\n",
       "    .dataframe tbody tr th {\n",
       "        vertical-align: top;\n",
       "    }\n",
       "\n",
       "    .dataframe thead th {\n",
       "        text-align: right;\n",
       "    }\n",
       "</style>\n",
       "<table border=\"1\" class=\"dataframe\">\n",
       "  <thead>\n",
       "    <tr style=\"text-align: right;\">\n",
       "      <th></th>\n",
       "      <th>customerID</th>\n",
       "      <th>BeginDate</th>\n",
       "      <th>EndDate</th>\n",
       "      <th>Type</th>\n",
       "      <th>PaperlessBilling</th>\n",
       "      <th>PaymentMethod</th>\n",
       "      <th>MonthlyCharges</th>\n",
       "      <th>TotalCharges</th>\n",
       "    </tr>\n",
       "  </thead>\n",
       "  <tbody>\n",
       "    <tr>\n",
       "      <th>488</th>\n",
       "      <td>4472-LVYGI</td>\n",
       "      <td>2020-02-01</td>\n",
       "      <td>No</td>\n",
       "      <td>Two year</td>\n",
       "      <td>Yes</td>\n",
       "      <td>Bank transfer (automatic)</td>\n",
       "      <td>52.55</td>\n",
       "      <td></td>\n",
       "    </tr>\n",
       "    <tr>\n",
       "      <th>753</th>\n",
       "      <td>3115-CZMZD</td>\n",
       "      <td>2020-02-01</td>\n",
       "      <td>No</td>\n",
       "      <td>Two year</td>\n",
       "      <td>No</td>\n",
       "      <td>Mailed check</td>\n",
       "      <td>20.25</td>\n",
       "      <td></td>\n",
       "    </tr>\n",
       "    <tr>\n",
       "      <th>936</th>\n",
       "      <td>5709-LVOEQ</td>\n",
       "      <td>2020-02-01</td>\n",
       "      <td>No</td>\n",
       "      <td>Two year</td>\n",
       "      <td>No</td>\n",
       "      <td>Mailed check</td>\n",
       "      <td>80.85</td>\n",
       "      <td></td>\n",
       "    </tr>\n",
       "    <tr>\n",
       "      <th>1082</th>\n",
       "      <td>4367-NUYAO</td>\n",
       "      <td>2020-02-01</td>\n",
       "      <td>No</td>\n",
       "      <td>Two year</td>\n",
       "      <td>No</td>\n",
       "      <td>Mailed check</td>\n",
       "      <td>25.75</td>\n",
       "      <td></td>\n",
       "    </tr>\n",
       "    <tr>\n",
       "      <th>1340</th>\n",
       "      <td>1371-DWPAZ</td>\n",
       "      <td>2020-02-01</td>\n",
       "      <td>No</td>\n",
       "      <td>Two year</td>\n",
       "      <td>No</td>\n",
       "      <td>Credit card (automatic)</td>\n",
       "      <td>56.05</td>\n",
       "      <td></td>\n",
       "    </tr>\n",
       "    <tr>\n",
       "      <th>3331</th>\n",
       "      <td>7644-OMVMY</td>\n",
       "      <td>2020-02-01</td>\n",
       "      <td>No</td>\n",
       "      <td>Two year</td>\n",
       "      <td>No</td>\n",
       "      <td>Mailed check</td>\n",
       "      <td>19.85</td>\n",
       "      <td></td>\n",
       "    </tr>\n",
       "    <tr>\n",
       "      <th>3826</th>\n",
       "      <td>3213-VVOLG</td>\n",
       "      <td>2020-02-01</td>\n",
       "      <td>No</td>\n",
       "      <td>Two year</td>\n",
       "      <td>No</td>\n",
       "      <td>Mailed check</td>\n",
       "      <td>25.35</td>\n",
       "      <td></td>\n",
       "    </tr>\n",
       "    <tr>\n",
       "      <th>4380</th>\n",
       "      <td>2520-SGTTA</td>\n",
       "      <td>2020-02-01</td>\n",
       "      <td>No</td>\n",
       "      <td>Two year</td>\n",
       "      <td>No</td>\n",
       "      <td>Mailed check</td>\n",
       "      <td>20.00</td>\n",
       "      <td></td>\n",
       "    </tr>\n",
       "    <tr>\n",
       "      <th>5218</th>\n",
       "      <td>2923-ARZLG</td>\n",
       "      <td>2020-02-01</td>\n",
       "      <td>No</td>\n",
       "      <td>One year</td>\n",
       "      <td>Yes</td>\n",
       "      <td>Mailed check</td>\n",
       "      <td>19.70</td>\n",
       "      <td></td>\n",
       "    </tr>\n",
       "    <tr>\n",
       "      <th>6670</th>\n",
       "      <td>4075-WKNIU</td>\n",
       "      <td>2020-02-01</td>\n",
       "      <td>No</td>\n",
       "      <td>Two year</td>\n",
       "      <td>No</td>\n",
       "      <td>Mailed check</td>\n",
       "      <td>73.35</td>\n",
       "      <td></td>\n",
       "    </tr>\n",
       "    <tr>\n",
       "      <th>6754</th>\n",
       "      <td>2775-SEFEE</td>\n",
       "      <td>2020-02-01</td>\n",
       "      <td>No</td>\n",
       "      <td>Two year</td>\n",
       "      <td>Yes</td>\n",
       "      <td>Bank transfer (automatic)</td>\n",
       "      <td>61.90</td>\n",
       "      <td></td>\n",
       "    </tr>\n",
       "  </tbody>\n",
       "</table>\n",
       "</div>"
      ],
      "text/plain": [
       "      customerID   BeginDate EndDate      Type PaperlessBilling  \\\n",
       "488   4472-LVYGI  2020-02-01      No  Two year              Yes   \n",
       "753   3115-CZMZD  2020-02-01      No  Two year               No   \n",
       "936   5709-LVOEQ  2020-02-01      No  Two year               No   \n",
       "1082  4367-NUYAO  2020-02-01      No  Two year               No   \n",
       "1340  1371-DWPAZ  2020-02-01      No  Two year               No   \n",
       "3331  7644-OMVMY  2020-02-01      No  Two year               No   \n",
       "3826  3213-VVOLG  2020-02-01      No  Two year               No   \n",
       "4380  2520-SGTTA  2020-02-01      No  Two year               No   \n",
       "5218  2923-ARZLG  2020-02-01      No  One year              Yes   \n",
       "6670  4075-WKNIU  2020-02-01      No  Two year               No   \n",
       "6754  2775-SEFEE  2020-02-01      No  Two year              Yes   \n",
       "\n",
       "                  PaymentMethod  MonthlyCharges TotalCharges  \n",
       "488   Bank transfer (automatic)           52.55               \n",
       "753                Mailed check           20.25               \n",
       "936                Mailed check           80.85               \n",
       "1082               Mailed check           25.75               \n",
       "1340    Credit card (automatic)           56.05               \n",
       "3331               Mailed check           19.85               \n",
       "3826               Mailed check           25.35               \n",
       "4380               Mailed check           20.00               \n",
       "5218               Mailed check           19.70               \n",
       "6670               Mailed check           73.35               \n",
       "6754  Bank transfer (automatic)           61.90               "
      ]
     },
     "execution_count": 15,
     "metadata": {},
     "output_type": "execute_result"
    }
   ],
   "source": [
    "contract[contract['TotalCharges'] == ' ']"
   ]
  },
  {
   "cell_type": "markdown",
   "metadata": {},
   "source": [
    "мы видим если посмотреть на дату, то дата заключения договора 1 февраля 2020 года. Как раз та дата, когда у нас была выгрузка данных. Следовательно данных ещё о платеже нет, либо не успели загрузить в базу данных. Посмотрим сколько таких клиентов, либо удалим их, т.к. в данном случае люди ещё не успели воспользоваться  продуктом и понять имеет ли он для них ценность или нет или заполним 0  переведем столбец к нужному формату."
   ]
  },
  {
   "cell_type": "code",
   "execution_count": 16,
   "metadata": {},
   "outputs": [
    {
     "name": "stdout",
     "output_type": "stream",
     "text": [
      "5942\n"
     ]
    }
   ],
   "source": [
    "#посчитаю количество действующих контрактов\n",
    "count_no = (contract['EndDate'] == 'No').sum()\n",
    "print(count_no)"
   ]
  },
  {
   "cell_type": "code",
   "execution_count": 17,
   "metadata": {},
   "outputs": [
    {
     "data": {
      "text/plain": [
       "20      40\n",
       "19      31\n",
       "21      21\n",
       "40      20\n",
       "44      16\n",
       "        ..\n",
       "5858     1\n",
       "6649     1\n",
       "1764     1\n",
       "4596     1\n",
       "8182     1\n",
       "Name: TotalCharges, Length: 3739, dtype: int64"
      ]
     },
     "metadata": {},
     "output_type": "display_data"
    },
    {
     "data": {
      "text/plain": [
       "(7043, 8)"
      ]
     },
     "execution_count": 17,
     "metadata": {},
     "output_type": "execute_result"
    }
   ],
   "source": [
    "#Заменим пробелы на 0\n",
    "contract['TotalCharges'] = contract['TotalCharges'].replace([' '], [0])\n",
    "contract['TotalCharges'] = contract['TotalCharges'].astype(float)\n",
    "contract['TotalCharges'] = contract['TotalCharges'].astype(int)\n",
    "display(contract['TotalCharges'].value_counts())\n",
    "contract.shape"
   ]
  },
  {
   "cell_type": "code",
   "execution_count": 18,
   "metadata": {},
   "outputs": [
    {
     "name": "stdout",
     "output_type": "stream",
     "text": [
      "<class 'pandas.core.frame.DataFrame'>\n",
      "RangeIndex: 7043 entries, 0 to 7042\n",
      "Data columns (total 8 columns):\n",
      " #   Column            Non-Null Count  Dtype  \n",
      "---  ------            --------------  -----  \n",
      " 0   customerID        7043 non-null   object \n",
      " 1   BeginDate         7043 non-null   object \n",
      " 2   EndDate           7043 non-null   object \n",
      " 3   Type              7043 non-null   object \n",
      " 4   PaperlessBilling  7043 non-null   object \n",
      " 5   PaymentMethod     7043 non-null   object \n",
      " 6   MonthlyCharges    7043 non-null   float64\n",
      " 7   TotalCharges      7043 non-null   int64  \n",
      "dtypes: float64(1), int64(1), object(6)\n",
      "memory usage: 440.3+ KB\n"
     ]
    }
   ],
   "source": [
    "# посмотрим на данные\n",
    "contract.info()"
   ]
  },
  {
   "cell_type": "code",
   "execution_count": 19,
   "metadata": {},
   "outputs": [],
   "source": [
    "#contract.loc[contract['EndDate'] == 'No', 'left_company'] = 0\n",
    "#contract.loc[contract['EndDate'] != 'No', 'left_company'] = 1"
   ]
  },
  {
   "cell_type": "code",
   "execution_count": 20,
   "metadata": {},
   "outputs": [],
   "source": [
    "# код тимлида для объяснения\n",
    "contract['left_company'] = (contract['EndDate'] != 'No').astype(int)"
   ]
  },
  {
   "cell_type": "code",
   "execution_count": 21,
   "metadata": {},
   "outputs": [],
   "source": [
    "#переведем приводим столбцы к формату datetime\n",
    "contract['BeginDate'] =  contract['BeginDate'].apply(pd.to_datetime)"
   ]
  },
  {
   "cell_type": "code",
   "execution_count": 22,
   "metadata": {},
   "outputs": [],
   "source": [
    "# заменяем информацию об отсутствии срока окончания, датой 01.02.2020\n",
    "contract.EndDate = contract.EndDate.replace('No','2020-02-01')"
   ]
  },
  {
   "cell_type": "code",
   "execution_count": 23,
   "metadata": {},
   "outputs": [],
   "source": [
    "#переведем приводим столбцы к формату datetime\n",
    "contract['EndDate'] =  contract['EndDate'].apply(pd.to_datetime)"
   ]
  },
  {
   "cell_type": "code",
   "execution_count": 24,
   "metadata": {},
   "outputs": [],
   "source": [
    "# после получения единого формата, считаем длительность контракта и вводим новый стобец count_days (количество дней)\n",
    "contract['Count_days'] = (contract['EndDate'] - contract['BeginDate']).dt.days"
   ]
  },
  {
   "cell_type": "code",
   "execution_count": 25,
   "metadata": {},
   "outputs": [
    {
     "data": {
      "text/html": [
       "<div>\n",
       "<style scoped>\n",
       "    .dataframe tbody tr th:only-of-type {\n",
       "        vertical-align: middle;\n",
       "    }\n",
       "\n",
       "    .dataframe tbody tr th {\n",
       "        vertical-align: top;\n",
       "    }\n",
       "\n",
       "    .dataframe thead th {\n",
       "        text-align: right;\n",
       "    }\n",
       "</style>\n",
       "<table border=\"1\" class=\"dataframe\">\n",
       "  <thead>\n",
       "    <tr style=\"text-align: right;\">\n",
       "      <th></th>\n",
       "      <th>customerID</th>\n",
       "      <th>BeginDate</th>\n",
       "      <th>EndDate</th>\n",
       "      <th>Type</th>\n",
       "      <th>PaperlessBilling</th>\n",
       "      <th>PaymentMethod</th>\n",
       "      <th>MonthlyCharges</th>\n",
       "      <th>TotalCharges</th>\n",
       "      <th>left_company</th>\n",
       "      <th>Count_days</th>\n",
       "    </tr>\n",
       "  </thead>\n",
       "  <tbody>\n",
       "    <tr>\n",
       "      <th>0</th>\n",
       "      <td>7590-VHVEG</td>\n",
       "      <td>2020-01-01</td>\n",
       "      <td>2020-02-01</td>\n",
       "      <td>Month-to-month</td>\n",
       "      <td>Yes</td>\n",
       "      <td>Electronic check</td>\n",
       "      <td>29.85</td>\n",
       "      <td>31</td>\n",
       "      <td>0</td>\n",
       "      <td>31</td>\n",
       "    </tr>\n",
       "    <tr>\n",
       "      <th>1</th>\n",
       "      <td>5575-GNVDE</td>\n",
       "      <td>2017-04-01</td>\n",
       "      <td>2020-02-01</td>\n",
       "      <td>One year</td>\n",
       "      <td>No</td>\n",
       "      <td>Mailed check</td>\n",
       "      <td>56.95</td>\n",
       "      <td>2071</td>\n",
       "      <td>0</td>\n",
       "      <td>1036</td>\n",
       "    </tr>\n",
       "    <tr>\n",
       "      <th>2</th>\n",
       "      <td>3668-QPYBK</td>\n",
       "      <td>2019-10-01</td>\n",
       "      <td>2020-02-01</td>\n",
       "      <td>Month-to-month</td>\n",
       "      <td>Yes</td>\n",
       "      <td>Mailed check</td>\n",
       "      <td>53.85</td>\n",
       "      <td>226</td>\n",
       "      <td>0</td>\n",
       "      <td>123</td>\n",
       "    </tr>\n",
       "    <tr>\n",
       "      <th>3</th>\n",
       "      <td>7795-CFOCW</td>\n",
       "      <td>2016-05-01</td>\n",
       "      <td>2020-02-01</td>\n",
       "      <td>One year</td>\n",
       "      <td>No</td>\n",
       "      <td>Bank transfer (automatic)</td>\n",
       "      <td>42.30</td>\n",
       "      <td>1960</td>\n",
       "      <td>0</td>\n",
       "      <td>1371</td>\n",
       "    </tr>\n",
       "    <tr>\n",
       "      <th>4</th>\n",
       "      <td>9237-HQITU</td>\n",
       "      <td>2019-09-01</td>\n",
       "      <td>2020-02-01</td>\n",
       "      <td>Month-to-month</td>\n",
       "      <td>Yes</td>\n",
       "      <td>Electronic check</td>\n",
       "      <td>70.70</td>\n",
       "      <td>353</td>\n",
       "      <td>0</td>\n",
       "      <td>153</td>\n",
       "    </tr>\n",
       "  </tbody>\n",
       "</table>\n",
       "</div>"
      ],
      "text/plain": [
       "   customerID  BeginDate    EndDate            Type PaperlessBilling  \\\n",
       "0  7590-VHVEG 2020-01-01 2020-02-01  Month-to-month              Yes   \n",
       "1  5575-GNVDE 2017-04-01 2020-02-01        One year               No   \n",
       "2  3668-QPYBK 2019-10-01 2020-02-01  Month-to-month              Yes   \n",
       "3  7795-CFOCW 2016-05-01 2020-02-01        One year               No   \n",
       "4  9237-HQITU 2019-09-01 2020-02-01  Month-to-month              Yes   \n",
       "\n",
       "               PaymentMethod  MonthlyCharges  TotalCharges  left_company  \\\n",
       "0           Electronic check           29.85            31             0   \n",
       "1               Mailed check           56.95          2071             0   \n",
       "2               Mailed check           53.85           226             0   \n",
       "3  Bank transfer (automatic)           42.30          1960             0   \n",
       "4           Electronic check           70.70           353             0   \n",
       "\n",
       "   Count_days  \n",
       "0          31  \n",
       "1        1036  \n",
       "2         123  \n",
       "3        1371  \n",
       "4         153  "
      ]
     },
     "execution_count": 25,
     "metadata": {},
     "output_type": "execute_result"
    }
   ],
   "source": [
    "#проверяю наличие новой колонки и корректные даты\n",
    "contract.head()"
   ]
  },
  {
   "cell_type": "code",
   "execution_count": 26,
   "metadata": {},
   "outputs": [],
   "source": [
    "# приведем название колонок к нижнему регистру.\n",
    "contract.columns = contract.columns.str.lower()"
   ]
  },
  {
   "cell_type": "code",
   "execution_count": 27,
   "metadata": {},
   "outputs": [
    {
     "data": {
      "text/html": [
       "<div>\n",
       "<style scoped>\n",
       "    .dataframe tbody tr th:only-of-type {\n",
       "        vertical-align: middle;\n",
       "    }\n",
       "\n",
       "    .dataframe tbody tr th {\n",
       "        vertical-align: top;\n",
       "    }\n",
       "\n",
       "    .dataframe thead th {\n",
       "        text-align: right;\n",
       "    }\n",
       "</style>\n",
       "<table border=\"1\" class=\"dataframe\">\n",
       "  <thead>\n",
       "    <tr style=\"text-align: right;\">\n",
       "      <th></th>\n",
       "      <th>customerID</th>\n",
       "      <th>gender</th>\n",
       "      <th>SeniorCitizen</th>\n",
       "      <th>Partner</th>\n",
       "      <th>Dependents</th>\n",
       "    </tr>\n",
       "  </thead>\n",
       "  <tbody>\n",
       "    <tr>\n",
       "      <th>1113</th>\n",
       "      <td>7627-JKIAZ</td>\n",
       "      <td>Female</td>\n",
       "      <td>0</td>\n",
       "      <td>Yes</td>\n",
       "      <td>No</td>\n",
       "    </tr>\n",
       "    <tr>\n",
       "      <th>3252</th>\n",
       "      <td>1536-YHDOE</td>\n",
       "      <td>Male</td>\n",
       "      <td>0</td>\n",
       "      <td>Yes</td>\n",
       "      <td>Yes</td>\n",
       "    </tr>\n",
       "    <tr>\n",
       "      <th>4902</th>\n",
       "      <td>5092-STPKP</td>\n",
       "      <td>Female</td>\n",
       "      <td>0</td>\n",
       "      <td>No</td>\n",
       "      <td>No</td>\n",
       "    </tr>\n",
       "    <tr>\n",
       "      <th>261</th>\n",
       "      <td>3606-TWKGI</td>\n",
       "      <td>Male</td>\n",
       "      <td>1</td>\n",
       "      <td>No</td>\n",
       "      <td>No</td>\n",
       "    </tr>\n",
       "    <tr>\n",
       "      <th>1082</th>\n",
       "      <td>4367-NUYAO</td>\n",
       "      <td>Male</td>\n",
       "      <td>0</td>\n",
       "      <td>Yes</td>\n",
       "      <td>Yes</td>\n",
       "    </tr>\n",
       "    <tr>\n",
       "      <th>5163</th>\n",
       "      <td>3472-OAOOR</td>\n",
       "      <td>Male</td>\n",
       "      <td>0</td>\n",
       "      <td>Yes</td>\n",
       "      <td>Yes</td>\n",
       "    </tr>\n",
       "    <tr>\n",
       "      <th>1476</th>\n",
       "      <td>5067-DGXLL</td>\n",
       "      <td>Male</td>\n",
       "      <td>0</td>\n",
       "      <td>No</td>\n",
       "      <td>No</td>\n",
       "    </tr>\n",
       "    <tr>\n",
       "      <th>6989</th>\n",
       "      <td>1389-WNUIB</td>\n",
       "      <td>Female</td>\n",
       "      <td>0</td>\n",
       "      <td>Yes</td>\n",
       "      <td>Yes</td>\n",
       "    </tr>\n",
       "    <tr>\n",
       "      <th>3793</th>\n",
       "      <td>6278-FEPBZ</td>\n",
       "      <td>Female</td>\n",
       "      <td>0</td>\n",
       "      <td>No</td>\n",
       "      <td>No</td>\n",
       "    </tr>\n",
       "    <tr>\n",
       "      <th>2390</th>\n",
       "      <td>1226-JZNKR</td>\n",
       "      <td>Female</td>\n",
       "      <td>0</td>\n",
       "      <td>Yes</td>\n",
       "      <td>Yes</td>\n",
       "    </tr>\n",
       "    <tr>\n",
       "      <th>3090</th>\n",
       "      <td>2386-LAHRK</td>\n",
       "      <td>Male</td>\n",
       "      <td>0</td>\n",
       "      <td>No</td>\n",
       "      <td>No</td>\n",
       "    </tr>\n",
       "    <tr>\n",
       "      <th>3320</th>\n",
       "      <td>2195-VVRJF</td>\n",
       "      <td>Male</td>\n",
       "      <td>1</td>\n",
       "      <td>Yes</td>\n",
       "      <td>No</td>\n",
       "    </tr>\n",
       "    <tr>\n",
       "      <th>1170</th>\n",
       "      <td>9127-FHJBZ</td>\n",
       "      <td>Male</td>\n",
       "      <td>0</td>\n",
       "      <td>Yes</td>\n",
       "      <td>Yes</td>\n",
       "    </tr>\n",
       "    <tr>\n",
       "      <th>2159</th>\n",
       "      <td>8007-YYPWD</td>\n",
       "      <td>Female</td>\n",
       "      <td>0</td>\n",
       "      <td>No</td>\n",
       "      <td>No</td>\n",
       "    </tr>\n",
       "    <tr>\n",
       "      <th>4470</th>\n",
       "      <td>8242-JSVBO</td>\n",
       "      <td>Male</td>\n",
       "      <td>0</td>\n",
       "      <td>No</td>\n",
       "      <td>No</td>\n",
       "    </tr>\n",
       "  </tbody>\n",
       "</table>\n",
       "</div>"
      ],
      "text/plain": [
       "      customerID  gender  SeniorCitizen Partner Dependents\n",
       "1113  7627-JKIAZ  Female              0     Yes         No\n",
       "3252  1536-YHDOE    Male              0     Yes        Yes\n",
       "4902  5092-STPKP  Female              0      No         No\n",
       "261   3606-TWKGI    Male              1      No         No\n",
       "1082  4367-NUYAO    Male              0     Yes        Yes\n",
       "5163  3472-OAOOR    Male              0     Yes        Yes\n",
       "1476  5067-DGXLL    Male              0      No         No\n",
       "6989  1389-WNUIB  Female              0     Yes        Yes\n",
       "3793  6278-FEPBZ  Female              0      No         No\n",
       "2390  1226-JZNKR  Female              0     Yes        Yes\n",
       "3090  2386-LAHRK    Male              0      No         No\n",
       "3320  2195-VVRJF    Male              1     Yes         No\n",
       "1170  9127-FHJBZ    Male              0     Yes        Yes\n",
       "2159  8007-YYPWD  Female              0      No         No\n",
       "4470  8242-JSVBO    Male              0      No         No"
      ]
     },
     "execution_count": 27,
     "metadata": {},
     "output_type": "execute_result"
    }
   ],
   "source": [
    "#перейдем к персональным данным\n",
    "personal.sample(15)"
   ]
  },
  {
   "cell_type": "code",
   "execution_count": 28,
   "metadata": {},
   "outputs": [],
   "source": [
    "#  сразу приведем название колонок к нижнему регистру.\n",
    "personal.columns = personal.columns.str.lower()"
   ]
  },
  {
   "cell_type": "code",
   "execution_count": 29,
   "metadata": {},
   "outputs": [
    {
     "data": {
      "text/html": [
       "<div>\n",
       "<style scoped>\n",
       "    .dataframe tbody tr th:only-of-type {\n",
       "        vertical-align: middle;\n",
       "    }\n",
       "\n",
       "    .dataframe tbody tr th {\n",
       "        vertical-align: top;\n",
       "    }\n",
       "\n",
       "    .dataframe thead th {\n",
       "        text-align: right;\n",
       "    }\n",
       "</style>\n",
       "<table border=\"1\" class=\"dataframe\">\n",
       "  <thead>\n",
       "    <tr style=\"text-align: right;\">\n",
       "      <th></th>\n",
       "      <th>customerID</th>\n",
       "      <th>InternetService</th>\n",
       "      <th>OnlineSecurity</th>\n",
       "      <th>OnlineBackup</th>\n",
       "      <th>DeviceProtection</th>\n",
       "      <th>TechSupport</th>\n",
       "      <th>StreamingTV</th>\n",
       "      <th>StreamingMovies</th>\n",
       "    </tr>\n",
       "  </thead>\n",
       "  <tbody>\n",
       "    <tr>\n",
       "      <th>2962</th>\n",
       "      <td>4958-XCBDQ</td>\n",
       "      <td>Fiber optic</td>\n",
       "      <td>No</td>\n",
       "      <td>No</td>\n",
       "      <td>Yes</td>\n",
       "      <td>No</td>\n",
       "      <td>Yes</td>\n",
       "      <td>Yes</td>\n",
       "    </tr>\n",
       "    <tr>\n",
       "      <th>230</th>\n",
       "      <td>3808-HFKDE</td>\n",
       "      <td>DSL</td>\n",
       "      <td>No</td>\n",
       "      <td>No</td>\n",
       "      <td>No</td>\n",
       "      <td>No</td>\n",
       "      <td>No</td>\n",
       "      <td>No</td>\n",
       "    </tr>\n",
       "    <tr>\n",
       "      <th>388</th>\n",
       "      <td>4612-SSVHJ</td>\n",
       "      <td>Fiber optic</td>\n",
       "      <td>No</td>\n",
       "      <td>No</td>\n",
       "      <td>No</td>\n",
       "      <td>No</td>\n",
       "      <td>No</td>\n",
       "      <td>Yes</td>\n",
       "    </tr>\n",
       "    <tr>\n",
       "      <th>1250</th>\n",
       "      <td>9254-RBFON</td>\n",
       "      <td>Fiber optic</td>\n",
       "      <td>No</td>\n",
       "      <td>No</td>\n",
       "      <td>Yes</td>\n",
       "      <td>Yes</td>\n",
       "      <td>Yes</td>\n",
       "      <td>Yes</td>\n",
       "    </tr>\n",
       "    <tr>\n",
       "      <th>701</th>\n",
       "      <td>0207-MDKNV</td>\n",
       "      <td>Fiber optic</td>\n",
       "      <td>Yes</td>\n",
       "      <td>No</td>\n",
       "      <td>Yes</td>\n",
       "      <td>Yes</td>\n",
       "      <td>Yes</td>\n",
       "      <td>Yes</td>\n",
       "    </tr>\n",
       "    <tr>\n",
       "      <th>2029</th>\n",
       "      <td>3969-JQABI</td>\n",
       "      <td>DSL</td>\n",
       "      <td>Yes</td>\n",
       "      <td>Yes</td>\n",
       "      <td>No</td>\n",
       "      <td>No</td>\n",
       "      <td>Yes</td>\n",
       "      <td>No</td>\n",
       "    </tr>\n",
       "    <tr>\n",
       "      <th>2038</th>\n",
       "      <td>8325-QRPZR</td>\n",
       "      <td>Fiber optic</td>\n",
       "      <td>No</td>\n",
       "      <td>No</td>\n",
       "      <td>Yes</td>\n",
       "      <td>No</td>\n",
       "      <td>No</td>\n",
       "      <td>No</td>\n",
       "    </tr>\n",
       "    <tr>\n",
       "      <th>3361</th>\n",
       "      <td>9134-WYRVP</td>\n",
       "      <td>Fiber optic</td>\n",
       "      <td>Yes</td>\n",
       "      <td>No</td>\n",
       "      <td>No</td>\n",
       "      <td>No</td>\n",
       "      <td>Yes</td>\n",
       "      <td>No</td>\n",
       "    </tr>\n",
       "    <tr>\n",
       "      <th>1961</th>\n",
       "      <td>9921-ZVRHG</td>\n",
       "      <td>Fiber optic</td>\n",
       "      <td>No</td>\n",
       "      <td>No</td>\n",
       "      <td>Yes</td>\n",
       "      <td>No</td>\n",
       "      <td>No</td>\n",
       "      <td>No</td>\n",
       "    </tr>\n",
       "    <tr>\n",
       "      <th>5044</th>\n",
       "      <td>3256-EZDBI</td>\n",
       "      <td>DSL</td>\n",
       "      <td>No</td>\n",
       "      <td>Yes</td>\n",
       "      <td>No</td>\n",
       "      <td>No</td>\n",
       "      <td>No</td>\n",
       "      <td>No</td>\n",
       "    </tr>\n",
       "    <tr>\n",
       "      <th>35</th>\n",
       "      <td>8865-TNMNX</td>\n",
       "      <td>DSL</td>\n",
       "      <td>No</td>\n",
       "      <td>Yes</td>\n",
       "      <td>No</td>\n",
       "      <td>No</td>\n",
       "      <td>No</td>\n",
       "      <td>No</td>\n",
       "    </tr>\n",
       "    <tr>\n",
       "      <th>4450</th>\n",
       "      <td>5327-XOKKY</td>\n",
       "      <td>DSL</td>\n",
       "      <td>No</td>\n",
       "      <td>No</td>\n",
       "      <td>Yes</td>\n",
       "      <td>No</td>\n",
       "      <td>Yes</td>\n",
       "      <td>Yes</td>\n",
       "    </tr>\n",
       "    <tr>\n",
       "      <th>1690</th>\n",
       "      <td>8894-JVDCV</td>\n",
       "      <td>Fiber optic</td>\n",
       "      <td>Yes</td>\n",
       "      <td>Yes</td>\n",
       "      <td>Yes</td>\n",
       "      <td>Yes</td>\n",
       "      <td>Yes</td>\n",
       "      <td>Yes</td>\n",
       "    </tr>\n",
       "    <tr>\n",
       "      <th>3219</th>\n",
       "      <td>2190-PHBHR</td>\n",
       "      <td>Fiber optic</td>\n",
       "      <td>Yes</td>\n",
       "      <td>Yes</td>\n",
       "      <td>No</td>\n",
       "      <td>No</td>\n",
       "      <td>No</td>\n",
       "      <td>Yes</td>\n",
       "    </tr>\n",
       "    <tr>\n",
       "      <th>5021</th>\n",
       "      <td>6332-FBZRI</td>\n",
       "      <td>DSL</td>\n",
       "      <td>Yes</td>\n",
       "      <td>Yes</td>\n",
       "      <td>Yes</td>\n",
       "      <td>Yes</td>\n",
       "      <td>No</td>\n",
       "      <td>No</td>\n",
       "    </tr>\n",
       "  </tbody>\n",
       "</table>\n",
       "</div>"
      ],
      "text/plain": [
       "      customerID InternetService OnlineSecurity OnlineBackup DeviceProtection  \\\n",
       "2962  4958-XCBDQ     Fiber optic             No           No              Yes   \n",
       "230   3808-HFKDE             DSL             No           No               No   \n",
       "388   4612-SSVHJ     Fiber optic             No           No               No   \n",
       "1250  9254-RBFON     Fiber optic             No           No              Yes   \n",
       "701   0207-MDKNV     Fiber optic            Yes           No              Yes   \n",
       "2029  3969-JQABI             DSL            Yes          Yes               No   \n",
       "2038  8325-QRPZR     Fiber optic             No           No              Yes   \n",
       "3361  9134-WYRVP     Fiber optic            Yes           No               No   \n",
       "1961  9921-ZVRHG     Fiber optic             No           No              Yes   \n",
       "5044  3256-EZDBI             DSL             No          Yes               No   \n",
       "35    8865-TNMNX             DSL             No          Yes               No   \n",
       "4450  5327-XOKKY             DSL             No           No              Yes   \n",
       "1690  8894-JVDCV     Fiber optic            Yes          Yes              Yes   \n",
       "3219  2190-PHBHR     Fiber optic            Yes          Yes               No   \n",
       "5021  6332-FBZRI             DSL            Yes          Yes              Yes   \n",
       "\n",
       "     TechSupport StreamingTV StreamingMovies  \n",
       "2962          No         Yes             Yes  \n",
       "230           No          No              No  \n",
       "388           No          No             Yes  \n",
       "1250         Yes         Yes             Yes  \n",
       "701          Yes         Yes             Yes  \n",
       "2029          No         Yes              No  \n",
       "2038          No          No              No  \n",
       "3361          No         Yes              No  \n",
       "1961          No          No              No  \n",
       "5044          No          No              No  \n",
       "35            No          No              No  \n",
       "4450          No         Yes             Yes  \n",
       "1690         Yes         Yes             Yes  \n",
       "3219          No          No             Yes  \n",
       "5021         Yes          No              No  "
      ]
     },
     "execution_count": 29,
     "metadata": {},
     "output_type": "execute_result"
    }
   ],
   "source": [
    "#пойдем к следующей таблице internet\n",
    "internet.sample(15)"
   ]
  },
  {
   "cell_type": "code",
   "execution_count": 30,
   "metadata": {},
   "outputs": [],
   "source": [
    "#  сразу приведем название колонок к нижнему регистру.\n",
    "internet.columns = internet.columns.str.lower()"
   ]
  },
  {
   "cell_type": "code",
   "execution_count": 31,
   "metadata": {},
   "outputs": [
    {
     "data": {
      "text/html": [
       "<div>\n",
       "<style scoped>\n",
       "    .dataframe tbody tr th:only-of-type {\n",
       "        vertical-align: middle;\n",
       "    }\n",
       "\n",
       "    .dataframe tbody tr th {\n",
       "        vertical-align: top;\n",
       "    }\n",
       "\n",
       "    .dataframe thead th {\n",
       "        text-align: right;\n",
       "    }\n",
       "</style>\n",
       "<table border=\"1\" class=\"dataframe\">\n",
       "  <thead>\n",
       "    <tr style=\"text-align: right;\">\n",
       "      <th></th>\n",
       "      <th>customerID</th>\n",
       "      <th>MultipleLines</th>\n",
       "    </tr>\n",
       "  </thead>\n",
       "  <tbody>\n",
       "    <tr>\n",
       "      <th>5099</th>\n",
       "      <td>4619-EVPHY</td>\n",
       "      <td>No</td>\n",
       "    </tr>\n",
       "    <tr>\n",
       "      <th>3788</th>\n",
       "      <td>4685-TFLLS</td>\n",
       "      <td>No</td>\n",
       "    </tr>\n",
       "    <tr>\n",
       "      <th>3316</th>\n",
       "      <td>9738-QLWTP</td>\n",
       "      <td>No</td>\n",
       "    </tr>\n",
       "    <tr>\n",
       "      <th>809</th>\n",
       "      <td>8975-SKGRX</td>\n",
       "      <td>Yes</td>\n",
       "    </tr>\n",
       "    <tr>\n",
       "      <th>6288</th>\n",
       "      <td>3078-ZKNTS</td>\n",
       "      <td>No</td>\n",
       "    </tr>\n",
       "    <tr>\n",
       "      <th>2229</th>\n",
       "      <td>1254-IZEYF</td>\n",
       "      <td>Yes</td>\n",
       "    </tr>\n",
       "    <tr>\n",
       "      <th>4285</th>\n",
       "      <td>7550-WIQVA</td>\n",
       "      <td>Yes</td>\n",
       "    </tr>\n",
       "    <tr>\n",
       "      <th>5686</th>\n",
       "      <td>0489-WMEMG</td>\n",
       "      <td>No</td>\n",
       "    </tr>\n",
       "    <tr>\n",
       "      <th>5068</th>\n",
       "      <td>1998-VHJHK</td>\n",
       "      <td>No</td>\n",
       "    </tr>\n",
       "    <tr>\n",
       "      <th>5721</th>\n",
       "      <td>0547-HURJB</td>\n",
       "      <td>No</td>\n",
       "    </tr>\n",
       "    <tr>\n",
       "      <th>4983</th>\n",
       "      <td>0196-VULGZ</td>\n",
       "      <td>Yes</td>\n",
       "    </tr>\n",
       "    <tr>\n",
       "      <th>3599</th>\n",
       "      <td>7225-CBZPL</td>\n",
       "      <td>Yes</td>\n",
       "    </tr>\n",
       "    <tr>\n",
       "      <th>1935</th>\n",
       "      <td>9805-FILKB</td>\n",
       "      <td>No</td>\n",
       "    </tr>\n",
       "    <tr>\n",
       "      <th>840</th>\n",
       "      <td>0862-PRCBS</td>\n",
       "      <td>Yes</td>\n",
       "    </tr>\n",
       "    <tr>\n",
       "      <th>5605</th>\n",
       "      <td>8033-VCZGH</td>\n",
       "      <td>Yes</td>\n",
       "    </tr>\n",
       "  </tbody>\n",
       "</table>\n",
       "</div>"
      ],
      "text/plain": [
       "      customerID MultipleLines\n",
       "5099  4619-EVPHY            No\n",
       "3788  4685-TFLLS            No\n",
       "3316  9738-QLWTP            No\n",
       "809   8975-SKGRX           Yes\n",
       "6288  3078-ZKNTS            No\n",
       "2229  1254-IZEYF           Yes\n",
       "4285  7550-WIQVA           Yes\n",
       "5686  0489-WMEMG            No\n",
       "5068  1998-VHJHK            No\n",
       "5721  0547-HURJB            No\n",
       "4983  0196-VULGZ           Yes\n",
       "3599  7225-CBZPL           Yes\n",
       "1935  9805-FILKB            No\n",
       "840   0862-PRCBS           Yes\n",
       "5605  8033-VCZGH           Yes"
      ]
     },
     "execution_count": 31,
     "metadata": {},
     "output_type": "execute_result"
    }
   ],
   "source": [
    "phone.sample(15)"
   ]
  },
  {
   "cell_type": "code",
   "execution_count": 32,
   "metadata": {},
   "outputs": [],
   "source": [
    "#  приведем название колонок к нижнему регистру.\n",
    "phone.columns = phone.columns.str.lower()"
   ]
  },
  {
   "cell_type": "code",
   "execution_count": 33,
   "metadata": {},
   "outputs": [],
   "source": [
    "# объединим данные\n",
    "#common_df = (contract.merge(personal, on =['customerid'], how='left'))\n",
    "#common_df.shape"
   ]
  },
  {
   "cell_type": "code",
   "execution_count": 34,
   "metadata": {},
   "outputs": [],
   "source": [
    "#common_df.info()"
   ]
  },
  {
   "cell_type": "markdown",
   "metadata": {},
   "source": [
    "по указанным замечаниям объединю все таблицы сразу и посмотрю что еще обработать, с учетом указанной задачи бинарной классификации."
   ]
  },
  {
   "cell_type": "code",
   "execution_count": 35,
   "metadata": {},
   "outputs": [
    {
     "data": {
      "text/plain": [
       "True"
      ]
     },
     "metadata": {},
     "output_type": "display_data"
    },
    {
     "data": {
      "text/plain": [
       "True"
      ]
     },
     "metadata": {},
     "output_type": "display_data"
    },
    {
     "data": {
      "text/html": [
       "<div>\n",
       "<style scoped>\n",
       "    .dataframe tbody tr th:only-of-type {\n",
       "        vertical-align: middle;\n",
       "    }\n",
       "\n",
       "    .dataframe tbody tr th {\n",
       "        vertical-align: top;\n",
       "    }\n",
       "\n",
       "    .dataframe thead th {\n",
       "        text-align: right;\n",
       "    }\n",
       "</style>\n",
       "<table border=\"1\" class=\"dataframe\">\n",
       "  <thead>\n",
       "    <tr style=\"text-align: right;\">\n",
       "      <th></th>\n",
       "      <th>customerid</th>\n",
       "      <th>begindate</th>\n",
       "      <th>enddate</th>\n",
       "      <th>type</th>\n",
       "      <th>paperlessbilling</th>\n",
       "      <th>paymentmethod</th>\n",
       "      <th>monthlycharges</th>\n",
       "      <th>totalcharges</th>\n",
       "      <th>left_company</th>\n",
       "      <th>count_days</th>\n",
       "      <th>...</th>\n",
       "      <th>partner</th>\n",
       "      <th>dependents</th>\n",
       "      <th>internetservice</th>\n",
       "      <th>onlinesecurity</th>\n",
       "      <th>onlinebackup</th>\n",
       "      <th>deviceprotection</th>\n",
       "      <th>techsupport</th>\n",
       "      <th>streamingtv</th>\n",
       "      <th>streamingmovies</th>\n",
       "      <th>multiplelines</th>\n",
       "    </tr>\n",
       "  </thead>\n",
       "  <tbody>\n",
       "    <tr>\n",
       "      <th>0</th>\n",
       "      <td>7590-VHVEG</td>\n",
       "      <td>2020-01-01</td>\n",
       "      <td>2020-02-01</td>\n",
       "      <td>Month-to-month</td>\n",
       "      <td>Yes</td>\n",
       "      <td>Electronic check</td>\n",
       "      <td>29.85</td>\n",
       "      <td>31</td>\n",
       "      <td>0</td>\n",
       "      <td>31</td>\n",
       "      <td>...</td>\n",
       "      <td>Yes</td>\n",
       "      <td>No</td>\n",
       "      <td>DSL</td>\n",
       "      <td>No</td>\n",
       "      <td>Yes</td>\n",
       "      <td>No</td>\n",
       "      <td>No</td>\n",
       "      <td>No</td>\n",
       "      <td>No</td>\n",
       "      <td>NaN</td>\n",
       "    </tr>\n",
       "    <tr>\n",
       "      <th>1</th>\n",
       "      <td>5575-GNVDE</td>\n",
       "      <td>2017-04-01</td>\n",
       "      <td>2020-02-01</td>\n",
       "      <td>One year</td>\n",
       "      <td>No</td>\n",
       "      <td>Mailed check</td>\n",
       "      <td>56.95</td>\n",
       "      <td>2071</td>\n",
       "      <td>0</td>\n",
       "      <td>1036</td>\n",
       "      <td>...</td>\n",
       "      <td>No</td>\n",
       "      <td>No</td>\n",
       "      <td>DSL</td>\n",
       "      <td>Yes</td>\n",
       "      <td>No</td>\n",
       "      <td>Yes</td>\n",
       "      <td>No</td>\n",
       "      <td>No</td>\n",
       "      <td>No</td>\n",
       "      <td>No</td>\n",
       "    </tr>\n",
       "    <tr>\n",
       "      <th>2</th>\n",
       "      <td>3668-QPYBK</td>\n",
       "      <td>2019-10-01</td>\n",
       "      <td>2020-02-01</td>\n",
       "      <td>Month-to-month</td>\n",
       "      <td>Yes</td>\n",
       "      <td>Mailed check</td>\n",
       "      <td>53.85</td>\n",
       "      <td>226</td>\n",
       "      <td>0</td>\n",
       "      <td>123</td>\n",
       "      <td>...</td>\n",
       "      <td>No</td>\n",
       "      <td>No</td>\n",
       "      <td>DSL</td>\n",
       "      <td>Yes</td>\n",
       "      <td>Yes</td>\n",
       "      <td>No</td>\n",
       "      <td>No</td>\n",
       "      <td>No</td>\n",
       "      <td>No</td>\n",
       "      <td>No</td>\n",
       "    </tr>\n",
       "    <tr>\n",
       "      <th>3</th>\n",
       "      <td>7795-CFOCW</td>\n",
       "      <td>2016-05-01</td>\n",
       "      <td>2020-02-01</td>\n",
       "      <td>One year</td>\n",
       "      <td>No</td>\n",
       "      <td>Bank transfer (automatic)</td>\n",
       "      <td>42.30</td>\n",
       "      <td>1960</td>\n",
       "      <td>0</td>\n",
       "      <td>1371</td>\n",
       "      <td>...</td>\n",
       "      <td>No</td>\n",
       "      <td>No</td>\n",
       "      <td>DSL</td>\n",
       "      <td>Yes</td>\n",
       "      <td>No</td>\n",
       "      <td>Yes</td>\n",
       "      <td>Yes</td>\n",
       "      <td>No</td>\n",
       "      <td>No</td>\n",
       "      <td>NaN</td>\n",
       "    </tr>\n",
       "    <tr>\n",
       "      <th>4</th>\n",
       "      <td>9237-HQITU</td>\n",
       "      <td>2019-09-01</td>\n",
       "      <td>2020-02-01</td>\n",
       "      <td>Month-to-month</td>\n",
       "      <td>Yes</td>\n",
       "      <td>Electronic check</td>\n",
       "      <td>70.70</td>\n",
       "      <td>353</td>\n",
       "      <td>0</td>\n",
       "      <td>153</td>\n",
       "      <td>...</td>\n",
       "      <td>No</td>\n",
       "      <td>No</td>\n",
       "      <td>Fiber optic</td>\n",
       "      <td>No</td>\n",
       "      <td>No</td>\n",
       "      <td>No</td>\n",
       "      <td>No</td>\n",
       "      <td>No</td>\n",
       "      <td>No</td>\n",
       "      <td>No</td>\n",
       "    </tr>\n",
       "  </tbody>\n",
       "</table>\n",
       "<p>5 rows × 22 columns</p>\n",
       "</div>"
      ],
      "text/plain": [
       "   customerid  begindate    enddate            type paperlessbilling  \\\n",
       "0  7590-VHVEG 2020-01-01 2020-02-01  Month-to-month              Yes   \n",
       "1  5575-GNVDE 2017-04-01 2020-02-01        One year               No   \n",
       "2  3668-QPYBK 2019-10-01 2020-02-01  Month-to-month              Yes   \n",
       "3  7795-CFOCW 2016-05-01 2020-02-01        One year               No   \n",
       "4  9237-HQITU 2019-09-01 2020-02-01  Month-to-month              Yes   \n",
       "\n",
       "               paymentmethod  monthlycharges  totalcharges  left_company  \\\n",
       "0           Electronic check           29.85            31             0   \n",
       "1               Mailed check           56.95          2071             0   \n",
       "2               Mailed check           53.85           226             0   \n",
       "3  Bank transfer (automatic)           42.30          1960             0   \n",
       "4           Electronic check           70.70           353             0   \n",
       "\n",
       "   count_days  ... partner  dependents internetservice onlinesecurity  \\\n",
       "0          31  ...     Yes          No             DSL             No   \n",
       "1        1036  ...      No          No             DSL            Yes   \n",
       "2         123  ...      No          No             DSL            Yes   \n",
       "3        1371  ...      No          No             DSL            Yes   \n",
       "4         153  ...      No          No     Fiber optic             No   \n",
       "\n",
       "  onlinebackup deviceprotection techsupport streamingtv streamingmovies  \\\n",
       "0          Yes               No          No          No              No   \n",
       "1           No              Yes          No          No              No   \n",
       "2          Yes               No          No          No              No   \n",
       "3           No              Yes         Yes          No              No   \n",
       "4           No               No          No          No              No   \n",
       "\n",
       "  multiplelines  \n",
       "0           NaN  \n",
       "1            No  \n",
       "2            No  \n",
       "3           NaN  \n",
       "4            No  \n",
       "\n",
       "[5 rows x 22 columns]"
      ]
     },
     "metadata": {},
     "output_type": "display_data"
    }
   ],
   "source": [
    "#объединим все таблицы\n",
    "df= contract.merge(personal, how='left', on='customerid')\n",
    "df = df.merge(internet, how='left', on='customerid')\n",
    "final_df = df.merge(phone, how='left', on='customerid')\n",
    "\n",
    "# проверим, что никакие столбцы не потерялись за вычетом customer_id из трех таблиц\n",
    "display(final_df.shape[1] == contract.shape[1] + personal.shape[1] - 1 + internet.shape[1] - 1 + phone.shape[1] - 1)\n",
    "\n",
    "# убедимся, что все контракты отобразятся в новой таблице\n",
    "display(final_df.shape[0] == contract.shape[0])\n",
    "\n",
    "# посмотрим информацию по объединенной таблице\n",
    "display(final_df.head())"
   ]
  },
  {
   "cell_type": "code",
   "execution_count": 36,
   "metadata": {},
   "outputs": [
    {
     "data": {
      "text/plain": [
       "customerid             0\n",
       "begindate              0\n",
       "enddate                0\n",
       "type                   0\n",
       "paperlessbilling       0\n",
       "paymentmethod          0\n",
       "monthlycharges         0\n",
       "totalcharges           0\n",
       "left_company           0\n",
       "count_days             0\n",
       "gender                 0\n",
       "seniorcitizen          0\n",
       "partner                0\n",
       "dependents             0\n",
       "internetservice     1526\n",
       "onlinesecurity      1526\n",
       "onlinebackup        1526\n",
       "deviceprotection    1526\n",
       "techsupport         1526\n",
       "streamingtv         1526\n",
       "streamingmovies     1526\n",
       "multiplelines        682\n",
       "dtype: int64"
      ]
     },
     "execution_count": 36,
     "metadata": {},
     "output_type": "execute_result"
    }
   ],
   "source": [
    "#проверим пропуски \n",
    "final_df.isna().sum()"
   ]
  },
  {
   "cell_type": "markdown",
   "metadata": {},
   "source": [
    "в общей таблице видим достаточно много пропусков, они появились в столбцах с информацией об интернет-услугах: 1526\n",
    "Пропусков в столбцах с информацией о телефонии: 682\n",
    "Видим, что пропуски после объединения таблиц появились только в колонках с информацией о дополнительных услугах. Как мы уже отмечали выше, из 7032 контрактов только 5517 пользователей пользуется интернет-услугами и 6361 телефонией, что соответствует образовавшимся пропускам\n",
    "\n",
    "Все столбцы с информацией о доп.услугах бинарные, содержат значения Yes или No, поэтому пропущенные значения можно заполнить значением No, то есть отсутствие доп.услуги"
   ]
  },
  {
   "cell_type": "markdown",
   "metadata": {},
   "source": [
    "Дополнительно рассмотрим содержимое столбцов internet_service и multiple_lines"
   ]
  },
  {
   "cell_type": "code",
   "execution_count": 37,
   "metadata": {},
   "outputs": [
    {
     "data": {
      "text/plain": [
       "Fiber optic    3096\n",
       "DSL            2421\n",
       "Name: internetservice, dtype: int64"
      ]
     },
     "metadata": {},
     "output_type": "display_data"
    },
    {
     "data": {
      "text/plain": [
       "No     3390\n",
       "Yes    2971\n",
       "Name: multiplelines, dtype: int64"
      ]
     },
     "metadata": {},
     "output_type": "display_data"
    }
   ],
   "source": [
    "display(final_df['internetservice'].value_counts())\n",
    "display(final_df['multiplelines'].value_counts())"
   ]
  },
  {
   "cell_type": "markdown",
   "metadata": {},
   "source": [
    "У нас два типа подключения к интернету: через телефонную линию (DSL) и оптоволоконный кабель (Fiber optic). Поэтому пропуски также можем заполнить заполнить значением No, что будет означать отсутствие подключения\n",
    "\n",
    "Особое внимание стоит обратить на столбец с пропусками multiple_lines – наличие возможности ведения параллельных линий во время звонка. Если клиент не воспользовался услугой телефонии, значит у него по умолчанию нет никаких звонков, поэтому стоит заменить пропущенные значения заглушкой (Abs), отличной от Yes или No."
   ]
  },
  {
   "cell_type": "code",
   "execution_count": 38,
   "metadata": {},
   "outputs": [],
   "source": [
    "#заменим пропуски на NO  и поставим заглушку\n",
    "columns_miss = ['internetservice', 'onlinesecurity', 'onlinebackup', 'deviceprotection',\n",
    "                'techsupport', 'streamingtv', 'streamingmovies']\n",
    "\n",
    "for column in columns_miss:\n",
    "    final_df[column] = final_df[column].fillna('No')\n",
    "    \n",
    "final_df['multiplelines'] = final_df['multiplelines'].fillna('Abs')"
   ]
  },
  {
   "cell_type": "code",
   "execution_count": 39,
   "metadata": {},
   "outputs": [
    {
     "name": "stdout",
     "output_type": "stream",
     "text": [
      "<class 'pandas.core.frame.DataFrame'>\n",
      "Int64Index: 7043 entries, 0 to 7042\n",
      "Data columns (total 22 columns):\n",
      " #   Column            Non-Null Count  Dtype         \n",
      "---  ------            --------------  -----         \n",
      " 0   customerid        7043 non-null   object        \n",
      " 1   begindate         7043 non-null   datetime64[ns]\n",
      " 2   enddate           7043 non-null   datetime64[ns]\n",
      " 3   type              7043 non-null   object        \n",
      " 4   paperlessbilling  7043 non-null   object        \n",
      " 5   paymentmethod     7043 non-null   object        \n",
      " 6   monthlycharges    7043 non-null   float64       \n",
      " 7   totalcharges      7043 non-null   int64         \n",
      " 8   left_company      7043 non-null   int64         \n",
      " 9   count_days        7043 non-null   int64         \n",
      " 10  gender            7043 non-null   object        \n",
      " 11  seniorcitizen     7043 non-null   int64         \n",
      " 12  partner           7043 non-null   object        \n",
      " 13  dependents        7043 non-null   object        \n",
      " 14  internetservice   7043 non-null   object        \n",
      " 15  onlinesecurity    7043 non-null   object        \n",
      " 16  onlinebackup      7043 non-null   object        \n",
      " 17  deviceprotection  7043 non-null   object        \n",
      " 18  techsupport       7043 non-null   object        \n",
      " 19  streamingtv       7043 non-null   object        \n",
      " 20  streamingmovies   7043 non-null   object        \n",
      " 21  multiplelines     7043 non-null   object        \n",
      "dtypes: datetime64[ns](2), float64(1), int64(4), object(15)\n",
      "memory usage: 1.2+ MB\n"
     ]
    }
   ],
   "source": [
    "#посмотрим на таблицу\n",
    "final_df.info()"
   ]
  },
  {
   "cell_type": "markdown",
   "metadata": {},
   "source": [
    " теперь добавим признак, посмотрим последнюю загруженную дату начала договора и содержимое признака end_date. Отберём целевой признак в отдельный столбец left_company столбцы BeginDate и EndDate уже преобразовалии привели  к  формату даты. Так же мы помним, что выгрузка совершалась 1 февраля 2020 года, следовательно, вместо \"No\" в столбце EndDate, заменим всё на дату выгрузки. "
   ]
  },
  {
   "cell_type": "code",
   "execution_count": 40,
   "metadata": {},
   "outputs": [
    {
     "data": {
      "text/plain": [
       "0    5942\n",
       "1    1101\n",
       "Name: left_company, dtype: int64"
      ]
     },
     "execution_count": 40,
     "metadata": {},
     "output_type": "execute_result"
    }
   ],
   "source": [
    "# расторгнутые  договоры будут иметь значение 1, а False (действующие договоры) будут равны 0 '''\n",
    "\n",
    "# правка тимлида для объяснения\n",
    "# final_df['left_company'] = (final_df['enddate'] != '2020-02-01') * 1\n",
    "\n",
    "#проверяю количество действующих контрактов, должно быть 5942 \n",
    "final_df['left_company'].value_counts()"
   ]
  },
  {
   "cell_type": "code",
   "execution_count": 41,
   "metadata": {},
   "outputs": [
    {
     "data": {
      "image/png": "[encoded data removed]",
      "text/plain": [
       "<Figure size 720x576 with 1 Axes>"
      ]
     },
     "metadata": {},
     "output_type": "display_data"
    }
   ],
   "source": [
    "final_df.left_company.value_counts().plot(kind='pie', autopct='%1.1f%%', shadow=True)\n",
    "plt.legend(['не ушел', 'ушёл'])\n",
    "plt.title('Распределение целевого признака')\n",
    "plt.tight_layout();\n",
    "plt.axis('off');"
   ]
  },
  {
   "cell_type": "markdown",
   "metadata": {},
   "source": [
    "Наблюдаем дисбаланс классов с перевесом в пользу действующих договоров. При обучении алгоритмов решим проблему дисбаланса с помощью параметра class_weight='balanced', который автоматически вычисляет веса классов, пропорциональных количеству наблюдений в каждом классе. "
   ]
  },
  {
   "cell_type": "code",
   "execution_count": 42,
   "metadata": {},
   "outputs": [],
   "source": [
    "#sns.pairplot(common_df, hue='left_company');"
   ]
  },
  {
   "cell_type": "code",
   "execution_count": 43,
   "metadata": {},
   "outputs": [],
   "source": [
    "# Проведем анализ данных по признаку 'left_company', построим диаграммы и посмотрим на них\n",
    "def make_histplot(column, title, xlabel):\n",
    "    plt.figure(figsize=(6, 4))\n",
    "    sns.histplot(final_df, x = column, hue = 'left_company', multiple = 'stack', bins=25)\n",
    "    plt.title(title, fontsize=18)\n",
    "    plt.xlabel(xlabel, fontsize=15)\n",
    "    plt.ylabel('Количество клиентов', fontsize=15)\n",
    "    plt.show();"
   ]
  },
  {
   "cell_type": "code",
   "execution_count": 44,
   "metadata": {},
   "outputs": [
    {
     "data": {
      "image/png": "[encoded data removed]",
      "text/plain": [
       "<Figure size 432x288 with 1 Axes>"
      ]
     },
     "metadata": {
      "needs_background": "light"
     },
     "output_type": "display_data"
    },
    {
     "data": {
      "image/png": "[encoded data removed]",
      "text/plain": [
       "<Figure size 432x288 with 1 Axes>"
      ]
     },
     "metadata": {
      "needs_background": "light"
     },
     "output_type": "display_data"
    }
   ],
   "source": [
    "# строим распределение клиентов по размеру ежемесячных плат и годовых\n",
    "make_histplot('monthlycharges', \n",
    "              'Распределение клиентов по размеру ежемесячных трат', \n",
    "              'Размер ежемесячных трат')\n",
    "make_histplot('totalcharges', \n",
    "              'Распределение клиентов по размеру итоговых трат', \n",
    "              'Размер итоговых трат')"
   ]
  },
  {
   "cell_type": "markdown",
   "metadata": {},
   "source": [
    "Выделяются ушедшие клиенты, которые потратили от 80 до 105 y.e. Возможно они не знали о каких-либо выгодных условиях, и ушли к другому оператору с более дешевыми услугами\n",
    "Большое количество действующих клиентов потратили на услуги оператора связи не более 20 y.e., но в целом распределение затрат среди действующих клиентов находится в диапазоне от 40 до 100 y.e."
   ]
  },
  {
   "cell_type": "code",
   "execution_count": 45,
   "metadata": {},
   "outputs": [
    {
     "data": {
      "text/plain": [
       "<Figure size 432x288 with 0 Axes>"
      ]
     },
     "metadata": {},
     "output_type": "display_data"
    },
    {
     "data": {
      "image/png": "[encoded data removed]",
      "text/plain": [
       "<Figure size 432x288 with 1 Axes>"
      ]
     },
     "metadata": {
      "needs_background": "light"
     },
     "output_type": "display_data"
    },
    {
     "data": {
      "image/png": "[encoded data removed]",
      "text/plain": [
       "<Figure size 432x288 with 1 Axes>"
      ]
     },
     "metadata": {
      "needs_background": "light"
     },
     "output_type": "display_data"
    }
   ],
   "source": [
    "# по типу оплаты\n",
    "plt.figure(figsize=(6, 4))\n",
    "make_histplot('type', \n",
    "              'Распределение клиентов по типу оплаты', \n",
    "              'Тип оплаты');\n",
    "make_histplot('paymentmethod', \n",
    "              'Распределение клиентов по способу оплаты', \n",
    "              'Способ оплаты');"
   ]
  },
  {
   "cell_type": "markdown",
   "metadata": {},
   "source": [
    "по размеру итоговых затрат наблюдается пик среди действующих клиентов, скорее всего это недавно заключенные договора, по которым еще не производилась оплата, по типу оплаты клиенты предпочитают платить ежемесячно. по способу оплаты ушедшие клиенты меньше всего пользовались бумажными чеками, направленными по почте, и в равной мере предпочитали остальные способы.\n",
    "Действующие клиенты больше предпочитают электронный чек."
   ]
  },
  {
   "cell_type": "code",
   "execution_count": 46,
   "metadata": {},
   "outputs": [
    {
     "data": {
      "image/png": "[encoded data removed]",
      "text/plain": [
       "<Figure size 432x288 with 1 Axes>"
      ]
     },
     "metadata": {
      "needs_background": "light"
     },
     "output_type": "display_data"
    }
   ],
   "source": [
    "# по длительности контракта\n",
    "make_histplot('count_days', \n",
    "              'Распределение клиентов по длительности договора', \n",
    "              'Длительность договора')"
   ]
  },
  {
   "cell_type": "markdown",
   "metadata": {},
   "source": [
    "Большая часть клиентов уходила в диапазоне с 500 по 1300 дней. Это не маленький срок, скорее всего, клиенты находили более выгодные для себя варианты, которые текущий оператор не предлагал\n",
    "Отмечается резкий пик среди новых действующих клиентов, и среди надежных партнеров (более 2000 дней). По остальным признакам если возникнут вопросы посмотрю распределение после составления общего датасета по всем данным. "
   ]
  },
  {
   "cell_type": "code",
   "execution_count": 48,
   "metadata": {},
   "outputs": [
    {
     "data": {
      "image/png": "[encoded data removed]",
      "text/plain": [
       "<Figure size 432x288 with 1 Axes>"
      ]
     },
     "metadata": {
      "needs_background": "light"
     },
     "output_type": "display_data"
    }
   ],
   "source": [
    "# по типу подключения\n",
    "make_histplot('internetservice', \n",
    "              'Распределение клиентов по типу подключения интернета', \n",
    "              'Тип подключения интернета')\n"
   ]
  },
  {
   "cell_type": "markdown",
   "metadata": {},
   "source": [
    "1500 действующих клиентов не подключали интернет"
   ]
  },
  {
   "cell_type": "markdown",
   "metadata": {},
   "source": [
    "перейду к преобразованию бинарных признаков в числовой формат\n",
    "заменим все бинарные признаки на 1 и 0 вместо No / Yes. Оставшиеся категориальные столбцы преобразуем уже после разделения данных"
   ]
  },
  {
   "cell_type": "code",
   "execution_count": 50,
   "metadata": {},
   "outputs": [
    {
     "data": {
      "text/html": [
       "<div>\n",
       "<style scoped>\n",
       "    .dataframe tbody tr th:only-of-type {\n",
       "        vertical-align: middle;\n",
       "    }\n",
       "\n",
       "    .dataframe tbody tr th {\n",
       "        vertical-align: top;\n",
       "    }\n",
       "\n",
       "    .dataframe thead th {\n",
       "        text-align: right;\n",
       "    }\n",
       "</style>\n",
       "<table border=\"1\" class=\"dataframe\">\n",
       "  <thead>\n",
       "    <tr style=\"text-align: right;\">\n",
       "      <th></th>\n",
       "      <th>customerid</th>\n",
       "      <th>begindate</th>\n",
       "      <th>enddate</th>\n",
       "      <th>type</th>\n",
       "      <th>paperlessbilling</th>\n",
       "      <th>paymentmethod</th>\n",
       "      <th>monthlycharges</th>\n",
       "      <th>totalcharges</th>\n",
       "      <th>left_company</th>\n",
       "      <th>count_days</th>\n",
       "      <th>...</th>\n",
       "      <th>partner</th>\n",
       "      <th>dependents</th>\n",
       "      <th>internetservice</th>\n",
       "      <th>onlinesecurity</th>\n",
       "      <th>onlinebackup</th>\n",
       "      <th>deviceprotection</th>\n",
       "      <th>techsupport</th>\n",
       "      <th>streamingtv</th>\n",
       "      <th>streamingmovies</th>\n",
       "      <th>multiplelines</th>\n",
       "    </tr>\n",
       "  </thead>\n",
       "  <tbody>\n",
       "    <tr>\n",
       "      <th>0</th>\n",
       "      <td>7590-VHVEG</td>\n",
       "      <td>2020-01-01</td>\n",
       "      <td>2020-02-01</td>\n",
       "      <td>Month-to-month</td>\n",
       "      <td>1</td>\n",
       "      <td>Electronic check</td>\n",
       "      <td>29.85</td>\n",
       "      <td>31</td>\n",
       "      <td>0</td>\n",
       "      <td>31</td>\n",
       "      <td>...</td>\n",
       "      <td>1</td>\n",
       "      <td>0</td>\n",
       "      <td>DSL</td>\n",
       "      <td>0</td>\n",
       "      <td>1</td>\n",
       "      <td>0</td>\n",
       "      <td>0</td>\n",
       "      <td>0</td>\n",
       "      <td>0</td>\n",
       "      <td>Abs</td>\n",
       "    </tr>\n",
       "    <tr>\n",
       "      <th>1</th>\n",
       "      <td>5575-GNVDE</td>\n",
       "      <td>2017-04-01</td>\n",
       "      <td>2020-02-01</td>\n",
       "      <td>One year</td>\n",
       "      <td>0</td>\n",
       "      <td>Mailed check</td>\n",
       "      <td>56.95</td>\n",
       "      <td>2071</td>\n",
       "      <td>0</td>\n",
       "      <td>1036</td>\n",
       "      <td>...</td>\n",
       "      <td>0</td>\n",
       "      <td>0</td>\n",
       "      <td>DSL</td>\n",
       "      <td>1</td>\n",
       "      <td>0</td>\n",
       "      <td>1</td>\n",
       "      <td>0</td>\n",
       "      <td>0</td>\n",
       "      <td>0</td>\n",
       "      <td>No</td>\n",
       "    </tr>\n",
       "    <tr>\n",
       "      <th>2</th>\n",
       "      <td>3668-QPYBK</td>\n",
       "      <td>2019-10-01</td>\n",
       "      <td>2020-02-01</td>\n",
       "      <td>Month-to-month</td>\n",
       "      <td>1</td>\n",
       "      <td>Mailed check</td>\n",
       "      <td>53.85</td>\n",
       "      <td>226</td>\n",
       "      <td>0</td>\n",
       "      <td>123</td>\n",
       "      <td>...</td>\n",
       "      <td>0</td>\n",
       "      <td>0</td>\n",
       "      <td>DSL</td>\n",
       "      <td>1</td>\n",
       "      <td>1</td>\n",
       "      <td>0</td>\n",
       "      <td>0</td>\n",
       "      <td>0</td>\n",
       "      <td>0</td>\n",
       "      <td>No</td>\n",
       "    </tr>\n",
       "    <tr>\n",
       "      <th>3</th>\n",
       "      <td>7795-CFOCW</td>\n",
       "      <td>2016-05-01</td>\n",
       "      <td>2020-02-01</td>\n",
       "      <td>One year</td>\n",
       "      <td>0</td>\n",
       "      <td>Bank transfer (automatic)</td>\n",
       "      <td>42.30</td>\n",
       "      <td>1960</td>\n",
       "      <td>0</td>\n",
       "      <td>1371</td>\n",
       "      <td>...</td>\n",
       "      <td>0</td>\n",
       "      <td>0</td>\n",
       "      <td>DSL</td>\n",
       "      <td>1</td>\n",
       "      <td>0</td>\n",
       "      <td>1</td>\n",
       "      <td>1</td>\n",
       "      <td>0</td>\n",
       "      <td>0</td>\n",
       "      <td>Abs</td>\n",
       "    </tr>\n",
       "    <tr>\n",
       "      <th>4</th>\n",
       "      <td>9237-HQITU</td>\n",
       "      <td>2019-09-01</td>\n",
       "      <td>2020-02-01</td>\n",
       "      <td>Month-to-month</td>\n",
       "      <td>1</td>\n",
       "      <td>Electronic check</td>\n",
       "      <td>70.70</td>\n",
       "      <td>353</td>\n",
       "      <td>0</td>\n",
       "      <td>153</td>\n",
       "      <td>...</td>\n",
       "      <td>0</td>\n",
       "      <td>0</td>\n",
       "      <td>Fiber optic</td>\n",
       "      <td>0</td>\n",
       "      <td>0</td>\n",
       "      <td>0</td>\n",
       "      <td>0</td>\n",
       "      <td>0</td>\n",
       "      <td>0</td>\n",
       "      <td>No</td>\n",
       "    </tr>\n",
       "  </tbody>\n",
       "</table>\n",
       "<p>5 rows × 22 columns</p>\n",
       "</div>"
      ],
      "text/plain": [
       "   customerid  begindate    enddate            type  paperlessbilling  \\\n",
       "0  7590-VHVEG 2020-01-01 2020-02-01  Month-to-month                 1   \n",
       "1  5575-GNVDE 2017-04-01 2020-02-01        One year                 0   \n",
       "2  3668-QPYBK 2019-10-01 2020-02-01  Month-to-month                 1   \n",
       "3  7795-CFOCW 2016-05-01 2020-02-01        One year                 0   \n",
       "4  9237-HQITU 2019-09-01 2020-02-01  Month-to-month                 1   \n",
       "\n",
       "               paymentmethod  monthlycharges  totalcharges  left_company  \\\n",
       "0           Electronic check           29.85            31             0   \n",
       "1               Mailed check           56.95          2071             0   \n",
       "2               Mailed check           53.85           226             0   \n",
       "3  Bank transfer (automatic)           42.30          1960             0   \n",
       "4           Electronic check           70.70           353             0   \n",
       "\n",
       "   count_days  ...  partner  dependents  internetservice  onlinesecurity  \\\n",
       "0          31  ...        1           0              DSL               0   \n",
       "1        1036  ...        0           0              DSL               1   \n",
       "2         123  ...        0           0              DSL               1   \n",
       "3        1371  ...        0           0              DSL               1   \n",
       "4         153  ...        0           0      Fiber optic               0   \n",
       "\n",
       "  onlinebackup  deviceprotection  techsupport  streamingtv  streamingmovies  \\\n",
       "0            1                 0            0            0                0   \n",
       "1            0                 1            0            0                0   \n",
       "2            1                 0            0            0                0   \n",
       "3            0                 1            1            0                0   \n",
       "4            0                 0            0            0                0   \n",
       "\n",
       "   multiplelines  \n",
       "0            Abs  \n",
       "1             No  \n",
       "2             No  \n",
       "3            Abs  \n",
       "4             No  \n",
       "\n",
       "[5 rows x 22 columns]"
      ]
     },
     "execution_count": 50,
     "metadata": {},
     "output_type": "execute_result"
    }
   ],
   "source": [
    "binary_columns = ['paperlessbilling', 'partner', 'dependents',\n",
    "                 'onlinesecurity', 'onlinebackup', 'deviceprotection',\n",
    "                 'techsupport', 'streamingtv', 'streamingmovies']\n",
    "\n",
    "for column in binary_columns:\n",
    "    final_df[column] = final_df[column].replace(['Yes', 'No'], [1, 0])\n",
    "    \n",
    "final_df['gender'] = final_df['gender'].replace(['Female', 'Male'], [1, 0])\n",
    "\n",
    "final_df.head()"
   ]
  },
  {
   "cell_type": "markdown",
   "metadata": {},
   "source": [
    "##### Проверка признаков на мультиколлинеарность"
   ]
  },
  {
   "cell_type": "markdown",
   "metadata": {},
   "source": [
    "В датафрейме присутствуют категориальные признаки. Для исследования корреляции категориальных признаков будем использовать библиотеку phik.\n",
    "\n"
   ]
  },
  {
   "cell_type": "code",
   "execution_count": 51,
   "metadata": {},
   "outputs": [
    {
     "data": {
      "text/plain": [
       "Index(['type', 'paperlessbilling', 'paymentmethod', 'monthlycharges',\n",
       "       'totalcharges', 'left_company', 'count_days', 'gender', 'seniorcitizen',\n",
       "       'partner', 'dependents', 'internetservice', 'onlinesecurity',\n",
       "       'onlinebackup', 'deviceprotection', 'techsupport', 'streamingtv',\n",
       "       'streamingmovies', 'multiplelines'],\n",
       "      dtype='object')"
      ]
     },
     "execution_count": 51,
     "metadata": {},
     "output_type": "execute_result"
    }
   ],
   "source": [
    "final_df = final_df.drop(['begindate', 'enddate', 'customerid'], axis = 1)\n",
    "final_df.columns"
   ]
  },
  {
   "cell_type": "code",
   "execution_count": 52,
   "metadata": {},
   "outputs": [],
   "source": [
    "numerical_cols = ['monthlycharges', 'totalcharges', 'count_days']"
   ]
  },
  {
   "cell_type": "code",
   "execution_count": 53,
   "metadata": {},
   "outputs": [],
   "source": [
    "categorical_cols = ['type', 'paperlessbilling', 'paymentmethod', 'internetservice', 'onlinesecurity', 'onlinebackup', 'deviceprotection', 'techsupport', 'streamingtv', 'streamingmovies', 'gender', 'seniorcitizen', 'partner', 'dependents', 'multiplelines']\n"
   ]
  },
  {
   "cell_type": "code",
   "execution_count": 54,
   "metadata": {},
   "outputs": [
    {
     "data": {
      "image/png": "[encoded data removed]",
      "text/plain": [
       "<Figure size 1152x720 with 2 Axes>"
      ]
     },
     "metadata": {
      "needs_background": "light"
     },
     "output_type": "display_data"
    }
   ],
   "source": [
    "plt.figure(figsize=(16, 10))\n",
    "\n",
    "corr_matrix = final_df.phik_matrix(interval_cols=numerical_cols)\n",
    "\n",
    "sns.heatmap(corr_matrix, linewidths=.5, cmap='coolwarm', center=0, annot=True)\n",
    "\n",
    "plt.title('Матрица корреляций phik_matrix')\n",
    "plt.show()"
   ]
  },
  {
   "cell_type": "markdown",
   "metadata": {},
   "source": [
    "Имеется корреляция между месячными, суммарными тратами и дополнительными услугами.\n",
    "Признак gender имеет нулевую корреляцию со всеми признаками.\n",
    "Целевой признак не имеет сильно выраженной корреляции с остальными признаками.\n",
    "Итак по итогам проведенного анализа таблицы изучены, объеденены (final_df) пропуски образовавшиеся при заполнении бинарных признаков заполнены третьей категорией удалены признаки дат, добавлена целевая метка факта ухода и признак продолжительности пользования услугами.\n",
    "Исследована зависимости признаков от целевого признака - факта ухода клиента. при исследовании мультиколлинеарности почти нулевая корреляция  признака TotalCharges, незначимый признак gender. Заказчик может принять решение удалить их перед тем как строить модели обучения.\n",
    "Обнаружена небалансированность классов."
   ]
  },
  {
   "cell_type": "markdown",
   "metadata": {},
   "source": [
    "Этапы обучения и контроля качества модели. далее планирую удалить признаки с корреляцией близкой к нулю провести на разделение выборок в соотношение 3:1. целевой признак у меня есть. планирую использовать три модели обучения:логистическую регрессию и модел случайного леса (после разделения на выборки применим прямое кодирование get_dummies ).\n",
    "также возьму еще модель CatBoostClassifier. по итогам обучения моделей выберу максимальную оценку, среди всех моделей, ROC_AUC,  для дальнейшего тестирования выбранной модели.\n"
   ]
  },
  {
   "cell_type": "markdown",
   "metadata": {},
   "source": [
    "другие пункты: при дальнейшем обучении модели прдполагаю взять признаки:\n",
    "\n",
    "count_days – новый признак, который хранит иформацию о разнице начала пользования услугами и окончания пользования услугами в днях;\n",
    "type – тип оплаты: ежемесячный, годовой и т.д.;\n",
    "paperlessbilling – электронный платёжный документ;\n",
    "paymentmethod – способ оплаты;\n",
    "monthlycharges – ежемесячные траты на услуги по договору;\n",
    "dependents – наличие иждивенцев;\n",
    "seniorcitizen – наличие пенсионного статуса по возрасту;\n",
    "partner – наличие супруга(и);\n",
    "multiplelines – наличие возможности ведения параллельных линий во время звонка;\n",
    "internet_service, online_security, online_backup, device_protection, tech_support, streaming_tv, streaming_movies - дополнительные услуги, предоставляемые оператором.\n",
    "Целевой признак: left_company\n",
    "\n",
    "\n",
    "Для обучения моделей, планирую признаки были стандартизировать с помощью StandardScaler() и кодировать в пайплайне.\n"
   ]
  },
  {
   "cell_type": "markdown",
   "metadata": {},
   "source": [
    "### 5.Исследование моделей."
   ]
  },
  {
   "cell_type": "code",
   "execution_count": 55,
   "metadata": {},
   "outputs": [],
   "source": [
    "RANDOM_STATE = 11092023"
   ]
  },
  {
   "cell_type": "code",
   "execution_count": 56,
   "metadata": {},
   "outputs": [],
   "source": [
    "# проведем разделение и кодирование данных, разделение 3:1\n",
    "features = final_df.drop('left_company', axis=1)\n",
    "target = final_df['left_company']\n",
    "\n",
    "features_train, features_test, target_train, target_test = train_test_split(features, \n",
    "                                                                            target, \n",
    "                                                                            test_size = 0.25,\n",
    "                                                                            random_state = RANDOM_STATE,\n",
    "                                                                            stratify = target)\n"
   ]
  },
  {
   "cell_type": "code",
   "execution_count": 57,
   "metadata": {},
   "outputs": [
    {
     "name": "stdout",
     "output_type": "stream",
     "text": [
      "Выборка разделена в пропорциях:\n",
      "75% — тренировочная;\n",
      "25% — тестовая\n",
      "\n"
     ]
    }
   ],
   "source": [
    "#проверю разделение на выборки \n",
    "print(\n",
    "    f'Выборка разделена в пропорциях:\\n'\n",
    "    f'{(len(features_train)/len(final_df)):.0%} — тренировочная;\\n'\n",
    "    f'{(len(features_test)/len(final_df)):.0%} — тестовая\\n'\n",
    ")"
   ]
  },
  {
   "cell_type": "code",
   "execution_count": 58,
   "metadata": {},
   "outputs": [
    {
     "name": "stdout",
     "output_type": "stream",
     "text": [
      "Обучающая выборка:  (5282, 18) (5282,)\n",
      "Тренировочная выборка:  (1761, 18) (1761,)\n"
     ]
    }
   ],
   "source": [
    "#посмотрим на размеры выборок\n",
    "print('Обучающая выборка: ', features_train.shape, target_train.shape)\n",
    "print('Тренировочная выборка: ', features_test.shape, target_test.shape)"
   ]
  },
  {
   "cell_type": "code",
   "execution_count": 59,
   "metadata": {},
   "outputs": [],
   "source": [
    "#features_train.head(5)"
   ]
  },
  {
   "cell_type": "markdown",
   "metadata": {},
   "source": [
    "Закодируем и стандартизируем категориальные признаки для логистичесской регрессии c OneHotEncoder ."
   ]
  },
  {
   "cell_type": "code",
   "execution_count": 60,
   "metadata": {},
   "outputs": [],
   "source": [
    "# проведем кодирование  categorical_cols"
   ]
  },
  {
   "cell_type": "code",
   "execution_count": 61,
   "metadata": {},
   "outputs": [],
   "source": [
    "# Создание объекта OneHotEncoder для категориальных колонок\n",
    "categorical_transformer = OneHotEncoder(handle_unknown='ignore', sparse=False)\n",
    "\n",
    "# Создание объекта масштабирования для числовых колонок (если нужен)\n",
    "numerical_transformer = StandardScaler() "
   ]
  },
  {
   "cell_type": "code",
   "execution_count": 62,
   "metadata": {},
   "outputs": [],
   "source": [
    "# Создание конвейера для преобразования признаков\n",
    "preprocessor = ColumnTransformer(\n",
    "    transformers=[\n",
    "        ('num', numerical_transformer, numerical_cols),\n",
    "        ('cat', categorical_transformer, categorical_cols)])"
   ]
  },
  {
   "cell_type": "code",
   "execution_count": 83,
   "metadata": {},
   "outputs": [
    {
     "name": "stdout",
     "output_type": "stream",
     "text": [
      "CPU times: user 4 µs, sys: 0 ns, total: 4 µs\n",
      "Wall time: 7.39 µs\n",
      "Размер признаков обучающей выборки: (5282, 18)\n",
      "Размер признаков тестовой выборки: (1761, 18)\n",
      "Лучшие параметры: {'classifier__C': 100, 'classifier__max_iter': 100, 'classifier__solver': 'liblinear'}\n",
      "0.7631864366897994\n"
     ]
    }
   ],
   "source": [
    "\n",
    "%time\n",
    "pipeline = Pipeline([\n",
    "    ('preprocessor', preprocessor),\n",
    "    ('classifier', LogisticRegression(random_state=RANDOM_STATE, class_weight='balanced'))\n",
    "])\n",
    "\n",
    "param_grid = {\n",
    "    'classifier__C': [1, 10, 100],\n",
    "    'classifier__solver': ['liblinear', 'lbfgs'],\n",
    "    'classifier__max_iter': [100, 200]\n",
    "}\n",
    "\n",
    "grid_search = GridSearchCV(pipeline, param_grid, scoring='roc_auc', cv=5)\n",
    "\n",
    "grid_search.fit(features_train, target_train)\n",
    "\n",
    "# Размеры датасетов\n",
    "print('Размер признаков обучающей выборки:', features_train.shape)\n",
    "print('Размер признаков тестовой выборки:', features_test.shape)\n",
    "\n",
    "print(\"Лучшие параметры:\", grid_search.best_params_)\n",
    "\n",
    "# Сохранение лучшей модели и прогноз лучшей модели на тестовых данных\n",
    "best_model = grid_search.best_estimator_\n",
    "print (grid_search.best_score_)"
   ]
  },
  {
   "cell_type": "code",
   "execution_count": 65,
   "metadata": {},
   "outputs": [
    {
     "data": {
      "text/html": [
       "<div>\n",
       "<style scoped>\n",
       "    .dataframe tbody tr th:only-of-type {\n",
       "        vertical-align: middle;\n",
       "    }\n",
       "\n",
       "    .dataframe tbody tr th {\n",
       "        vertical-align: top;\n",
       "    }\n",
       "\n",
       "    .dataframe thead th {\n",
       "        text-align: right;\n",
       "    }\n",
       "</style>\n",
       "<table border=\"1\" class=\"dataframe\">\n",
       "  <thead>\n",
       "    <tr style=\"text-align: right;\">\n",
       "      <th></th>\n",
       "      <th>type</th>\n",
       "      <th>paperlessbilling</th>\n",
       "      <th>paymentmethod</th>\n",
       "      <th>monthlycharges</th>\n",
       "      <th>totalcharges</th>\n",
       "      <th>count_days</th>\n",
       "      <th>gender</th>\n",
       "      <th>seniorcitizen</th>\n",
       "      <th>partner</th>\n",
       "      <th>dependents</th>\n",
       "      <th>internetservice</th>\n",
       "      <th>onlinesecurity</th>\n",
       "      <th>onlinebackup</th>\n",
       "      <th>deviceprotection</th>\n",
       "      <th>techsupport</th>\n",
       "      <th>streamingtv</th>\n",
       "      <th>streamingmovies</th>\n",
       "      <th>multiplelines</th>\n",
       "    </tr>\n",
       "  </thead>\n",
       "  <tbody>\n",
       "    <tr>\n",
       "      <th>1382</th>\n",
       "      <td>One year</td>\n",
       "      <td>0</td>\n",
       "      <td>Mailed check</td>\n",
       "      <td>24.95</td>\n",
       "      <td>1147</td>\n",
       "      <td>1401</td>\n",
       "      <td>1</td>\n",
       "      <td>0</td>\n",
       "      <td>1</td>\n",
       "      <td>1</td>\n",
       "      <td>No</td>\n",
       "      <td>0</td>\n",
       "      <td>0</td>\n",
       "      <td>0</td>\n",
       "      <td>0</td>\n",
       "      <td>0</td>\n",
       "      <td>0</td>\n",
       "      <td>Yes</td>\n",
       "    </tr>\n",
       "    <tr>\n",
       "      <th>5044</th>\n",
       "      <td>Month-to-month</td>\n",
       "      <td>1</td>\n",
       "      <td>Electronic check</td>\n",
       "      <td>104.60</td>\n",
       "      <td>2416</td>\n",
       "      <td>671</td>\n",
       "      <td>0</td>\n",
       "      <td>0</td>\n",
       "      <td>1</td>\n",
       "      <td>0</td>\n",
       "      <td>Fiber optic</td>\n",
       "      <td>1</td>\n",
       "      <td>1</td>\n",
       "      <td>0</td>\n",
       "      <td>1</td>\n",
       "      <td>1</td>\n",
       "      <td>1</td>\n",
       "      <td>No</td>\n",
       "    </tr>\n",
       "    <tr>\n",
       "      <th>2358</th>\n",
       "      <td>One year</td>\n",
       "      <td>0</td>\n",
       "      <td>Electronic check</td>\n",
       "      <td>19.70</td>\n",
       "      <td>1083</td>\n",
       "      <td>1676</td>\n",
       "      <td>1</td>\n",
       "      <td>0</td>\n",
       "      <td>1</td>\n",
       "      <td>0</td>\n",
       "      <td>No</td>\n",
       "      <td>0</td>\n",
       "      <td>0</td>\n",
       "      <td>0</td>\n",
       "      <td>0</td>\n",
       "      <td>0</td>\n",
       "      <td>0</td>\n",
       "      <td>No</td>\n",
       "    </tr>\n",
       "    <tr>\n",
       "      <th>5648</th>\n",
       "      <td>One year</td>\n",
       "      <td>1</td>\n",
       "      <td>Electronic check</td>\n",
       "      <td>39.10</td>\n",
       "      <td>1204</td>\n",
       "      <td>853</td>\n",
       "      <td>1</td>\n",
       "      <td>1</td>\n",
       "      <td>1</td>\n",
       "      <td>1</td>\n",
       "      <td>DSL</td>\n",
       "      <td>0</td>\n",
       "      <td>1</td>\n",
       "      <td>0</td>\n",
       "      <td>0</td>\n",
       "      <td>0</td>\n",
       "      <td>1</td>\n",
       "      <td>Abs</td>\n",
       "    </tr>\n",
       "    <tr>\n",
       "      <th>1860</th>\n",
       "      <td>Two year</td>\n",
       "      <td>0</td>\n",
       "      <td>Mailed check</td>\n",
       "      <td>19.45</td>\n",
       "      <td>1436</td>\n",
       "      <td>2163</td>\n",
       "      <td>0</td>\n",
       "      <td>0</td>\n",
       "      <td>1</td>\n",
       "      <td>1</td>\n",
       "      <td>No</td>\n",
       "      <td>0</td>\n",
       "      <td>0</td>\n",
       "      <td>0</td>\n",
       "      <td>0</td>\n",
       "      <td>0</td>\n",
       "      <td>0</td>\n",
       "      <td>No</td>\n",
       "    </tr>\n",
       "  </tbody>\n",
       "</table>\n",
       "</div>"
      ],
      "text/plain": [
       "                type  paperlessbilling     paymentmethod  monthlycharges  \\\n",
       "1382        One year                 0      Mailed check           24.95   \n",
       "5044  Month-to-month                 1  Electronic check          104.60   \n",
       "2358        One year                 0  Electronic check           19.70   \n",
       "5648        One year                 1  Electronic check           39.10   \n",
       "1860        Two year                 0      Mailed check           19.45   \n",
       "\n",
       "      totalcharges  count_days  gender  seniorcitizen  partner  dependents  \\\n",
       "1382          1147        1401       1              0        1           1   \n",
       "5044          2416         671       0              0        1           0   \n",
       "2358          1083        1676       1              0        1           0   \n",
       "5648          1204         853       1              1        1           1   \n",
       "1860          1436        2163       0              0        1           1   \n",
       "\n",
       "     internetservice  onlinesecurity  onlinebackup  deviceprotection  \\\n",
       "1382              No               0             0                 0   \n",
       "5044     Fiber optic               1             1                 0   \n",
       "2358              No               0             0                 0   \n",
       "5648             DSL               0             1                 0   \n",
       "1860              No               0             0                 0   \n",
       "\n",
       "      techsupport  streamingtv  streamingmovies multiplelines  \n",
       "1382            0            0                0           Yes  \n",
       "5044            1            1                1            No  \n",
       "2358            0            0                0            No  \n",
       "5648            0            0                1           Abs  \n",
       "1860            0            0                0            No  "
      ]
     },
     "execution_count": 65,
     "metadata": {},
     "output_type": "execute_result"
    }
   ],
   "source": [
    "features_train.head()"
   ]
  },
  {
   "cell_type": "code",
   "execution_count": 68,
   "metadata": {},
   "outputs": [],
   "source": [
    "# Создание объекта OrdinalEncoder для категориальных колонок\n",
    "categorical_transformer = OrdinalEncoder(handle_unknown='ignore')"
   ]
  },
  {
   "cell_type": "code",
   "execution_count": 82,
   "metadata": {},
   "outputs": [
    {
     "name": "stdout",
     "output_type": "stream",
     "text": [
      "CPU times: user 4 µs, sys: 0 ns, total: 4 µs\n",
      "Wall time: 7.63 µs\n",
      "Лучшая оценка на кросс-валидации: 0.8063764172672723\n",
      "Размер признаков обучающей выборки: (5282, 18)\n",
      "Размер признаков тестовой выборки: (1761, 18)\n"
     ]
    }
   ],
   "source": [
    "\n",
    "from sklearn.metrics import roc_auc_score\n",
    "\n",
    "pipeline = Pipeline([\n",
    "    ('preprocessor', preprocessor),\n",
    "    ('classifier', RandomForestClassifier(random_state=RANDOM_STATE, class_weight='balanced'))\n",
    "])\n",
    "\n",
    "param_grid_RF = {\n",
    "    'classifier__n_estimators': [50, 100, 200],\n",
    "    'classifier__max_depth': [20, 30],\n",
    "    'classifier__max_features': ['auto', 'sqrt']\n",
    "}\n",
    "\n",
    "grid_search_RF = GridSearchCV(pipeline, param_grid_RF, scoring='roc_auc', cv=5)\n",
    "\n",
    "%time \n",
    "grid_search_RF.fit(features_train, target_train)\n",
    "print('Лучшая оценка на кросс-валидации:', grid_search_RF.best_score_)\n",
    "# Размеры датасетов\n",
    "print('Размер признаков обучающей выборки:', features_train.shape)\n",
    "print('Размер признаков тестовой выборки:', features_test.shape)\n",
    "\n"
   ]
  },
  {
   "cell_type": "code",
   "execution_count": 70,
   "metadata": {},
   "outputs": [],
   "source": [
    "#from sklearn.preprocessing import LabelEncoder"
   ]
  },
  {
   "cell_type": "code",
   "execution_count": 72,
   "metadata": {},
   "outputs": [
    {
     "name": "stdout",
     "output_type": "stream",
     "text": [
      "Размер признаков обучающей выборки: (5282, 38)\n",
      "Размер признаков тестовой выборки: (1761, 38)\n"
     ]
    }
   ],
   "source": [
    "#проводим кодирование\n",
    "features_train_ohe = features_train.copy()\n",
    "features_test_ohe = features_test.copy()\n",
    "\n",
    "ohe = OneHotEncoder(handle_unknown='ignore', sparse=False)\n",
    "ohe.fit(features_train_ohe[categorical_cols])\n",
    "features_train_ohe[ohe.get_feature_names_out()] = ohe.transform(features_train_ohe[categorical_cols])\n",
    "features_test_ohe[ohe.get_feature_names_out()] = ohe.transform(features_test_ohe[categorical_cols])\n",
    "features_train_ohe = features_train_ohe.drop(categorical_cols, axis=1)\n",
    "features_test_ohe = features_test_ohe.drop(categorical_cols, axis=1)\n",
    "\n",
    "print('Размер признаков обучающей выборки:', features_train_ohe.shape)\n",
    "print('Размер признаков тестовой выборки:', features_test_ohe.shape)"
   ]
  },
  {
   "cell_type": "code",
   "execution_count": 73,
   "metadata": {},
   "outputs": [
    {
     "name": "stdout",
     "output_type": "stream",
     "text": [
      "Fitting 10 folds for each of 6 candidates, totalling 60 fits\n",
      "[CV 1/10] END learning_rate=0.01, max_depth=2, n_estimators=100;, score=0.806 total time=   0.3s\n",
      "[CV 5/10] END learning_rate=0.01, max_depth=2, n_estimators=100;, score=0.781 total time=   0.2s\n",
      "[CV 8/10] END learning_rate=0.01, max_depth=2, n_estimators=100;, score=0.796 total time=   0.3s\n",
      "[CV 1/10] END learning_rate=0.01, max_depth=10, n_estimators=100;, score=0.833 total time=   0.7s\n",
      "[CV 4/10] END learning_rate=0.01, max_depth=10, n_estimators=100;, score=0.827 total time=   0.6s\n",
      "[CV 7/10] END learning_rate=0.01, max_depth=10, n_estimators=100;, score=0.840 total time=   0.7s\n",
      "[CV 10/10] END learning_rate=0.01, max_depth=10, n_estimators=100;, score=0.820 total time=   0.7s\n",
      "[CV 5/10] END learning_rate=0.1, max_depth=2, n_estimators=100;, score=0.807 total time=   0.3s\n",
      "[CV 8/10] END learning_rate=0.1, max_depth=2, n_estimators=100;, score=0.824 total time=   0.3s\n",
      "[CV 1/10] END learning_rate=0.1, max_depth=10, n_estimators=100;, score=0.878 total time=   0.6s\n",
      "[CV 4/10] END learning_rate=0.1, max_depth=10, n_estimators=100;, score=0.871 total time=   0.6s\n",
      "[CV 7/10] END learning_rate=0.1, max_depth=10, n_estimators=100;, score=0.881 total time=   0.6s\n",
      "[CV 10/10] END learning_rate=0.1, max_depth=10, n_estimators=100;, score=0.880 total time=   0.6s\n",
      "[CV 4/10] END learning_rate=0.3, max_depth=2, n_estimators=100;, score=0.882 total time=   0.2s\n",
      "[CV 6/10] END learning_rate=0.3, max_depth=2, n_estimators=100;, score=0.851 total time=   0.3s\n",
      "[CV 9/10] END learning_rate=0.3, max_depth=2, n_estimators=100;, score=0.911 total time=   0.3s\n",
      "[CV 2/10] END learning_rate=0.3, max_depth=10, n_estimators=100;, score=0.872 total time=   0.6s\n",
      "[CV 5/10] END learning_rate=0.3, max_depth=10, n_estimators=100;, score=0.886 total time=   0.5s\n",
      "[CV 8/10] END learning_rate=0.3, max_depth=10, n_estimators=100;, score=0.861 total time=   0.6s\n",
      "[CV 2/10] END learning_rate=0.01, max_depth=2, n_estimators=100;, score=0.782 total time=   0.2s\n",
      "[CV 4/10] END learning_rate=0.01, max_depth=2, n_estimators=100;, score=0.807 total time=   0.3s\n",
      "[CV 7/10] END learning_rate=0.01, max_depth=2, n_estimators=100;, score=0.812 total time=   0.3s\n",
      "[CV 10/10] END learning_rate=0.01, max_depth=2, n_estimators=100;, score=0.810 total time=   0.3s\n",
      "[CV 3/10] END learning_rate=0.01, max_depth=10, n_estimators=100;, score=0.823 total time=   0.7s\n",
      "[CV 6/10] END learning_rate=0.01, max_depth=10, n_estimators=100;, score=0.766 total time=   0.7s\n",
      "[CV 9/10] END learning_rate=0.01, max_depth=10, n_estimators=100;, score=0.845 total time=   0.6s\n",
      "[CV 2/10] END learning_rate=0.1, max_depth=2, n_estimators=100;, score=0.817 total time=   0.3s\n",
      "[CV 3/10] END learning_rate=0.1, max_depth=2, n_estimators=100;, score=0.844 total time=   0.4s\n",
      "[CV 7/10] END learning_rate=0.1, max_depth=2, n_estimators=100;, score=0.861 total time=   0.3s\n",
      "[CV 10/10] END learning_rate=0.1, max_depth=2, n_estimators=100;, score=0.841 total time=   0.3s\n",
      "[CV 3/10] END learning_rate=0.1, max_depth=10, n_estimators=100;, score=0.867 total time=   0.5s\n",
      "[CV 5/10] END learning_rate=0.1, max_depth=10, n_estimators=100;, score=0.863 total time=   0.6s\n",
      "[CV 8/10] END learning_rate=0.1, max_depth=10, n_estimators=100;, score=0.851 total time=   0.7s\n",
      "[CV 1/10] END learning_rate=0.3, max_depth=2, n_estimators=100;, score=0.861 total time=   0.3s\n",
      "[CV 3/10] END learning_rate=0.3, max_depth=2, n_estimators=100;, score=0.866 total time=   0.3s\n",
      "[CV 8/10] END learning_rate=0.3, max_depth=2, n_estimators=100;, score=0.848 total time=   0.3s\n",
      "[CV 10/10] END learning_rate=0.3, max_depth=2, n_estimators=100;, score=0.876 total time=   0.2s\n",
      "[CV 3/10] END learning_rate=0.3, max_depth=10, n_estimators=100;, score=0.898 total time=   0.5s\n",
      "[CV 6/10] END learning_rate=0.3, max_depth=10, n_estimators=100;, score=0.839 total time=   0.6s\n",
      "[CV 9/10] END learning_rate=0.3, max_depth=10, n_estimators=100;, score=0.905 total time=   0.6s\n",
      "[CV 3/10] END learning_rate=0.01, max_depth=2, n_estimators=100;, score=0.805 total time=   0.3s\n",
      "[CV 6/10] END learning_rate=0.01, max_depth=2, n_estimators=100;, score=0.764 total time=   0.2s\n",
      "[CV 9/10] END learning_rate=0.01, max_depth=2, n_estimators=100;, score=0.839 total time=   0.2s\n",
      "[CV 2/10] END learning_rate=0.01, max_depth=10, n_estimators=100;, score=0.799 total time=   0.6s\n",
      "[CV 5/10] END learning_rate=0.01, max_depth=10, n_estimators=100;, score=0.800 total time=   0.7s\n",
      "[CV 8/10] END learning_rate=0.01, max_depth=10, n_estimators=100;, score=0.813 total time=   0.7s\n",
      "[CV 1/10] END learning_rate=0.1, max_depth=2, n_estimators=100;, score=0.853 total time=   0.3s\n",
      "[CV 4/10] END learning_rate=0.1, max_depth=2, n_estimators=100;, score=0.846 total time=   0.2s\n",
      "[CV 6/10] END learning_rate=0.1, max_depth=2, n_estimators=100;, score=0.820 total time=   0.3s\n",
      "[CV 9/10] END learning_rate=0.1, max_depth=2, n_estimators=100;, score=0.863 total time=   0.4s\n",
      "[CV 2/10] END learning_rate=0.1, max_depth=10, n_estimators=100;, score=0.868 total time=   0.7s\n",
      "[CV 6/10] END learning_rate=0.1, max_depth=10, n_estimators=100;, score=0.837 total time=   0.6s\n",
      "[CV 9/10] END learning_rate=0.1, max_depth=10, n_estimators=100;, score=0.884 total time=   0.6s\n",
      "[CV 2/10] END learning_rate=0.3, max_depth=2, n_estimators=100;, score=0.861 total time=   0.4s\n",
      "[CV 5/10] END learning_rate=0.3, max_depth=2, n_estimators=100;, score=0.864 total time=   0.3s\n",
      "[CV 7/10] END learning_rate=0.3, max_depth=2, n_estimators=100;, score=0.889 total time=   0.3s\n",
      "[CV 1/10] END learning_rate=0.3, max_depth=10, n_estimators=100;, score=0.875 total time=   0.6s\n",
      "[CV 4/10] END learning_rate=0.3, max_depth=10, n_estimators=100;, score=0.885 total time=   0.6s\n",
      "[CV 7/10] END learning_rate=0.3, max_depth=10, n_estimators=100;, score=0.892 total time=   0.5s\n",
      "[CV 10/10] END learning_rate=0.3, max_depth=10, n_estimators=100;, score=0.881 total time=   0.3s\n",
      "Лучшие параметры: {'learning_rate': 0.3, 'max_depth': 10, 'n_estimators': 100}\n",
      "AUC-ROC (на кросс-валидации): 0.8794425459007662\n"
     ]
    }
   ],
   "source": [
    "#строим модель LGBMClassifier  и считаем ROC-AUC\n",
    "lgbm = LGBMClassifier(random_state = RANDOM_STATE)\n",
    "param_grid_lgbm = {'n_estimators': [100],\n",
    "             'learning_rate': [0.01, 0.1, 0.3],\n",
    "             'max_depth': (2,10)}\n",
    "grid_search_lgbm = GridSearchCV(lgbm, param_grid_lgbm, verbose=3, cv=10, n_jobs=3, scoring='roc_auc', error_score='raise')\n",
    "grid_search_lgbm.fit(features_train_ohe, target_train)\n",
    "\n",
    "best_score = grid_search_lgbm.best_score_\n",
    "print(\"Лучшие параметры:\", grid_search_lgbm.best_params_)\n",
    "print(\"AUC-ROC (на кросс-валидации):\", best_score)"
   ]
  },
  {
   "cell_type": "markdown",
   "metadata": {},
   "source": [
    "### 6. Анализ лучшей модели¶"
   ]
  },
  {
   "cell_type": "markdown",
   "metadata": {},
   "source": [
    "лучшая модель по показателю ROC-Auc \n",
    "Тестирование модели"
   ]
  },
  {
   "cell_type": "code",
   "execution_count": 85,
   "metadata": {},
   "outputs": [
    {
     "name": "stdout",
     "output_type": "stream",
     "text": [
      "AUC-ROC (на тестовой выборке): 0.9009665973326808\n"
     ]
    }
   ],
   "source": [
    "# Получение лучшей модели\n",
    "best_model = grid_search_lgbm.best_estimator_ \n",
    "\n",
    "predictions_test = best_model.predict_proba(features_test_ohe)[:, 1]  # Предсказание вероятностей на тестовой выборке\n",
    "roc_auc_test = roc_auc_score(target_test, predictions_test)  # Расчет ROC AUC на тестовой выборке\n",
    "print(\"AUC-ROC (на тестовой выборке):\", roc_auc_test)\n",
    "\n"
   ]
  },
  {
   "cell_type": "markdown",
   "metadata": {},
   "source": [
    "нужное значение на тестовой выборке получено ROC-AUC: 0.90 model = LGBMClassifier"
   ]
  },
  {
   "cell_type": "code",
   "execution_count": 77,
   "metadata": {},
   "outputs": [
    {
     "name": "stdout",
     "output_type": "stream",
     "text": [
      "ROC-AUC: 0.90\n",
      "Accuracy: 0.91\n"
     ]
    }
   ],
   "source": [
    "predicted_proba = best_model.predict_proba(features_test_ohe) # Используем predict_proba\n",
    "predicted_test = best_model.predict(features_test_ohe)\n",
    "\n",
    "# Берем вероятности принадлежности первому классу\n",
    "proba_first_class = predicted_proba[:, 1]\n",
    "\n",
    "roc_auc = roc_auc_score(target_test, proba_first_class) # передаем вероятности первого класса\n",
    "accuracy = accuracy_score(target_test, predicted_test)\n",
    "\n",
    "print(f'ROC-AUC: {roc_auc:.2f}')\n",
    "print(f'Accuracy: {accuracy:.2f}')"
   ]
  },
  {
   "cell_type": "code",
   "execution_count": 78,
   "metadata": {},
   "outputs": [],
   "source": [
    "from sklearn.metrics import roc_curve, auc\n"
   ]
  },
  {
   "cell_type": "code",
   "execution_count": 79,
   "metadata": {},
   "outputs": [
    {
     "data": {
      "image/png": "[encoded data removed]",
      "text/plain": [
       "<Figure size 720x576 with 1 Axes>"
      ]
     },
     "metadata": {
      "needs_background": "light"
     },
     "output_type": "display_data"
    }
   ],
   "source": [
    "# Рассчитываем значения False Positive Rate и True Positive Rate\n",
    "fpr, tpr, _ = roc_curve(target_test, proba_first_class)\n",
    "\n",
    "# Рассчитываем площадь под кривой (AUC)\n",
    "roc_auc = auc(fpr, tpr)\n",
    "\n",
    "# Отрисовываем ROC-кривую\n",
    "plt.figure()\n",
    "plt.plot(fpr, tpr, color='darkorange', lw=2, label='ROC curve (area = %0.2f)' % roc_auc)\n",
    "plt.plot([0, 1], [0, 1], color='navy', lw=2, linestyle='--')\n",
    "plt.xlim([0.0, 1.0])\n",
    "plt.ylim([0.0, 1.05])\n",
    "plt.xlabel('False Positive Rate')\n",
    "plt.ylabel('True Positive Rate')\n",
    "plt.title('Рок кривая')\n",
    "plt.legend(loc=\"lower right\")\n",
    "plt.show()"
   ]
  },
  {
   "cell_type": "markdown",
   "metadata": {},
   "source": [
    "Видим, что модель предсказывала неслучайно. при построение рок кривой  код сначала рассчитывает значения False Positive Rate (FPR) и True Positive Rate (TPR), площадь под кривой, также приводится в легенде. чтобы более подробно понять как модель предсказывает построим   матрицу ошибок. коэффициент Accuracy: 0.91 у нас получился достаточно высокий."
   ]
  },
  {
   "cell_type": "code",
   "execution_count": 80,
   "metadata": {},
   "outputs": [
    {
     "data": {
      "text/plain": [
       "Text(0.5, 1.05, 'Матрица ошибок')"
      ]
     },
     "execution_count": 80,
     "metadata": {},
     "output_type": "execute_result"
    },
    {
     "data": {
      "image/png": "[encoded data removed]",
      "text/plain": [
       "<Figure size 720x576 with 2 Axes>"
      ]
     },
     "metadata": {
      "needs_background": "light"
     },
     "output_type": "display_data"
    }
   ],
   "source": [
    "#выведим матрицу ошибок\n",
    "sns.heatmap(confusion_matrix(target_test, predicted_test),annot=True,fmt='3.0f',cmap=\"summer\")\n",
    "plt.title('Матрица ошибок', y=1.05, size=15)"
   ]
  },
  {
   "cell_type": "markdown",
   "metadata": {},
   "source": [
    "Отлично, модель очень мало ошибалась. Вспомним что матрица ошибок - это таблица, которая используется для оценки качества классификации модели. Она показывает, какие ошибки были допущены при прогнозировании классов.\n",
    "\n",
    "TP (True Positive) - это количество истинно-положительных срабатываний модели, то есть количество объектов, которые были правильно классифицированы как положительные. В данном случае TP=1447 - 1447 объектов были правильно классифицированы как положительные.\n",
    "\n",
    "FP (False Positive) - это количество ложно-положительных срабатываний, то есть количество объектов, которые были неправильно классифицированы как положительные. В данном случае FP=39 - 39 объектов неправильно классифицированы как положительные.\n",
    "\n",
    "FN (False Negative) - это количество ложно-отрицательных срабатываний, то есть количество объектов, которые были неправильно классифицированы как отрицательные. В данном случае FN=157 - 157 объектов неправильно классифицированы как отрицательные.\n",
    "\n",
    "TN (True Negative) - это количество истинно-отрицательных срабатываний модели, то есть количество объектов, которые были правильно классифицированы как отрицательные. В данном случае TN=118 - 118 объектов были правильно классифицированы как отрицательные.\n",
    "\n",
    "модель чаще предсказывет ложно-негативные, чем ложно-позитивные. Следовательно, модель лучше научилась предсказывать тех, кто уйдёт, чем те, кто останется.Модель достаточно редко ошибается в том, что клиент останется,но ошибается с тем, кто вероятнее всего уйдет."
   ]
  },
  {
   "cell_type": "markdown",
   "metadata": {},
   "source": [
    "Чтобы проанализировать важность признаков, можно использовать следующие методы:\n",
    "\n",
    "Веса признаков: некоторые модели возвращают веса признаков, которые указывают, насколько сильно каждый признак влияет на прогнозирование.\n",
    "И отрисовать графически."
   ]
  },
  {
   "cell_type": "markdown",
   "metadata": {},
   "source": [
    "Оценим важность признаков лучшей модели. Отобразим их на графике."
   ]
  },
  {
   "cell_type": "code",
   "execution_count": 81,
   "metadata": {},
   "outputs": [
    {
     "data": {
      "image/png": "[encoded data removed]",
      "text/plain": [
       "<Figure size 1080x576 with 1 Axes>"
      ]
     },
     "metadata": {
      "needs_background": "light"
     },
     "output_type": "display_data"
    }
   ],
   "source": [
    "feature_importance = best_model.feature_importances_\n",
    "sorted_idx = np.argsort(feature_importance)\n",
    "fig = plt.figure(figsize=(15,8))\n",
    "plt.barh(range(len(sorted_idx)), feature_importance[sorted_idx], align='center')\n",
    "plt.yticks(range(len(sorted_idx)), np.array(features_test_ohe.columns)[sorted_idx])\n",
    "plt.title('Feature Importance')\n",
    "plt.savefig('./feature_importance.png')\n",
    "plt.show()"
   ]
  },
  {
   "cell_type": "markdown",
   "metadata": {},
   "source": [
    "Больше всего на факт ухода клиента влияет время наш новый введеный признак counts_days, время  пользования услугами. Также большое значение имеют ежемесячные и общие траты. остальные факторы не значительно оказывают влияние на модель."
   ]
  },
  {
   "cell_type": "markdown",
   "metadata": {},
   "source": [
    "### 7. Итоговый вывод\n",
    "\n",
    "Для выполнения проекта заказчиком было предложено 4 датасета с информацией, полученной из разных источников: информация о договоре, персональные данные клиента, информация об интернет-услугах и информация об услугах телефонии.  После анализа данных и их предварительной обработки было  принято решение объединить все данные в одну таблицу для дальнейшего исследовательского анализа. На этапе предобработки мы:\n",
    "\n",
    "Привели названия стобцов к единому стилю\n",
    "Добавили два новых признака: целевой и длительность договора\n",
    "Проверили данные на мультиколлинеарность и приняли решение избавиться от столбцов с датами, и идентификационным номеров.\n",
    "Разделили данные на обучающие и тестовые, и подготовили наборы индивидуально для каждого алгоритма\n",
    "Обучили и подобрали оптимальные гиперпараметры с помощью кросс-валидации для логистической регрессии, случайного леса и LGBMClassifier, сравнили полученные метрики\n",
    "Проверили лучшую модель на качество при работе с тестовыми данными.\n",
    "Выбранная модель LGBMClassifier смогла получить на тесте AUC-ROC >= 0.90 и наибольшую accuracy 0,91 на обучающих и тестовых данных.\n",
    "\n",
    " По итогам проведенной работы, оператору связи «Ниединогоразрыва.ком» для прогнозирования оттока клиентов стоит порекомендовать модель LGBMClassifier \n",
    "\n",
    " Большая часть клиентов уходила в диапазоне с 500 по 1300 дней. На них стоит обратить внимание и предлагать какие-либо акции и скидки на доп.услуги\n",
    "\n",
    " Также компании «Ниединогоразрыва.ком» стоит провести опрос среди лояльных и будущих клиентов по типу оплаты, так как текущий выбор подходит не всем клиентам, и, возможно, будет полезным добавить новый тип или оптимизировать текущие затраты.\n",
    "Итоговые метрики качества на тестовой выборке составили:\n",
    "\n",
    "ROC AUC = 0.90\n",
    "\n",
    "Аccuracy (долю объектов, для которых мы правильно предсказали класс)   нашей модели = 0.91.\n",
    "Стоит также больше обратить внимание на клиентов которые пользуются услугами от 500 до 1300 дней, так как данный признак сильно влияет на решение остаться или уйти от оператора связи.Также большое значение имеют ежемесячные и общие траты. остальные факторы не значительно оказывают влияние на модель."
   ]
  },
  {
   "cell_type": "markdown",
   "metadata": {},
   "source": [
    "### Отчет  по проекту для заказчика "
   ]
  },
  {
   "cell_type": "markdown",
   "metadata": {},
   "source": [
    "Перед тем как приступить к исследованию, мы составили пошаговый план действий для каждого этапа. План работы состоит из 7 пунктов.\n",
    "\n",
    "↪ Первым делом мы импортировали все необходимые библиотеки и провели первичный (разведывательный) анализ данных, чтобы понять какие данные нам предоставил заказчик и как мы их будем обрабатывать и систематизировать для дальнейшего анализа в целях решения поставленной задачи. В ходе первого этапа мы определили, что у нас есть 4 таблицы с информацией из разных источников с актуальностью на 2020-02-01: информация о договоре, персональные данные клиента, информация об интернет-услугах и информация об услугах телефонии. Всего получено 7043 уникальных наблюдений-договоров. От заказчика мы получили подробное описание столбцов в указанных таблицах, поэтому никаких проблем с идентификацией данных на текущем этапе не возникло. На этом этапе мы определили все необходимые нам действия, которые необходимы для построения моделей.\n",
    "\n",
    "↪  на втором этапе мы  проделали следующие ключевые мероприятия:\n",
    "\n",
    "предобработка данных и объединение таблиц в одну общую по столбцу customer_id\n",
    "создание нового признака длительность договора count_days, который в последствии оказал большое влияние на обучение и качество модели, и целевой признак target. Все четыре таблицы, которые были предоставлены заказчиком, обладали минимальным количеством пропусков, при обработке были заменены некоторые названия столбцов, столбцы с датами были приведены к нижнему регистру. При обработке столбца TotalCharges  была обнаружена небольшая аномалия. Формат столбцов был не числовой, соответственно было сделано  предположение что в данных есть не только суммы по абонентской плате (оплата услуг) но и отсутствие данных, предположила что в случаях если абонент выбрал тип оплаты годовой и расторг раньше времени, если пользовался меньше месяца, если на момент среза данных еще не оплачивал услуги. Пропуски заменили на значение 0 (то есть сумма годовая 0).  Так же при слиянии таблиц обнаружилось достаточно много пропусков,которые появились в столбцах с информацией об интернет-услугах: 1526 Пропусков в столбцах, с информацией о телефонии: 682. Но мы заметили, что пропуски после объединения таблиц появились только в колонках с информацией о дополнительных услугах. Как мы уже отмечали выше, из 7032 контрактов только 5517 пользователей пользуется интернет-услугами и 6361 телефонией, что соответствует образовавшимся пропускам. Заменили пропуски на no (понятно что клиент просто не пользуется данной услугой). В столбце multiplelines поставили заглушку. Все столбцы с информацией о доп.услугах бинарные, содержат значения Yes или No, поэтому пропущенные значения можно заполнить значением No, то есть отсутствие доп.услуг. \n",
    "Был проведен исследовательский анализ данных по лояльным и ушедшим клиентам,\n",
    "проверка признаков на мультиколлинеарность, в ходе которой стало понятно что имеется корреляция между месячными, суммарными тратами и дополнительными услугами.\n",
    "Признак gender имеет нулевую корреляцию со всеми признаками.\n",
    "Целевой признак не имеет сильно выраженной корреляции с остальными признаками.\n",
    "Итак по итогам проведенного анализа таблицы изучены, объеденены (final_df) пропуски образовавшиеся при заполнении бинарных признаков заполнены третьей категорией удалены признаки дат, добавлена целевая метка факта ухода и признак продолжительности пользования услугами.\n",
    "Исследована зависимости признаков от целевого признака - факта ухода клиента. при исследовании мультиколлинеарности почти нулевая корреляция  признака TotalCharges, незначимый признак gender. Заказчик может принять решение по их удалению.\n",
    "Обнаружена небалансированность классов. RANDOM_STATE = 11092023 был принят и разделение данных на обучающую и тестовую выборки в соотношении 75% / 25%  был произведен. Проведено кодирование данных OHE для избежания утечки. Построены и обучены с использованием кросс-валидации модели линейной регрессии случайного леса и случайного леса с градиентным усилением (LGBMClassifier).\n",
    "При кодировании прзнаков,их разделили на численные и категориальные (numerical_cols,categorical_cols), затем создали конвейер для преобразования признаков с \n",
    " ColumnTransformer.  Для построения модели логистической регриссии, был выбран кодировщик onehotEncoder для кодирования категориальных признаков, так как  разные модели могут принимать разный вид кодирования для модели RandomForestClassifier  для категориальных колонок был применен  OrdinalEncoder. Было тпкже применено масштабирование численных признаков. для всех представленных моделей был применен подбор гиперпараметров (на кроссвалидации с GridSearchCV).\n",
    "    \n",
    "Модели были протестированы, вычислена заданная метрика AUC-ROC, также accuracy, проанализирована склонность моделей предсказывать ложные ответы.\n",
    " Высокое значение метрики удалось достичь, благодаря не допущения утечки данных при обработе признаков, добавления нового признака (count_days), который по анализу признаков проявил себя как самый важный при решении клиента покинуть оператора связи. \n",
    "В ходе работы с данными трудности возникли с кодированием. Кодирование сразу всей обучающей выборки перед кросс-валидацией повлекло утечку данных из валидационных фолдов в обучающие. Справилась с этим путем объединения кодировщиков  включая масштабирование, и модель в конвейер для более объективной оценки модели и подбора оптимальных гиперпараметров. Все этапы были одинаково полезны, без какого либо из них мы бы не смогли добиться поставленной цели. Нам удалось придерживаться первоначального плана без отклонений.\n",
    "\n",
    "📌 По итогам третьего и четвертого этапа была выявлена лучшая модель LGBMClassifier, которая смогла получить AUC-ROC >= 0.85 и наибольшую accuracy на обучающих и тестовых данных, а именно ROC AUC – 0.89 на тесте, с гиперпараметрами  {'learning_rate': 0.3, 'max_depth': 10, 'n_estimators': 100} , которая обучалась на всех признаках, кроме: begin_date, end_date, customer_id. \n",
    " Так же по итогам построения матрицы ошибок и  важности признаков, которые оказывают влияние на клиента на основе лучшей модели best_model=grid_search_lgbm.best_estimator_ больше всего на факт ухода клиента влияет время наш новый введеный признак counts_days, время  пользования услугами. Также большое значение имеют ежемесячные и общие траты. Остальные факторы не значительно оказывают влияние на модель.\n",
    "LGBMClassifier модель имеет наивысшую заданную по условию метрику AUC-ROC\n",
    "Accuracy, более понятная для заказчика метрика, как и матрица ошибок, Заказчику важно понимать  доля объектов, для которых мы правильно предсказали класс (уйдет или не уйдет клиент). значение полученное достаточно высокое, а именно предсказание  факта ухода у него, самая высокая.\n",
    "Также LGBMClassifier обучается намного быстрее и имеет наиболее сбалансированные и минимальные значения частоты предсказывания ложно-положительных и ложно-отрицательных ответов (уход клиента, который не собирался уходить и непредсказания ухода клиента, который собирается уйти соответсвенно). Данную модель можно рекомендовать заказчику, потому что это мощная модель машинного обучения, которая может использоваться для решения широкого спектра задач классификации с высокой точностью и скоростью обучения.\n"
   ]
  }
 ],
 "metadata": {
  "ExecuteTimeLog": [
   {
    "duration": 1477,
    "start_time": "2023-09-11T20:03:00.594Z"
   },
   {
    "duration": 513,
    "start_time": "2023-09-11T20:03:13.072Z"
   },
   {
    "duration": 49,
    "start_time": "2023-09-11T20:03:25.201Z"
   },
   {
    "duration": 33,
    "start_time": "2023-09-11T20:03:40.146Z"
   },
   {
    "duration": 57,
    "start_time": "2023-09-11T20:05:21.415Z"
   },
   {
    "duration": 31,
    "start_time": "2023-09-11T20:05:55.637Z"
   },
   {
    "duration": 119,
    "start_time": "2023-09-11T20:17:00.775Z"
   },
   {
    "duration": 10,
    "start_time": "2023-09-11T20:17:09.567Z"
   },
   {
    "duration": 10,
    "start_time": "2023-09-11T20:17:15.063Z"
   },
   {
    "duration": 9,
    "start_time": "2023-09-11T20:17:24.502Z"
   },
   {
    "duration": 9,
    "start_time": "2023-09-11T20:17:33.144Z"
   },
   {
    "duration": 2,
    "start_time": "2023-09-11T20:17:38.191Z"
   },
   {
    "duration": 87,
    "start_time": "2023-09-11T20:18:13.888Z"
   },
   {
    "duration": 79,
    "start_time": "2023-09-11T20:18:23.400Z"
   },
   {
    "duration": 375,
    "start_time": "2023-09-11T20:18:32.544Z"
   },
   {
    "duration": 1426,
    "start_time": "2023-09-12T07:52:10.689Z"
   },
   {
    "duration": 10063,
    "start_time": "2023-09-12T07:57:20.694Z"
   },
   {
    "duration": 111,
    "start_time": "2023-09-12T08:38:23.112Z"
   },
   {
    "duration": 10,
    "start_time": "2023-09-12T08:39:07.770Z"
   },
   {
    "duration": 3,
    "start_time": "2023-09-12T08:39:18.543Z"
   },
   {
    "duration": 192,
    "start_time": "2023-09-12T08:39:19.712Z"
   },
   {
    "duration": 364,
    "start_time": "2023-09-12T08:39:20.657Z"
   },
   {
    "duration": 43,
    "start_time": "2023-09-12T08:39:21.909Z"
   },
   {
    "duration": 33,
    "start_time": "2023-09-12T08:39:22.818Z"
   },
   {
    "duration": 54,
    "start_time": "2023-09-12T08:39:23.674Z"
   },
   {
    "duration": 31,
    "start_time": "2023-09-12T08:39:24.403Z"
   },
   {
    "duration": 9,
    "start_time": "2023-09-12T08:39:27.217Z"
   },
   {
    "duration": 5,
    "start_time": "2023-09-12T08:39:35.383Z"
   },
   {
    "duration": 5,
    "start_time": "2023-09-12T08:39:47.696Z"
   },
   {
    "duration": 7,
    "start_time": "2023-09-12T08:42:45.173Z"
   },
   {
    "duration": 21,
    "start_time": "2023-09-12T08:44:08.812Z"
   },
   {
    "duration": 8,
    "start_time": "2023-09-12T08:47:40.117Z"
   },
   {
    "duration": 14,
    "start_time": "2023-09-12T08:48:02.973Z"
   },
   {
    "duration": 7,
    "start_time": "2023-09-12T08:49:53.974Z"
   },
   {
    "duration": 420,
    "start_time": "2023-09-12T08:50:14.724Z"
   },
   {
    "duration": 5,
    "start_time": "2023-09-12T08:50:32.565Z"
   },
   {
    "duration": 424,
    "start_time": "2023-09-12T08:51:10.775Z"
   },
   {
    "duration": 5,
    "start_time": "2023-09-12T08:51:41.909Z"
   },
   {
    "duration": 14,
    "start_time": "2023-09-12T08:52:04.769Z"
   },
   {
    "duration": 29,
    "start_time": "2023-09-12T08:54:40.770Z"
   },
   {
    "duration": 3,
    "start_time": "2023-09-12T08:55:20.817Z"
   },
   {
    "duration": 13,
    "start_time": "2023-09-12T08:55:29.482Z"
   },
   {
    "duration": 16,
    "start_time": "2023-09-12T08:57:37.946Z"
   },
   {
    "duration": 4,
    "start_time": "2023-09-12T08:58:15.933Z"
   },
   {
    "duration": 13,
    "start_time": "2023-09-12T08:59:51.364Z"
   },
   {
    "duration": 4,
    "start_time": "2023-09-12T09:00:22.526Z"
   },
   {
    "duration": 9,
    "start_time": "2023-09-12T09:00:53.269Z"
   },
   {
    "duration": 3,
    "start_time": "2023-09-12T09:01:18.664Z"
   },
   {
    "duration": 19,
    "start_time": "2023-09-12T09:02:25.383Z"
   },
   {
    "duration": 14,
    "start_time": "2023-09-12T09:02:40.721Z"
   },
   {
    "duration": 14,
    "start_time": "2023-09-12T09:02:57.048Z"
   },
   {
    "duration": 506,
    "start_time": "2023-09-12T09:03:44.831Z"
   },
   {
    "duration": 3,
    "start_time": "2023-09-12T09:11:14.782Z"
   },
   {
    "duration": 461,
    "start_time": "2023-09-12T09:11:23.502Z"
   },
   {
    "duration": 12,
    "start_time": "2023-09-12T09:11:55.163Z"
   },
   {
    "duration": 7813,
    "start_time": "2023-09-12T09:12:17.912Z"
   },
   {
    "duration": 1284,
    "start_time": "2023-09-12T14:37:56.799Z"
   },
   {
    "duration": 4,
    "start_time": "2023-09-12T14:37:58.085Z"
   },
   {
    "duration": 4,
    "start_time": "2023-09-12T14:37:58.095Z"
   },
   {
    "duration": 195,
    "start_time": "2023-09-12T14:37:58.101Z"
   },
   {
    "duration": 154,
    "start_time": "2023-09-12T14:37:58.298Z"
   },
   {
    "duration": 49,
    "start_time": "2023-09-12T14:37:58.454Z"
   },
   {
    "duration": 30,
    "start_time": "2023-09-12T14:37:58.505Z"
   },
   {
    "duration": 83,
    "start_time": "2023-09-12T14:37:58.537Z"
   },
   {
    "duration": 32,
    "start_time": "2023-09-12T14:37:58.622Z"
   },
   {
    "duration": 10,
    "start_time": "2023-09-12T14:37:58.681Z"
   },
   {
    "duration": 6,
    "start_time": "2023-09-12T14:37:58.695Z"
   },
   {
    "duration": 16,
    "start_time": "2023-09-12T14:37:58.702Z"
   },
   {
    "duration": 12,
    "start_time": "2023-09-12T14:37:58.720Z"
   },
   {
    "duration": 19,
    "start_time": "2023-09-12T14:37:58.734Z"
   },
   {
    "duration": 29,
    "start_time": "2023-09-12T14:37:58.754Z"
   },
   {
    "duration": 456,
    "start_time": "2023-09-12T14:37:58.785Z"
   },
   {
    "duration": 4,
    "start_time": "2023-09-12T14:37:59.243Z"
   },
   {
    "duration": 472,
    "start_time": "2023-09-12T14:37:59.248Z"
   },
   {
    "duration": 4,
    "start_time": "2023-09-12T14:37:59.722Z"
   },
   {
    "duration": 24,
    "start_time": "2023-09-12T14:37:59.728Z"
   },
   {
    "duration": 48,
    "start_time": "2023-09-12T14:37:59.754Z"
   },
   {
    "duration": 76,
    "start_time": "2023-09-12T14:37:59.804Z"
   },
   {
    "duration": 6,
    "start_time": "2023-09-12T14:37:59.892Z"
   },
   {
    "duration": 14,
    "start_time": "2023-09-12T14:37:59.899Z"
   },
   {
    "duration": 7,
    "start_time": "2023-09-12T14:37:59.915Z"
   },
   {
    "duration": 17,
    "start_time": "2023-09-12T14:37:59.923Z"
   },
   {
    "duration": 21,
    "start_time": "2023-09-12T14:37:59.942Z"
   },
   {
    "duration": 37,
    "start_time": "2023-09-12T14:37:59.967Z"
   },
   {
    "duration": 65,
    "start_time": "2023-09-12T14:38:00.007Z"
   },
   {
    "duration": 526,
    "start_time": "2023-09-12T14:38:00.074Z"
   },
   {
    "duration": 7692,
    "start_time": "2023-09-12T14:38:00.601Z"
   },
   {
    "duration": 400,
    "start_time": "2023-09-12T14:46:28.758Z"
   },
   {
    "duration": 3,
    "start_time": "2023-09-12T14:49:23.129Z"
   },
   {
    "duration": 388,
    "start_time": "2023-09-12T15:19:04.719Z"
   },
   {
    "duration": 490,
    "start_time": "2023-09-12T15:29:06.798Z"
   },
   {
    "duration": 449,
    "start_time": "2023-09-12T15:29:49.757Z"
   },
   {
    "duration": 473,
    "start_time": "2023-09-12T15:34:20.335Z"
   },
   {
    "duration": 198,
    "start_time": "2023-09-12T15:37:48.247Z"
   },
   {
    "duration": 172,
    "start_time": "2023-09-12T15:38:29.193Z"
   },
   {
    "duration": 84,
    "start_time": "2023-09-12T15:43:13.274Z"
   },
   {
    "duration": 96664,
    "start_time": "2023-09-12T16:56:18.266Z"
   },
   {
    "duration": 4,
    "start_time": "2023-09-12T16:58:16.217Z"
   },
   {
    "duration": 191694,
    "start_time": "2023-09-12T16:58:57.787Z"
   },
   {
    "duration": 0,
    "start_time": "2023-09-12T17:02:09.487Z"
   },
   {
    "duration": 180,
    "start_time": "2023-09-12T17:02:22.138Z"
   },
   {
    "duration": 8668,
    "start_time": "2023-09-12T17:03:00.107Z"
   },
   {
    "duration": 11,
    "start_time": "2023-09-12T17:24:36.170Z"
   },
   {
    "duration": 19,
    "start_time": "2023-09-12T17:24:50.299Z"
   },
   {
    "duration": 17,
    "start_time": "2023-09-12T17:25:04.691Z"
   },
   {
    "duration": 4,
    "start_time": "2023-09-12T17:42:33.073Z"
   },
   {
    "duration": 20,
    "start_time": "2023-09-12T17:43:12.067Z"
   },
   {
    "duration": 305,
    "start_time": "2023-09-12T17:43:44.706Z"
   },
   {
    "duration": 4,
    "start_time": "2023-09-12T17:45:43.641Z"
   },
   {
    "duration": 299,
    "start_time": "2023-09-12T17:45:44.869Z"
   },
   {
    "duration": 289,
    "start_time": "2023-09-12T17:47:54.652Z"
   },
   {
    "duration": 194,
    "start_time": "2023-09-12T17:50:10.347Z"
   },
   {
    "duration": 215,
    "start_time": "2023-09-12T17:50:34.060Z"
   },
   {
    "duration": 19,
    "start_time": "2023-09-12T17:52:19.189Z"
   },
   {
    "duration": 17,
    "start_time": "2023-09-12T17:53:44.746Z"
   },
   {
    "duration": 11,
    "start_time": "2023-09-12T17:55:46.277Z"
   },
   {
    "duration": 13,
    "start_time": "2023-09-12T17:56:12.931Z"
   },
   {
    "duration": 4,
    "start_time": "2023-09-13T07:29:04.794Z"
   },
   {
    "duration": 3,
    "start_time": "2023-09-13T07:29:09.706Z"
   },
   {
    "duration": 5,
    "start_time": "2023-09-13T07:29:15.410Z"
   },
   {
    "duration": 4,
    "start_time": "2023-09-13T07:29:21.387Z"
   },
   {
    "duration": 134,
    "start_time": "2023-09-13T07:29:23.507Z"
   },
   {
    "duration": 48,
    "start_time": "2023-09-13T07:29:25.434Z"
   },
   {
    "duration": 32,
    "start_time": "2023-09-13T07:29:26.315Z"
   },
   {
    "duration": 55,
    "start_time": "2023-09-13T07:29:27.315Z"
   },
   {
    "duration": 39,
    "start_time": "2023-09-13T07:29:28.229Z"
   },
   {
    "duration": 9,
    "start_time": "2023-09-13T07:29:33.457Z"
   },
   {
    "duration": 6,
    "start_time": "2023-09-13T07:29:34.369Z"
   },
   {
    "duration": 19,
    "start_time": "2023-09-13T07:29:35.299Z"
   },
   {
    "duration": 10,
    "start_time": "2023-09-13T07:29:37.288Z"
   },
   {
    "duration": 16,
    "start_time": "2023-09-13T07:29:38.121Z"
   },
   {
    "duration": 11,
    "start_time": "2023-09-13T07:29:40.059Z"
   },
   {
    "duration": 499,
    "start_time": "2023-09-13T07:29:40.987Z"
   },
   {
    "duration": 4,
    "start_time": "2023-09-13T07:29:47.697Z"
   },
   {
    "duration": 444,
    "start_time": "2023-09-13T07:29:48.539Z"
   },
   {
    "duration": 6,
    "start_time": "2023-09-13T07:29:49.299Z"
   },
   {
    "duration": 13,
    "start_time": "2023-09-13T07:29:50.195Z"
   },
   {
    "duration": 4,
    "start_time": "2023-09-13T07:29:51.537Z"
   },
   {
    "duration": 10,
    "start_time": "2023-09-13T07:29:52.506Z"
   },
   {
    "duration": 3,
    "start_time": "2023-09-13T07:29:53.432Z"
   },
   {
    "duration": 23,
    "start_time": "2023-09-13T07:29:54.148Z"
   },
   {
    "duration": 3,
    "start_time": "2023-09-13T07:29:54.938Z"
   },
   {
    "duration": 8,
    "start_time": "2023-09-13T07:29:55.724Z"
   },
   {
    "duration": 4,
    "start_time": "2023-09-13T07:29:56.563Z"
   },
   {
    "duration": 13,
    "start_time": "2023-09-13T07:29:58.812Z"
   },
   {
    "duration": 437,
    "start_time": "2023-09-13T07:30:00.730Z"
   },
   {
    "duration": 8020,
    "start_time": "2023-09-13T07:30:01.604Z"
   },
   {
    "duration": 8203,
    "start_time": "2023-09-13T07:30:16.263Z"
   },
   {
    "duration": 4,
    "start_time": "2023-09-13T07:30:30.114Z"
   },
   {
    "duration": 452,
    "start_time": "2023-09-13T07:30:32.166Z"
   },
   {
    "duration": 346,
    "start_time": "2023-09-13T07:30:34.995Z"
   },
   {
    "duration": 253,
    "start_time": "2023-09-13T07:30:36.147Z"
   },
   {
    "duration": 230,
    "start_time": "2023-09-13T07:30:37.245Z"
   },
   {
    "duration": 26,
    "start_time": "2023-09-13T07:30:38.550Z"
   },
   {
    "duration": 22,
    "start_time": "2023-09-13T07:30:42.228Z"
   },
   {
    "duration": 25,
    "start_time": "2023-09-13T07:30:43.051Z"
   },
   {
    "duration": 13,
    "start_time": "2023-09-13T07:30:48.885Z"
   },
   {
    "duration": 12050,
    "start_time": "2023-09-13T07:31:28.876Z"
   },
   {
    "duration": 18,
    "start_time": "2023-09-13T07:32:02.108Z"
   },
   {
    "duration": 15,
    "start_time": "2023-09-13T07:33:59.312Z"
   },
   {
    "duration": 1970,
    "start_time": "2023-09-13T07:36:58.121Z"
   },
   {
    "duration": 11,
    "start_time": "2023-09-13T07:37:08.625Z"
   },
   {
    "duration": 2153,
    "start_time": "2023-09-13T07:40:00.739Z"
   },
   {
    "duration": 11,
    "start_time": "2023-09-13T07:40:09.166Z"
   },
   {
    "duration": 25,
    "start_time": "2023-09-13T07:40:42.109Z"
   },
   {
    "duration": 32,
    "start_time": "2023-09-13T07:41:25.750Z"
   },
   {
    "duration": 655,
    "start_time": "2023-09-13T07:47:30.572Z"
   },
   {
    "duration": 4,
    "start_time": "2023-09-13T07:48:56.474Z"
   },
   {
    "duration": 728,
    "start_time": "2023-09-13T07:48:57.395Z"
   },
   {
    "duration": 6,
    "start_time": "2023-09-13T07:49:07.860Z"
   },
   {
    "duration": 774,
    "start_time": "2023-09-13T07:49:08.923Z"
   },
   {
    "duration": 3,
    "start_time": "2023-09-13T07:49:17.978Z"
   },
   {
    "duration": 14,
    "start_time": "2023-09-13T07:50:22.770Z"
   },
   {
    "duration": 281,
    "start_time": "2023-09-13T07:51:21.179Z"
   },
   {
    "duration": 216,
    "start_time": "2023-09-13T07:51:29.419Z"
   },
   {
    "duration": 441,
    "start_time": "2023-09-13T07:51:58.971Z"
   },
   {
    "duration": 293,
    "start_time": "2023-09-13T07:56:17.802Z"
   },
   {
    "duration": 19,
    "start_time": "2023-09-13T07:59:06.977Z"
   },
   {
    "duration": 27,
    "start_time": "2023-09-13T07:59:08.050Z"
   },
   {
    "duration": 16,
    "start_time": "2023-09-13T07:59:09.164Z"
   },
   {
    "duration": 9,
    "start_time": "2023-09-13T07:59:11.379Z"
   },
   {
    "duration": 11,
    "start_time": "2023-09-13T07:59:12.977Z"
   },
   {
    "duration": 17,
    "start_time": "2023-09-13T07:59:13.697Z"
   },
   {
    "duration": 10,
    "start_time": "2023-09-13T07:59:23.297Z"
   },
   {
    "duration": 11,
    "start_time": "2023-09-13T08:23:51.391Z"
   },
   {
    "duration": 14,
    "start_time": "2023-09-13T08:24:06.398Z"
   },
   {
    "duration": 192,
    "start_time": "2023-09-13T08:24:42.365Z"
   },
   {
    "duration": 92,
    "start_time": "2023-09-13T08:24:55.464Z"
   },
   {
    "duration": 121,
    "start_time": "2023-09-13T08:25:03.247Z"
   },
   {
    "duration": 5869,
    "start_time": "2023-09-13T08:25:15.086Z"
   },
   {
    "duration": 25,
    "start_time": "2023-09-13T08:26:06.824Z"
   },
   {
    "duration": 61,
    "start_time": "2023-09-13T08:28:22.497Z"
   },
   {
    "duration": 7,
    "start_time": "2023-09-13T08:28:35.935Z"
   },
   {
    "duration": 1289,
    "start_time": "2023-09-13T08:28:52.103Z"
   },
   {
    "duration": 5454,
    "start_time": "2023-09-13T08:28:53.394Z"
   },
   {
    "duration": 165,
    "start_time": "2023-09-13T08:29:02.416Z"
   },
   {
    "duration": 5,
    "start_time": "2023-09-13T08:29:03.332Z"
   },
   {
    "duration": 1175,
    "start_time": "2023-09-13T08:29:04.172Z"
   },
   {
    "duration": 361,
    "start_time": "2023-09-13T08:29:06.557Z"
   },
   {
    "duration": 45,
    "start_time": "2023-09-13T08:29:08.818Z"
   },
   {
    "duration": 30,
    "start_time": "2023-09-13T08:29:09.680Z"
   },
   {
    "duration": 73,
    "start_time": "2023-09-13T08:29:10.118Z"
   },
   {
    "duration": 33,
    "start_time": "2023-09-13T08:29:10.386Z"
   },
   {
    "duration": 5,
    "start_time": "2023-09-13T08:29:11.164Z"
   },
   {
    "duration": 7,
    "start_time": "2023-09-13T08:29:12.439Z"
   },
   {
    "duration": 14,
    "start_time": "2023-09-13T08:29:13.274Z"
   },
   {
    "duration": 10,
    "start_time": "2023-09-13T08:29:13.732Z"
   },
   {
    "duration": 15,
    "start_time": "2023-09-13T08:29:13.904Z"
   },
   {
    "duration": 9,
    "start_time": "2023-09-13T08:29:14.360Z"
   },
   {
    "duration": 442,
    "start_time": "2023-09-13T08:29:14.518Z"
   },
   {
    "duration": 5,
    "start_time": "2023-09-13T08:29:15.548Z"
   },
   {
    "duration": 553,
    "start_time": "2023-09-13T08:29:15.772Z"
   },
   {
    "duration": 5,
    "start_time": "2023-09-13T08:29:16.327Z"
   },
   {
    "duration": 24,
    "start_time": "2023-09-13T08:29:16.333Z"
   },
   {
    "duration": 3,
    "start_time": "2023-09-13T08:29:16.496Z"
   },
   {
    "duration": 10,
    "start_time": "2023-09-13T08:29:16.654Z"
   },
   {
    "duration": 4,
    "start_time": "2023-09-13T08:29:16.874Z"
   },
   {
    "duration": 14,
    "start_time": "2023-09-13T08:29:17.112Z"
   },
   {
    "duration": 5,
    "start_time": "2023-09-13T08:29:18.158Z"
   },
   {
    "duration": 8,
    "start_time": "2023-09-13T08:29:18.406Z"
   },
   {
    "duration": 4,
    "start_time": "2023-09-13T08:29:18.650Z"
   },
   {
    "duration": 15,
    "start_time": "2023-09-13T08:29:18.882Z"
   },
   {
    "duration": 22,
    "start_time": "2023-09-13T08:29:19.050Z"
   },
   {
    "duration": 482,
    "start_time": "2023-09-13T08:29:19.246Z"
   },
   {
    "duration": 4,
    "start_time": "2023-09-13T08:29:23.833Z"
   },
   {
    "duration": 718,
    "start_time": "2023-09-13T08:29:24.887Z"
   },
   {
    "duration": 311,
    "start_time": "2023-09-13T08:29:26.278Z"
   },
   {
    "duration": 404,
    "start_time": "2023-09-13T08:29:26.592Z"
   },
   {
    "duration": 285,
    "start_time": "2023-09-13T08:29:26.998Z"
   },
   {
    "duration": 21,
    "start_time": "2023-09-13T08:29:27.364Z"
   },
   {
    "duration": 19,
    "start_time": "2023-09-13T08:29:27.589Z"
   },
   {
    "duration": 13,
    "start_time": "2023-09-13T08:29:27.819Z"
   },
   {
    "duration": 10,
    "start_time": "2023-09-13T08:29:28.270Z"
   },
   {
    "duration": 11,
    "start_time": "2023-09-13T08:29:29.581Z"
   },
   {
    "duration": 19,
    "start_time": "2023-09-13T08:29:29.823Z"
   },
   {
    "duration": 98,
    "start_time": "2023-09-13T08:29:38.577Z"
   },
   {
    "duration": 20,
    "start_time": "2023-09-13T08:29:49.383Z"
   },
   {
    "duration": 15,
    "start_time": "2023-09-13T08:30:29.490Z"
   },
   {
    "duration": 3,
    "start_time": "2023-09-13T08:32:18.719Z"
   },
   {
    "duration": 4,
    "start_time": "2023-09-13T08:33:23.954Z"
   },
   {
    "duration": 26,
    "start_time": "2023-09-13T08:34:12.453Z"
   },
   {
    "duration": 20,
    "start_time": "2023-09-13T08:39:51.223Z"
   },
   {
    "duration": 18,
    "start_time": "2023-09-13T08:40:08.425Z"
   },
   {
    "duration": 14,
    "start_time": "2023-09-13T08:42:01.142Z"
   },
   {
    "duration": 3,
    "start_time": "2023-09-13T08:42:53.063Z"
   },
   {
    "duration": 3709,
    "start_time": "2023-09-13T08:43:06.708Z"
   },
   {
    "duration": 17,
    "start_time": "2023-09-13T08:46:04.967Z"
   },
   {
    "duration": 3,
    "start_time": "2023-09-13T08:46:15.535Z"
   },
   {
    "duration": 4,
    "start_time": "2023-09-13T09:24:00.560Z"
   },
   {
    "duration": 5538,
    "start_time": "2023-09-13T09:24:01.390Z"
   },
   {
    "duration": 5,
    "start_time": "2023-09-13T09:24:17.218Z"
   },
   {
    "duration": 5501,
    "start_time": "2023-09-13T09:24:18.902Z"
   },
   {
    "duration": 4,
    "start_time": "2023-09-13T09:24:31.519Z"
   },
   {
    "duration": 1272,
    "start_time": "2023-09-13T09:24:41.514Z"
   },
   {
    "duration": 5260,
    "start_time": "2023-09-13T09:24:42.788Z"
   },
   {
    "duration": 37,
    "start_time": "2023-09-13T09:24:48.050Z"
   },
   {
    "duration": 4,
    "start_time": "2023-09-13T09:24:48.090Z"
   },
   {
    "duration": 192,
    "start_time": "2023-09-13T09:24:48.096Z"
   },
   {
    "duration": 299,
    "start_time": "2023-09-13T09:24:48.290Z"
   },
   {
    "duration": 44,
    "start_time": "2023-09-13T09:24:48.591Z"
   },
   {
    "duration": 30,
    "start_time": "2023-09-13T09:24:48.636Z"
   },
   {
    "duration": 54,
    "start_time": "2023-09-13T09:24:48.667Z"
   },
   {
    "duration": 49,
    "start_time": "2023-09-13T09:24:48.724Z"
   },
   {
    "duration": 5,
    "start_time": "2023-09-13T09:24:48.775Z"
   },
   {
    "duration": 29,
    "start_time": "2023-09-13T09:24:48.781Z"
   },
   {
    "duration": 23,
    "start_time": "2023-09-13T09:24:48.812Z"
   },
   {
    "duration": 16,
    "start_time": "2023-09-13T09:24:48.836Z"
   },
   {
    "duration": 42,
    "start_time": "2023-09-13T09:24:48.854Z"
   },
   {
    "duration": 8,
    "start_time": "2023-09-13T09:24:48.898Z"
   },
   {
    "duration": 492,
    "start_time": "2023-09-13T09:24:48.907Z"
   },
   {
    "duration": 4,
    "start_time": "2023-09-13T09:24:49.401Z"
   },
   {
    "duration": 465,
    "start_time": "2023-09-13T09:24:49.406Z"
   },
   {
    "duration": 5,
    "start_time": "2023-09-13T09:24:49.873Z"
   },
   {
    "duration": 42,
    "start_time": "2023-09-13T09:24:49.880Z"
   },
   {
    "duration": 27,
    "start_time": "2023-09-13T09:24:49.923Z"
   },
   {
    "duration": 48,
    "start_time": "2023-09-13T09:24:49.951Z"
   },
   {
    "duration": 48,
    "start_time": "2023-09-13T09:24:50.000Z"
   },
   {
    "duration": 45,
    "start_time": "2023-09-13T09:24:50.049Z"
   },
   {
    "duration": 83,
    "start_time": "2023-09-13T09:24:50.096Z"
   },
   {
    "duration": 46,
    "start_time": "2023-09-13T09:24:50.182Z"
   },
   {
    "duration": 19,
    "start_time": "2023-09-13T09:24:50.232Z"
   },
   {
    "duration": 35,
    "start_time": "2023-09-13T09:24:50.252Z"
   },
   {
    "duration": 33,
    "start_time": "2023-09-13T09:24:50.289Z"
   },
   {
    "duration": 513,
    "start_time": "2023-09-13T09:24:50.324Z"
   },
   {
    "duration": 7650,
    "start_time": "2023-09-13T09:24:50.839Z"
   },
   {
    "duration": 5,
    "start_time": "2023-09-13T09:24:58.491Z"
   },
   {
    "duration": 580,
    "start_time": "2023-09-13T09:24:58.497Z"
   },
   {
    "duration": 402,
    "start_time": "2023-09-13T09:24:59.079Z"
   },
   {
    "duration": 393,
    "start_time": "2023-09-13T09:24:59.483Z"
   },
   {
    "duration": 299,
    "start_time": "2023-09-13T09:24:59.878Z"
   },
   {
    "duration": 22,
    "start_time": "2023-09-13T09:25:00.179Z"
   },
   {
    "duration": 156,
    "start_time": "2023-09-13T09:25:00.202Z"
   },
   {
    "duration": 115,
    "start_time": "2023-09-13T09:25:00.360Z"
   },
   {
    "duration": 134,
    "start_time": "2023-09-13T09:25:00.477Z"
   },
   {
    "duration": 144,
    "start_time": "2023-09-13T09:25:00.613Z"
   },
   {
    "duration": 101,
    "start_time": "2023-09-13T09:25:00.759Z"
   },
   {
    "duration": 96,
    "start_time": "2023-09-13T09:25:00.862Z"
   },
   {
    "duration": 41,
    "start_time": "2023-09-13T09:25:00.960Z"
   },
   {
    "duration": 70,
    "start_time": "2023-09-13T09:25:01.002Z"
   },
   {
    "duration": 34735,
    "start_time": "2023-09-13T09:25:01.073Z"
   },
   {
    "duration": 87,
    "start_time": "2023-09-14T04:08:59.447Z"
   },
   {
    "duration": 102,
    "start_time": "2023-09-14T06:23:08.738Z"
   },
   {
    "duration": 60,
    "start_time": "2023-09-14T06:54:56.990Z"
   },
   {
    "duration": 1383,
    "start_time": "2023-09-14T06:55:09.198Z"
   },
   {
    "duration": 10937,
    "start_time": "2023-09-14T06:55:10.583Z"
   },
   {
    "duration": 48,
    "start_time": "2023-09-14T06:55:25.767Z"
   },
   {
    "duration": 3,
    "start_time": "2023-09-14T06:55:26.764Z"
   },
   {
    "duration": 230,
    "start_time": "2023-09-14T06:55:27.703Z"
   },
   {
    "duration": 365,
    "start_time": "2023-09-14T06:55:41.355Z"
   },
   {
    "duration": 42,
    "start_time": "2023-09-14T06:55:42.289Z"
   },
   {
    "duration": 35,
    "start_time": "2023-09-14T06:55:43.303Z"
   },
   {
    "duration": 60,
    "start_time": "2023-09-14T06:55:44.298Z"
   },
   {
    "duration": 27,
    "start_time": "2023-09-14T06:55:45.267Z"
   },
   {
    "duration": 8,
    "start_time": "2023-09-14T06:55:49.132Z"
   },
   {
    "duration": 4,
    "start_time": "2023-09-14T06:55:50.117Z"
   },
   {
    "duration": 77838,
    "start_time": "2023-09-14T06:55:51.238Z"
   },
   {
    "duration": 14,
    "start_time": "2023-09-14T06:57:09.078Z"
   },
   {
    "duration": 6,
    "start_time": "2023-09-14T07:01:11.892Z"
   },
   {
    "duration": 4,
    "start_time": "2023-09-14T07:01:44.399Z"
   },
   {
    "duration": 9,
    "start_time": "2023-09-14T07:03:22.757Z"
   },
   {
    "duration": 4,
    "start_time": "2023-09-14T07:03:23.648Z"
   },
   {
    "duration": 48,
    "start_time": "2023-09-14T07:06:36.811Z"
   },
   {
    "duration": 6,
    "start_time": "2023-09-14T07:10:46.461Z"
   },
   {
    "duration": 6,
    "start_time": "2023-09-14T07:11:07.536Z"
   },
   {
    "duration": 182,
    "start_time": "2023-09-14T07:11:36.304Z"
   },
   {
    "duration": 1779,
    "start_time": "2023-09-14T07:12:54.055Z"
   },
   {
    "duration": 188,
    "start_time": "2023-09-14T07:13:36.417Z"
   },
   {
    "duration": 13,
    "start_time": "2023-09-14T07:35:51.682Z"
   },
   {
    "duration": 8,
    "start_time": "2023-09-14T07:40:28.406Z"
   },
   {
    "duration": 16,
    "start_time": "2023-09-14T08:09:03.292Z"
   },
   {
    "duration": 2248,
    "start_time": "2023-09-14T08:09:10.473Z"
   },
   {
    "duration": 2293,
    "start_time": "2023-09-14T08:09:18.908Z"
   },
   {
    "duration": 21,
    "start_time": "2023-09-14T08:09:46.041Z"
   },
   {
    "duration": 21,
    "start_time": "2023-09-14T08:12:38.315Z"
   },
   {
    "duration": 102,
    "start_time": "2023-09-14T08:14:06.209Z"
   },
   {
    "duration": 191,
    "start_time": "2023-09-14T08:14:17.056Z"
   },
   {
    "duration": 81,
    "start_time": "2023-09-14T08:14:25.389Z"
   },
   {
    "duration": 99,
    "start_time": "2023-09-14T08:14:37.611Z"
   },
   {
    "duration": 115,
    "start_time": "2023-09-14T08:14:52.874Z"
   },
   {
    "duration": 15,
    "start_time": "2023-09-14T08:16:56.135Z"
   },
   {
    "duration": 28,
    "start_time": "2023-09-14T08:17:11.410Z"
   },
   {
    "duration": 25,
    "start_time": "2023-09-14T08:24:23.437Z"
   },
   {
    "duration": 519,
    "start_time": "2023-09-14T08:24:30.179Z"
   },
   {
    "duration": 5,
    "start_time": "2023-09-14T08:24:31.512Z"
   },
   {
    "duration": 440,
    "start_time": "2023-09-14T08:24:33.140Z"
   },
   {
    "duration": 12,
    "start_time": "2023-09-14T08:24:34.437Z"
   },
   {
    "duration": 347,
    "start_time": "2023-09-14T08:25:21.451Z"
   },
   {
    "duration": 14,
    "start_time": "2023-09-14T08:25:44.427Z"
   },
   {
    "duration": 12,
    "start_time": "2023-09-14T08:26:21.764Z"
   },
   {
    "duration": 4,
    "start_time": "2023-09-14T08:26:29.551Z"
   },
   {
    "duration": 27,
    "start_time": "2023-09-14T08:26:31.917Z"
   },
   {
    "duration": 10,
    "start_time": "2023-09-14T08:26:35.770Z"
   },
   {
    "duration": 21,
    "start_time": "2023-09-14T08:26:36.620Z"
   },
   {
    "duration": 3,
    "start_time": "2023-09-14T08:26:37.757Z"
   },
   {
    "duration": 15,
    "start_time": "2023-09-14T08:26:39.125Z"
   },
   {
    "duration": 3,
    "start_time": "2023-09-14T08:26:40.396Z"
   },
   {
    "duration": 15,
    "start_time": "2023-09-14T08:26:44.145Z"
   },
   {
    "duration": 15,
    "start_time": "2023-09-14T08:26:45.084Z"
   },
   {
    "duration": 103,
    "start_time": "2023-09-14T08:26:59.885Z"
   },
   {
    "duration": 5,
    "start_time": "2023-09-14T08:27:19.944Z"
   },
   {
    "duration": 6,
    "start_time": "2023-09-14T08:27:25.245Z"
   },
   {
    "duration": 3,
    "start_time": "2023-09-14T08:28:06.163Z"
   },
   {
    "duration": 16,
    "start_time": "2023-09-14T08:35:16.111Z"
   },
   {
    "duration": 63,
    "start_time": "2023-09-14T08:35:38.102Z"
   },
   {
    "duration": 47,
    "start_time": "2023-09-14T08:35:59.761Z"
   },
   {
    "duration": 13,
    "start_time": "2023-09-14T08:36:53.647Z"
   },
   {
    "duration": 14,
    "start_time": "2023-09-14T10:25:55.674Z"
   },
   {
    "duration": 1519,
    "start_time": "2023-09-15T05:13:27.870Z"
   },
   {
    "duration": 11346,
    "start_time": "2023-09-15T05:13:29.391Z"
   },
   {
    "duration": 94,
    "start_time": "2023-09-15T05:13:40.742Z"
   },
   {
    "duration": 111,
    "start_time": "2023-09-15T05:13:57.384Z"
   },
   {
    "duration": 229,
    "start_time": "2023-09-15T05:14:03.082Z"
   },
   {
    "duration": 485,
    "start_time": "2023-09-15T05:14:04.196Z"
   },
   {
    "duration": 54,
    "start_time": "2023-09-15T05:14:05.441Z"
   },
   {
    "duration": 30,
    "start_time": "2023-09-15T05:14:06.468Z"
   },
   {
    "duration": 70,
    "start_time": "2023-09-15T05:14:07.410Z"
   },
   {
    "duration": 31,
    "start_time": "2023-09-15T05:14:08.264Z"
   },
   {
    "duration": 6,
    "start_time": "2023-09-15T05:14:15.444Z"
   },
   {
    "duration": 5,
    "start_time": "2023-09-15T05:14:16.778Z"
   },
   {
    "duration": 6,
    "start_time": "2023-09-15T05:14:20.200Z"
   },
   {
    "duration": 3,
    "start_time": "2023-09-15T05:14:22.539Z"
   },
   {
    "duration": 14,
    "start_time": "2023-09-15T05:14:23.839Z"
   },
   {
    "duration": 14,
    "start_time": "2023-09-15T05:14:26.544Z"
   },
   {
    "duration": 12,
    "start_time": "2023-09-15T05:14:33.764Z"
   },
   {
    "duration": 2,
    "start_time": "2023-09-15T05:14:35.643Z"
   },
   {
    "duration": 519,
    "start_time": "2023-09-15T05:14:43.879Z"
   },
   {
    "duration": 9,
    "start_time": "2023-09-15T05:14:44.718Z"
   },
   {
    "duration": 513,
    "start_time": "2023-09-15T05:14:46.137Z"
   },
   {
    "duration": 6,
    "start_time": "2023-09-15T05:14:49.480Z"
   },
   {
    "duration": 11,
    "start_time": "2023-09-15T05:14:52.438Z"
   },
   {
    "duration": 9,
    "start_time": "2023-09-15T05:14:53.997Z"
   },
   {
    "duration": 10,
    "start_time": "2023-09-15T05:14:55.340Z"
   },
   {
    "duration": 3,
    "start_time": "2023-09-15T05:14:56.291Z"
   },
   {
    "duration": 21,
    "start_time": "2023-09-15T05:14:57.097Z"
   },
   {
    "duration": 3,
    "start_time": "2023-09-15T05:14:58.439Z"
   },
   {
    "duration": 9,
    "start_time": "2023-09-15T05:15:00.165Z"
   },
   {
    "duration": 3,
    "start_time": "2023-09-15T05:15:01.194Z"
   },
   {
    "duration": 2,
    "start_time": "2023-09-15T05:15:02.284Z"
   },
   {
    "duration": 3,
    "start_time": "2023-09-15T05:15:04.560Z"
   },
   {
    "duration": 61,
    "start_time": "2023-09-15T05:15:08.300Z"
   },
   {
    "duration": 13,
    "start_time": "2023-09-15T05:15:10.357Z"
   },
   {
    "duration": 11,
    "start_time": "2023-09-15T05:17:35.361Z"
   },
   {
    "duration": 11,
    "start_time": "2023-09-15T05:18:56.138Z"
   },
   {
    "duration": 136,
    "start_time": "2023-09-15T05:22:00.948Z"
   },
   {
    "duration": 19,
    "start_time": "2023-09-15T05:22:06.605Z"
   },
   {
    "duration": 18,
    "start_time": "2023-09-15T05:22:12.354Z"
   },
   {
    "duration": 2018,
    "start_time": "2023-09-15T05:27:44.674Z"
   },
   {
    "duration": 7,
    "start_time": "2023-09-15T05:27:55.340Z"
   },
   {
    "duration": 441,
    "start_time": "2023-09-15T05:28:51.276Z"
   },
   {
    "duration": 4,
    "start_time": "2023-09-15T05:29:11.974Z"
   },
   {
    "duration": 42,
    "start_time": "2023-09-15T05:29:12.787Z"
   },
   {
    "duration": 4,
    "start_time": "2023-09-15T05:29:33.860Z"
   },
   {
    "duration": 778,
    "start_time": "2023-09-15T05:29:40.549Z"
   },
   {
    "duration": 479,
    "start_time": "2023-09-15T05:29:46.336Z"
   },
   {
    "duration": 315,
    "start_time": "2023-09-15T05:29:48.582Z"
   },
   {
    "duration": 5,
    "start_time": "2023-09-15T05:29:50.606Z"
   },
   {
    "duration": 3,
    "start_time": "2023-09-15T05:30:12.682Z"
   },
   {
    "duration": 3,
    "start_time": "2023-09-15T05:30:13.639Z"
   },
   {
    "duration": 29946,
    "start_time": "2023-09-15T05:30:15.926Z"
   },
   {
    "duration": 3,
    "start_time": "2023-09-15T06:37:25.946Z"
   },
   {
    "duration": 5144,
    "start_time": "2023-09-15T06:37:26.904Z"
   },
   {
    "duration": 3,
    "start_time": "2023-09-15T06:37:34.058Z"
   },
   {
    "duration": 3,
    "start_time": "2023-09-15T06:37:35.023Z"
   },
   {
    "duration": 5,
    "start_time": "2023-09-15T06:37:35.875Z"
   },
   {
    "duration": 138,
    "start_time": "2023-09-15T06:37:37.123Z"
   },
   {
    "duration": 43,
    "start_time": "2023-09-15T06:37:38.316Z"
   },
   {
    "duration": 32,
    "start_time": "2023-09-15T06:37:39.618Z"
   },
   {
    "duration": 50,
    "start_time": "2023-09-15T06:37:40.609Z"
   },
   {
    "duration": 30,
    "start_time": "2023-09-15T06:37:41.732Z"
   },
   {
    "duration": 5,
    "start_time": "2023-09-15T06:39:03.630Z"
   },
   {
    "duration": 6,
    "start_time": "2023-09-15T06:39:04.702Z"
   },
   {
    "duration": 3,
    "start_time": "2023-09-15T06:39:05.758Z"
   },
   {
    "duration": 2,
    "start_time": "2023-09-15T06:39:06.928Z"
   },
   {
    "duration": 13,
    "start_time": "2023-09-15T06:39:09.249Z"
   },
   {
    "duration": 12,
    "start_time": "2023-09-15T06:39:15.296Z"
   },
   {
    "duration": 6,
    "start_time": "2023-09-15T06:40:14.538Z"
   },
   {
    "duration": 17,
    "start_time": "2023-09-15T06:40:26.946Z"
   },
   {
    "duration": 11,
    "start_time": "2023-09-15T06:41:07.792Z"
   },
   {
    "duration": 14,
    "start_time": "2023-09-15T06:41:21.972Z"
   },
   {
    "duration": 3,
    "start_time": "2023-09-15T06:41:35.763Z"
   },
   {
    "duration": 417,
    "start_time": "2023-09-15T06:41:39.519Z"
   },
   {
    "duration": 5,
    "start_time": "2023-09-15T06:41:41.328Z"
   },
   {
    "duration": 4,
    "start_time": "2023-09-15T06:42:17.292Z"
   },
   {
    "duration": 446,
    "start_time": "2023-09-15T06:42:17.988Z"
   },
   {
    "duration": 5,
    "start_time": "2023-09-15T06:42:19.069Z"
   },
   {
    "duration": 16,
    "start_time": "2023-09-15T06:42:28.517Z"
   },
   {
    "duration": 3,
    "start_time": "2023-09-15T06:42:35.007Z"
   },
   {
    "duration": 12,
    "start_time": "2023-09-15T06:42:36.159Z"
   },
   {
    "duration": 4,
    "start_time": "2023-09-15T06:42:40.109Z"
   },
   {
    "duration": 14,
    "start_time": "2023-09-15T06:42:41.277Z"
   },
   {
    "duration": 4,
    "start_time": "2023-09-15T06:42:49.523Z"
   },
   {
    "duration": 10,
    "start_time": "2023-09-15T06:42:50.534Z"
   },
   {
    "duration": 3,
    "start_time": "2023-09-15T06:42:51.575Z"
   },
   {
    "duration": 3,
    "start_time": "2023-09-15T06:42:52.461Z"
   },
   {
    "duration": 50,
    "start_time": "2023-09-15T06:43:05.640Z"
   },
   {
    "duration": 12,
    "start_time": "2023-09-15T06:43:07.240Z"
   },
   {
    "duration": 10,
    "start_time": "2023-09-15T06:43:39.409Z"
   },
   {
    "duration": 11,
    "start_time": "2023-09-15T06:43:50.043Z"
   },
   {
    "duration": 19,
    "start_time": "2023-09-15T06:43:51.214Z"
   },
   {
    "duration": 8,
    "start_time": "2023-09-15T06:43:59.862Z"
   },
   {
    "duration": 7,
    "start_time": "2023-09-15T06:45:30.686Z"
   },
   {
    "duration": 431,
    "start_time": "2023-09-15T06:45:32.173Z"
   },
   {
    "duration": 2,
    "start_time": "2023-09-15T06:46:22.288Z"
   },
   {
    "duration": 4,
    "start_time": "2023-09-15T06:48:25.770Z"
   },
   {
    "duration": 615,
    "start_time": "2023-09-15T06:48:44.599Z"
   },
   {
    "duration": 4,
    "start_time": "2023-09-15T06:50:38.264Z"
   },
   {
    "duration": 741,
    "start_time": "2023-09-15T06:51:34.408Z"
   },
   {
    "duration": 392,
    "start_time": "2023-09-15T06:51:54.810Z"
   },
   {
    "duration": 270,
    "start_time": "2023-09-15T06:52:13.110Z"
   },
   {
    "duration": 264,
    "start_time": "2023-09-15T06:52:34.759Z"
   },
   {
    "duration": 180,
    "start_time": "2023-09-15T06:53:25.134Z"
   },
   {
    "duration": 23,
    "start_time": "2023-09-15T06:54:02.810Z"
   },
   {
    "duration": 172,
    "start_time": "2023-09-15T06:54:06.897Z"
   },
   {
    "duration": 11,
    "start_time": "2023-09-15T06:56:58.494Z"
   },
   {
    "duration": 12,
    "start_time": "2023-09-15T06:57:41.678Z"
   },
   {
    "duration": 11,
    "start_time": "2023-09-15T06:57:50.406Z"
   },
   {
    "duration": 1479,
    "start_time": "2023-09-15T06:58:00.510Z"
   },
   {
    "duration": 51,
    "start_time": "2023-09-15T06:58:10.274Z"
   },
   {
    "duration": 4,
    "start_time": "2023-09-15T06:58:52.465Z"
   },
   {
    "duration": 3,
    "start_time": "2023-09-15T06:58:54.716Z"
   },
   {
    "duration": 3,
    "start_time": "2023-09-15T06:59:59.564Z"
   },
   {
    "duration": 26032,
    "start_time": "2023-09-15T07:00:00.584Z"
   },
   {
    "duration": 16,
    "start_time": "2023-09-15T07:01:19.240Z"
   },
   {
    "duration": 7,
    "start_time": "2023-09-15T07:01:29.985Z"
   },
   {
    "duration": 3,
    "start_time": "2023-09-15T07:01:32.286Z"
   },
   {
    "duration": 3,
    "start_time": "2023-09-15T07:01:33.155Z"
   },
   {
    "duration": 3256,
    "start_time": "2023-09-15T07:01:34.382Z"
   },
   {
    "duration": 1254,
    "start_time": "2023-09-15T07:02:47.214Z"
   },
   {
    "duration": 5182,
    "start_time": "2023-09-15T07:02:48.470Z"
   },
   {
    "duration": 39,
    "start_time": "2023-09-15T07:02:53.654Z"
   },
   {
    "duration": 3,
    "start_time": "2023-09-15T07:02:53.696Z"
   },
   {
    "duration": 176,
    "start_time": "2023-09-15T07:02:53.700Z"
   },
   {
    "duration": 151,
    "start_time": "2023-09-15T07:02:53.877Z"
   },
   {
    "duration": 50,
    "start_time": "2023-09-15T07:02:54.030Z"
   },
   {
    "duration": 40,
    "start_time": "2023-09-15T07:02:54.082Z"
   },
   {
    "duration": 217,
    "start_time": "2023-09-15T07:02:54.123Z"
   },
   {
    "duration": 33,
    "start_time": "2023-09-15T07:02:54.343Z"
   },
   {
    "duration": 6,
    "start_time": "2023-09-15T07:02:54.402Z"
   },
   {
    "duration": 10,
    "start_time": "2023-09-15T07:02:54.409Z"
   },
   {
    "duration": 18,
    "start_time": "2023-09-15T07:02:54.421Z"
   },
   {
    "duration": 32,
    "start_time": "2023-09-15T07:02:54.441Z"
   },
   {
    "duration": 22,
    "start_time": "2023-09-15T07:02:54.475Z"
   },
   {
    "duration": 29,
    "start_time": "2023-09-15T07:02:54.499Z"
   },
   {
    "duration": 18,
    "start_time": "2023-09-15T07:02:54.531Z"
   },
   {
    "duration": 5,
    "start_time": "2023-09-15T07:02:54.552Z"
   },
   {
    "duration": 486,
    "start_time": "2023-09-15T07:02:54.562Z"
   },
   {
    "duration": 5,
    "start_time": "2023-09-15T07:02:55.050Z"
   },
   {
    "duration": 449,
    "start_time": "2023-09-15T07:02:55.057Z"
   },
   {
    "duration": 5,
    "start_time": "2023-09-15T07:02:55.508Z"
   },
   {
    "duration": 70,
    "start_time": "2023-09-15T07:02:55.514Z"
   },
   {
    "duration": 40,
    "start_time": "2023-09-15T07:02:55.586Z"
   },
   {
    "duration": 38,
    "start_time": "2023-09-15T07:02:55.628Z"
   },
   {
    "duration": 28,
    "start_time": "2023-09-15T07:02:55.668Z"
   },
   {
    "duration": 38,
    "start_time": "2023-09-15T07:02:55.698Z"
   },
   {
    "duration": 14,
    "start_time": "2023-09-15T07:02:55.741Z"
   },
   {
    "duration": 47,
    "start_time": "2023-09-15T07:02:55.757Z"
   },
   {
    "duration": 5,
    "start_time": "2023-09-15T07:02:55.806Z"
   },
   {
    "duration": 4,
    "start_time": "2023-09-15T07:02:55.813Z"
   },
   {
    "duration": 24,
    "start_time": "2023-09-15T07:02:55.819Z"
   },
   {
    "duration": 61,
    "start_time": "2023-09-15T07:02:55.845Z"
   },
   {
    "duration": 13,
    "start_time": "2023-09-15T07:02:55.908Z"
   },
   {
    "duration": 30,
    "start_time": "2023-09-15T07:02:55.923Z"
   },
   {
    "duration": 73,
    "start_time": "2023-09-15T07:02:55.954Z"
   },
   {
    "duration": 35,
    "start_time": "2023-09-15T07:02:56.029Z"
   },
   {
    "duration": 13,
    "start_time": "2023-09-15T07:02:56.066Z"
   },
   {
    "duration": 533,
    "start_time": "2023-09-15T07:02:56.080Z"
   },
   {
    "duration": 2,
    "start_time": "2023-09-15T07:02:56.615Z"
   },
   {
    "duration": 43,
    "start_time": "2023-09-15T07:02:56.619Z"
   },
   {
    "duration": 563,
    "start_time": "2023-09-15T07:02:56.664Z"
   },
   {
    "duration": 383,
    "start_time": "2023-09-15T07:02:57.229Z"
   },
   {
    "duration": 278,
    "start_time": "2023-09-15T07:02:57.614Z"
   },
   {
    "duration": 8,
    "start_time": "2023-09-15T07:02:57.894Z"
   },
   {
    "duration": 218,
    "start_time": "2023-09-15T07:02:57.903Z"
   },
   {
    "duration": 3,
    "start_time": "2023-09-15T07:02:58.123Z"
   },
   {
    "duration": 61,
    "start_time": "2023-09-15T07:02:58.127Z"
   },
   {
    "duration": 8,
    "start_time": "2023-09-15T07:02:58.201Z"
   },
   {
    "duration": 6,
    "start_time": "2023-09-15T07:02:58.210Z"
   },
   {
    "duration": 18,
    "start_time": "2023-09-15T07:02:58.217Z"
   },
   {
    "duration": 3519,
    "start_time": "2023-09-15T07:02:58.237Z"
   },
   {
    "duration": 119,
    "start_time": "2023-09-15T07:05:50.683Z"
   },
   {
    "duration": 117,
    "start_time": "2023-09-15T15:33:01.814Z"
   },
   {
    "duration": 1499,
    "start_time": "2023-09-15T15:40:14.653Z"
   },
   {
    "duration": 10432,
    "start_time": "2023-09-15T15:40:16.154Z"
   },
   {
    "duration": 50,
    "start_time": "2023-09-15T15:40:26.589Z"
   },
   {
    "duration": 4,
    "start_time": "2023-09-15T15:40:26.641Z"
   },
   {
    "duration": 209,
    "start_time": "2023-09-15T15:40:26.647Z"
   },
   {
    "duration": 381,
    "start_time": "2023-09-15T15:40:26.858Z"
   },
   {
    "duration": 56,
    "start_time": "2023-09-15T15:40:27.241Z"
   },
   {
    "duration": 47,
    "start_time": "2023-09-15T15:40:27.299Z"
   },
   {
    "duration": 59,
    "start_time": "2023-09-15T15:40:27.348Z"
   },
   {
    "duration": 32,
    "start_time": "2023-09-15T15:40:27.410Z"
   },
   {
    "duration": 6,
    "start_time": "2023-09-15T15:40:27.444Z"
   },
   {
    "duration": 32,
    "start_time": "2023-09-15T15:40:27.452Z"
   },
   {
    "duration": 11,
    "start_time": "2023-09-15T15:40:27.486Z"
   },
   {
    "duration": 14,
    "start_time": "2023-09-15T15:40:27.499Z"
   },
   {
    "duration": 16,
    "start_time": "2023-09-15T15:40:27.515Z"
   },
   {
    "duration": 35,
    "start_time": "2023-09-15T15:40:27.533Z"
   },
   {
    "duration": 17,
    "start_time": "2023-09-15T15:40:27.570Z"
   },
   {
    "duration": 21,
    "start_time": "2023-09-15T15:40:27.588Z"
   },
   {
    "duration": 147,
    "start_time": "2023-09-15T15:40:27.611Z"
   },
   {
    "duration": 0,
    "start_time": "2023-09-15T15:40:27.761Z"
   },
   {
    "duration": 0,
    "start_time": "2023-09-15T15:40:27.762Z"
   },
   {
    "duration": 0,
    "start_time": "2023-09-15T15:40:27.763Z"
   },
   {
    "duration": 0,
    "start_time": "2023-09-15T15:40:27.764Z"
   },
   {
    "duration": 0,
    "start_time": "2023-09-15T15:40:27.765Z"
   },
   {
    "duration": 0,
    "start_time": "2023-09-15T15:40:27.767Z"
   },
   {
    "duration": 0,
    "start_time": "2023-09-15T15:40:27.781Z"
   },
   {
    "duration": 0,
    "start_time": "2023-09-15T15:40:27.782Z"
   },
   {
    "duration": 0,
    "start_time": "2023-09-15T15:40:27.783Z"
   },
   {
    "duration": 0,
    "start_time": "2023-09-15T15:40:27.785Z"
   },
   {
    "duration": 0,
    "start_time": "2023-09-15T15:40:27.785Z"
   },
   {
    "duration": 0,
    "start_time": "2023-09-15T15:40:27.787Z"
   },
   {
    "duration": 0,
    "start_time": "2023-09-15T15:40:27.788Z"
   },
   {
    "duration": 0,
    "start_time": "2023-09-15T15:40:27.789Z"
   },
   {
    "duration": 0,
    "start_time": "2023-09-15T15:40:27.790Z"
   },
   {
    "duration": 0,
    "start_time": "2023-09-15T15:40:27.791Z"
   },
   {
    "duration": 0,
    "start_time": "2023-09-15T15:40:27.792Z"
   },
   {
    "duration": 0,
    "start_time": "2023-09-15T15:40:27.793Z"
   },
   {
    "duration": 0,
    "start_time": "2023-09-15T15:40:27.794Z"
   },
   {
    "duration": 0,
    "start_time": "2023-09-15T15:40:27.796Z"
   },
   {
    "duration": 0,
    "start_time": "2023-09-15T15:40:27.797Z"
   },
   {
    "duration": 0,
    "start_time": "2023-09-15T15:40:27.798Z"
   },
   {
    "duration": 0,
    "start_time": "2023-09-15T15:40:27.799Z"
   },
   {
    "duration": 0,
    "start_time": "2023-09-15T15:40:27.800Z"
   },
   {
    "duration": 0,
    "start_time": "2023-09-15T15:40:27.801Z"
   },
   {
    "duration": 0,
    "start_time": "2023-09-15T15:40:27.802Z"
   },
   {
    "duration": 0,
    "start_time": "2023-09-15T15:40:27.804Z"
   },
   {
    "duration": 0,
    "start_time": "2023-09-15T15:40:27.805Z"
   },
   {
    "duration": 0,
    "start_time": "2023-09-15T15:40:27.806Z"
   },
   {
    "duration": 0,
    "start_time": "2023-09-15T15:40:27.807Z"
   },
   {
    "duration": 0,
    "start_time": "2023-09-15T15:40:27.808Z"
   },
   {
    "duration": 0,
    "start_time": "2023-09-15T15:40:27.810Z"
   },
   {
    "duration": 0,
    "start_time": "2023-09-15T15:40:27.811Z"
   },
   {
    "duration": 0,
    "start_time": "2023-09-15T15:40:27.812Z"
   },
   {
    "duration": 76,
    "start_time": "2023-09-15T15:41:02.732Z"
   },
   {
    "duration": 1289,
    "start_time": "2023-09-15T15:41:12.732Z"
   },
   {
    "duration": 5,
    "start_time": "2023-09-15T15:41:27.520Z"
   },
   {
    "duration": 1220,
    "start_time": "2023-09-15T15:41:33.106Z"
   },
   {
    "duration": 5195,
    "start_time": "2023-09-15T15:41:34.329Z"
   },
   {
    "duration": 37,
    "start_time": "2023-09-15T15:41:39.526Z"
   },
   {
    "duration": 45,
    "start_time": "2023-09-15T15:41:39.566Z"
   },
   {
    "duration": 199,
    "start_time": "2023-09-15T15:41:39.613Z"
   },
   {
    "duration": 343,
    "start_time": "2023-09-15T15:41:39.813Z"
   },
   {
    "duration": 46,
    "start_time": "2023-09-15T15:41:40.158Z"
   },
   {
    "duration": 29,
    "start_time": "2023-09-15T15:41:40.206Z"
   },
   {
    "duration": 70,
    "start_time": "2023-09-15T15:41:40.236Z"
   },
   {
    "duration": 29,
    "start_time": "2023-09-15T15:41:40.309Z"
   },
   {
    "duration": 83,
    "start_time": "2023-09-15T15:41:40.340Z"
   },
   {
    "duration": 56,
    "start_time": "2023-09-15T15:41:40.425Z"
   },
   {
    "duration": 43,
    "start_time": "2023-09-15T15:41:40.483Z"
   },
   {
    "duration": 43,
    "start_time": "2023-09-15T15:41:40.528Z"
   },
   {
    "duration": 50,
    "start_time": "2023-09-15T15:41:40.573Z"
   },
   {
    "duration": 32,
    "start_time": "2023-09-15T15:41:40.625Z"
   },
   {
    "duration": 34,
    "start_time": "2023-09-15T15:41:40.659Z"
   },
   {
    "duration": 23,
    "start_time": "2023-09-15T15:41:40.695Z"
   },
   {
    "duration": 37,
    "start_time": "2023-09-15T15:41:40.720Z"
   },
   {
    "duration": 501,
    "start_time": "2023-09-15T15:41:40.758Z"
   },
   {
    "duration": 4,
    "start_time": "2023-09-15T15:41:41.261Z"
   },
   {
    "duration": 461,
    "start_time": "2023-09-15T15:41:41.267Z"
   },
   {
    "duration": 5,
    "start_time": "2023-09-15T15:41:41.730Z"
   },
   {
    "duration": 47,
    "start_time": "2023-09-15T15:41:41.736Z"
   },
   {
    "duration": 34,
    "start_time": "2023-09-15T15:41:41.785Z"
   },
   {
    "duration": 36,
    "start_time": "2023-09-15T15:41:41.821Z"
   },
   {
    "duration": 31,
    "start_time": "2023-09-15T15:41:41.859Z"
   },
   {
    "duration": 56,
    "start_time": "2023-09-15T15:41:41.894Z"
   },
   {
    "duration": 48,
    "start_time": "2023-09-15T15:41:41.952Z"
   },
   {
    "duration": 43,
    "start_time": "2023-09-15T15:41:42.002Z"
   },
   {
    "duration": 25,
    "start_time": "2023-09-15T15:41:42.046Z"
   },
   {
    "duration": 32,
    "start_time": "2023-09-15T15:41:42.073Z"
   },
   {
    "duration": 36,
    "start_time": "2023-09-15T15:41:42.107Z"
   },
   {
    "duration": 85,
    "start_time": "2023-09-15T15:41:42.145Z"
   },
   {
    "duration": 16,
    "start_time": "2023-09-15T15:41:42.232Z"
   },
   {
    "duration": 41,
    "start_time": "2023-09-15T15:41:42.249Z"
   },
   {
    "duration": 82,
    "start_time": "2023-09-15T15:41:42.291Z"
   },
   {
    "duration": 67,
    "start_time": "2023-09-15T15:41:42.375Z"
   },
   {
    "duration": 23,
    "start_time": "2023-09-15T15:41:42.444Z"
   },
   {
    "duration": 601,
    "start_time": "2023-09-15T15:41:42.468Z"
   },
   {
    "duration": 2,
    "start_time": "2023-09-15T15:41:43.071Z"
   },
   {
    "duration": 32,
    "start_time": "2023-09-15T15:41:43.075Z"
   },
   {
    "duration": 602,
    "start_time": "2023-09-15T15:41:43.109Z"
   },
   {
    "duration": 461,
    "start_time": "2023-09-15T15:41:43.713Z"
   },
   {
    "duration": 264,
    "start_time": "2023-09-15T15:41:44.180Z"
   },
   {
    "duration": 3,
    "start_time": "2023-09-15T15:41:44.446Z"
   },
   {
    "duration": 200,
    "start_time": "2023-09-15T15:41:44.450Z"
   },
   {
    "duration": 2,
    "start_time": "2023-09-15T15:41:44.652Z"
   },
   {
    "duration": 59,
    "start_time": "2023-09-15T15:41:44.655Z"
   },
   {
    "duration": 9,
    "start_time": "2023-09-15T15:41:44.716Z"
   },
   {
    "duration": 5,
    "start_time": "2023-09-15T15:41:44.727Z"
   },
   {
    "duration": 13,
    "start_time": "2023-09-15T15:41:44.733Z"
   },
   {
    "duration": 3438,
    "start_time": "2023-09-15T15:41:44.747Z"
   },
   {
    "duration": 1392,
    "start_time": "2023-09-15T18:17:30.058Z"
   },
   {
    "duration": 8963,
    "start_time": "2023-09-15T18:17:31.452Z"
   },
   {
    "duration": 63,
    "start_time": "2023-09-15T18:17:40.417Z"
   },
   {
    "duration": 3,
    "start_time": "2023-09-15T18:17:40.482Z"
   },
   {
    "duration": 189,
    "start_time": "2023-09-15T18:17:40.486Z"
   },
   {
    "duration": 387,
    "start_time": "2023-09-15T18:17:40.677Z"
   },
   {
    "duration": 41,
    "start_time": "2023-09-15T18:17:41.066Z"
   },
   {
    "duration": 27,
    "start_time": "2023-09-15T18:17:41.109Z"
   },
   {
    "duration": 47,
    "start_time": "2023-09-15T18:17:41.143Z"
   },
   {
    "duration": 52,
    "start_time": "2023-09-15T18:17:41.192Z"
   },
   {
    "duration": 5,
    "start_time": "2023-09-15T18:17:41.245Z"
   },
   {
    "duration": 6,
    "start_time": "2023-09-15T18:17:41.252Z"
   },
   {
    "duration": 7,
    "start_time": "2023-09-15T18:17:41.259Z"
   },
   {
    "duration": 7,
    "start_time": "2023-09-15T18:17:41.267Z"
   },
   {
    "duration": 14,
    "start_time": "2023-09-15T18:17:41.275Z"
   },
   {
    "duration": 12,
    "start_time": "2023-09-15T18:17:41.291Z"
   },
   {
    "duration": 39,
    "start_time": "2023-09-15T18:17:41.305Z"
   },
   {
    "duration": 4,
    "start_time": "2023-09-15T18:17:41.346Z"
   },
   {
    "duration": 6,
    "start_time": "2023-09-15T18:17:41.351Z"
   },
   {
    "duration": 391,
    "start_time": "2023-09-15T18:17:41.358Z"
   },
   {
    "duration": 5,
    "start_time": "2023-09-15T18:17:41.750Z"
   },
   {
    "duration": 389,
    "start_time": "2023-09-15T18:17:41.756Z"
   },
   {
    "duration": 5,
    "start_time": "2023-09-15T18:17:42.147Z"
   },
   {
    "duration": 18,
    "start_time": "2023-09-15T18:17:42.154Z"
   },
   {
    "duration": 14,
    "start_time": "2023-09-15T18:17:42.174Z"
   },
   {
    "duration": 13,
    "start_time": "2023-09-15T18:17:42.190Z"
   },
   {
    "duration": 4,
    "start_time": "2023-09-15T18:17:42.205Z"
   },
   {
    "duration": 39,
    "start_time": "2023-09-15T18:17:42.213Z"
   },
   {
    "duration": 6,
    "start_time": "2023-09-15T18:17:42.253Z"
   },
   {
    "duration": 11,
    "start_time": "2023-09-15T18:17:42.260Z"
   },
   {
    "duration": 3,
    "start_time": "2023-09-15T18:17:42.274Z"
   },
   {
    "duration": 13,
    "start_time": "2023-09-15T18:17:42.278Z"
   },
   {
    "duration": 5,
    "start_time": "2023-09-15T18:17:42.292Z"
   },
   {
    "duration": 100,
    "start_time": "2023-09-15T18:17:42.298Z"
   },
   {
    "duration": 22,
    "start_time": "2023-09-15T18:17:42.401Z"
   },
   {
    "duration": 17,
    "start_time": "2023-09-15T18:17:42.444Z"
   },
   {
    "duration": 18,
    "start_time": "2023-09-15T18:17:42.463Z"
   },
   {
    "duration": 32,
    "start_time": "2023-09-15T18:17:42.484Z"
   },
   {
    "duration": 29,
    "start_time": "2023-09-15T18:17:42.519Z"
   },
   {
    "duration": 543,
    "start_time": "2023-09-15T18:17:42.550Z"
   },
   {
    "duration": 3,
    "start_time": "2023-09-15T18:17:43.094Z"
   },
   {
    "duration": 4,
    "start_time": "2023-09-15T18:17:43.099Z"
   },
   {
    "duration": 518,
    "start_time": "2023-09-15T18:17:43.105Z"
   },
   {
    "duration": 407,
    "start_time": "2023-09-15T18:17:43.624Z"
   },
   {
    "duration": 260,
    "start_time": "2023-09-15T18:17:44.032Z"
   },
   {
    "duration": 2,
    "start_time": "2023-09-15T18:17:44.293Z"
   },
   {
    "duration": 217,
    "start_time": "2023-09-15T18:17:44.297Z"
   },
   {
    "duration": 2,
    "start_time": "2023-09-15T18:17:44.516Z"
   },
   {
    "duration": 110,
    "start_time": "2023-09-15T18:17:44.519Z"
   },
   {
    "duration": 8,
    "start_time": "2023-09-15T18:17:44.631Z"
   },
   {
    "duration": 3,
    "start_time": "2023-09-15T18:17:44.641Z"
   },
   {
    "duration": 5,
    "start_time": "2023-09-15T18:17:44.645Z"
   },
   {
    "duration": 3124,
    "start_time": "2023-09-15T18:17:44.652Z"
   },
   {
    "duration": 4,
    "start_time": "2023-09-15T18:19:24.599Z"
   },
   {
    "duration": 10,
    "start_time": "2023-09-15T18:19:25.529Z"
   },
   {
    "duration": 3,
    "start_time": "2023-09-15T18:19:26.559Z"
   },
   {
    "duration": 5,
    "start_time": "2023-09-15T18:19:27.434Z"
   },
   {
    "duration": 4,
    "start_time": "2023-09-15T18:19:28.257Z"
   },
   {
    "duration": 3,
    "start_time": "2023-09-15T18:19:28.800Z"
   },
   {
    "duration": 113,
    "start_time": "2023-09-15T18:19:29.503Z"
   },
   {
    "duration": 5,
    "start_time": "2023-09-15T18:20:01.978Z"
   },
   {
    "duration": 3,
    "start_time": "2023-09-15T18:20:08.496Z"
   },
   {
    "duration": 65,
    "start_time": "2023-09-15T18:20:22.352Z"
   },
   {
    "duration": 4299,
    "start_time": "2023-09-15T18:20:40.993Z"
   },
   {
    "duration": 163,
    "start_time": "2023-09-15T18:24:39.260Z"
   },
   {
    "duration": 12,
    "start_time": "2023-09-15T19:09:08.686Z"
   },
   {
    "duration": 1321,
    "start_time": "2023-09-15T19:10:23.582Z"
   },
   {
    "duration": 1358,
    "start_time": "2023-09-15T19:10:29.896Z"
   },
   {
    "duration": 2,
    "start_time": "2023-09-15T19:10:51.233Z"
   },
   {
    "duration": 3,
    "start_time": "2023-09-15T19:10:52.170Z"
   },
   {
    "duration": 1336,
    "start_time": "2023-09-15T19:11:03.597Z"
   },
   {
    "duration": 6153,
    "start_time": "2023-09-15T19:11:04.937Z"
   },
   {
    "duration": 85,
    "start_time": "2023-09-15T19:11:11.092Z"
   },
   {
    "duration": 3,
    "start_time": "2023-09-15T19:11:11.181Z"
   },
   {
    "duration": 229,
    "start_time": "2023-09-15T19:11:11.186Z"
   },
   {
    "duration": 160,
    "start_time": "2023-09-15T19:11:11.417Z"
   },
   {
    "duration": 45,
    "start_time": "2023-09-15T19:11:11.579Z"
   },
   {
    "duration": 46,
    "start_time": "2023-09-15T19:11:11.625Z"
   },
   {
    "duration": 80,
    "start_time": "2023-09-15T19:11:11.673Z"
   },
   {
    "duration": 32,
    "start_time": "2023-09-15T19:11:11.757Z"
   },
   {
    "duration": 4,
    "start_time": "2023-09-15T19:11:11.791Z"
   },
   {
    "duration": 12,
    "start_time": "2023-09-15T19:11:11.797Z"
   },
   {
    "duration": 17,
    "start_time": "2023-09-15T19:11:11.811Z"
   },
   {
    "duration": 10,
    "start_time": "2023-09-15T19:11:11.844Z"
   },
   {
    "duration": 19,
    "start_time": "2023-09-15T19:11:11.856Z"
   },
   {
    "duration": 26,
    "start_time": "2023-09-15T19:11:11.876Z"
   },
   {
    "duration": 12,
    "start_time": "2023-09-15T19:11:11.904Z"
   },
   {
    "duration": 8,
    "start_time": "2023-09-15T19:11:11.918Z"
   },
   {
    "duration": 22,
    "start_time": "2023-09-15T19:11:11.928Z"
   },
   {
    "duration": 27,
    "start_time": "2023-09-15T19:11:11.953Z"
   },
   {
    "duration": 552,
    "start_time": "2023-09-15T19:11:11.983Z"
   },
   {
    "duration": 10,
    "start_time": "2023-09-15T19:11:12.537Z"
   },
   {
    "duration": 505,
    "start_time": "2023-09-15T19:11:12.549Z"
   },
   {
    "duration": 7,
    "start_time": "2023-09-15T19:11:13.056Z"
   },
   {
    "duration": 29,
    "start_time": "2023-09-15T19:11:13.065Z"
   },
   {
    "duration": 17,
    "start_time": "2023-09-15T19:11:13.096Z"
   },
   {
    "duration": 38,
    "start_time": "2023-09-15T19:11:13.114Z"
   },
   {
    "duration": 15,
    "start_time": "2023-09-15T19:11:13.158Z"
   },
   {
    "duration": 42,
    "start_time": "2023-09-15T19:11:13.175Z"
   },
   {
    "duration": 9,
    "start_time": "2023-09-15T19:11:13.218Z"
   },
   {
    "duration": 18,
    "start_time": "2023-09-15T19:11:13.230Z"
   },
   {
    "duration": 9,
    "start_time": "2023-09-15T19:11:13.250Z"
   },
   {
    "duration": 19,
    "start_time": "2023-09-15T19:11:13.261Z"
   },
   {
    "duration": 14,
    "start_time": "2023-09-15T19:11:13.282Z"
   },
   {
    "duration": 79,
    "start_time": "2023-09-15T19:11:13.298Z"
   },
   {
    "duration": 14,
    "start_time": "2023-09-15T19:11:13.379Z"
   },
   {
    "duration": 12,
    "start_time": "2023-09-15T19:11:13.394Z"
   },
   {
    "duration": 16,
    "start_time": "2023-09-15T19:11:13.409Z"
   },
   {
    "duration": 29,
    "start_time": "2023-09-15T19:11:13.445Z"
   },
   {
    "duration": 4,
    "start_time": "2023-09-15T19:11:13.476Z"
   },
   {
    "duration": 13,
    "start_time": "2023-09-15T19:11:13.482Z"
   },
   {
    "duration": 536,
    "start_time": "2023-09-15T19:11:13.497Z"
   },
   {
    "duration": 4,
    "start_time": "2023-09-15T19:11:14.043Z"
   },
   {
    "duration": 54,
    "start_time": "2023-09-15T19:11:14.049Z"
   },
   {
    "duration": 689,
    "start_time": "2023-09-15T19:11:14.104Z"
   },
   {
    "duration": 477,
    "start_time": "2023-09-15T19:11:14.796Z"
   },
   {
    "duration": 317,
    "start_time": "2023-09-15T19:11:15.275Z"
   },
   {
    "duration": 2,
    "start_time": "2023-09-15T19:11:15.594Z"
   },
   {
    "duration": 225,
    "start_time": "2023-09-15T19:11:15.598Z"
   },
   {
    "duration": 2,
    "start_time": "2023-09-15T19:11:15.826Z"
   },
   {
    "duration": 72,
    "start_time": "2023-09-15T19:11:15.830Z"
   },
   {
    "duration": 8,
    "start_time": "2023-09-15T19:11:15.903Z"
   },
   {
    "duration": 22,
    "start_time": "2023-09-15T19:11:15.913Z"
   },
   {
    "duration": 9,
    "start_time": "2023-09-15T19:11:15.943Z"
   },
   {
    "duration": 3546,
    "start_time": "2023-09-15T19:11:15.954Z"
   },
   {
    "duration": 3,
    "start_time": "2023-09-15T19:11:19.502Z"
   },
   {
    "duration": 12,
    "start_time": "2023-09-15T19:11:19.507Z"
   },
   {
    "duration": 4,
    "start_time": "2023-09-15T19:11:19.520Z"
   },
   {
    "duration": 5,
    "start_time": "2023-09-15T19:11:19.545Z"
   },
   {
    "duration": 8,
    "start_time": "2023-09-15T19:11:19.552Z"
   },
   {
    "duration": 10,
    "start_time": "2023-09-15T19:11:19.568Z"
   },
   {
    "duration": 14,
    "start_time": "2023-09-15T19:11:19.580Z"
   },
   {
    "duration": 175,
    "start_time": "2023-09-15T19:11:19.595Z"
   },
   {
    "duration": 0,
    "start_time": "2023-09-15T19:11:19.772Z"
   },
   {
    "duration": 0,
    "start_time": "2023-09-15T19:11:19.774Z"
   },
   {
    "duration": 1325,
    "start_time": "2023-09-15T19:14:04.523Z"
   },
   {
    "duration": 5,
    "start_time": "2023-09-15T19:15:58.315Z"
   },
   {
    "duration": 14,
    "start_time": "2023-09-15T19:17:20.170Z"
   },
   {
    "duration": 10,
    "start_time": "2023-09-15T19:19:25.697Z"
   },
   {
    "duration": 4,
    "start_time": "2023-09-15T19:20:32.210Z"
   },
   {
    "duration": 1535,
    "start_time": "2023-09-15T19:21:42.499Z"
   },
   {
    "duration": 5104,
    "start_time": "2023-09-15T19:22:01.192Z"
   },
   {
    "duration": 7510,
    "start_time": "2023-09-15T19:22:06.299Z"
   },
   {
    "duration": 72,
    "start_time": "2023-09-15T19:22:13.812Z"
   },
   {
    "duration": 4,
    "start_time": "2023-09-15T19:22:13.893Z"
   },
   {
    "duration": 833,
    "start_time": "2023-09-15T19:22:13.900Z"
   },
   {
    "duration": 191,
    "start_time": "2023-09-15T19:22:14.735Z"
   },
   {
    "duration": 51,
    "start_time": "2023-09-15T19:22:14.928Z"
   },
   {
    "duration": 31,
    "start_time": "2023-09-15T19:22:14.981Z"
   },
   {
    "duration": 95,
    "start_time": "2023-09-15T19:22:15.014Z"
   },
   {
    "duration": 59,
    "start_time": "2023-09-15T19:22:15.111Z"
   },
   {
    "duration": 6,
    "start_time": "2023-09-15T19:22:15.173Z"
   },
   {
    "duration": 13,
    "start_time": "2023-09-15T19:22:15.180Z"
   },
   {
    "duration": 4,
    "start_time": "2023-09-15T19:22:15.195Z"
   },
   {
    "duration": 14,
    "start_time": "2023-09-15T19:22:15.200Z"
   },
   {
    "duration": 19,
    "start_time": "2023-09-15T19:22:15.216Z"
   },
   {
    "duration": 51,
    "start_time": "2023-09-15T19:22:15.237Z"
   },
   {
    "duration": 21,
    "start_time": "2023-09-15T19:22:15.290Z"
   },
   {
    "duration": 12,
    "start_time": "2023-09-15T19:22:15.313Z"
   },
   {
    "duration": 35,
    "start_time": "2023-09-15T19:22:15.326Z"
   },
   {
    "duration": 22,
    "start_time": "2023-09-15T19:22:15.364Z"
   },
   {
    "duration": 145,
    "start_time": "2023-09-15T19:22:15.389Z"
   },
   {
    "duration": 0,
    "start_time": "2023-09-15T19:22:15.537Z"
   },
   {
    "duration": 0,
    "start_time": "2023-09-15T19:22:15.538Z"
   },
   {
    "duration": 0,
    "start_time": "2023-09-15T19:22:15.539Z"
   },
   {
    "duration": 0,
    "start_time": "2023-09-15T19:22:15.540Z"
   },
   {
    "duration": 0,
    "start_time": "2023-09-15T19:22:15.541Z"
   },
   {
    "duration": 0,
    "start_time": "2023-09-15T19:22:15.543Z"
   },
   {
    "duration": 0,
    "start_time": "2023-09-15T19:22:15.552Z"
   },
   {
    "duration": 0,
    "start_time": "2023-09-15T19:22:15.554Z"
   },
   {
    "duration": 0,
    "start_time": "2023-09-15T19:22:15.555Z"
   },
   {
    "duration": 0,
    "start_time": "2023-09-15T19:22:15.556Z"
   },
   {
    "duration": 0,
    "start_time": "2023-09-15T19:22:15.557Z"
   },
   {
    "duration": 0,
    "start_time": "2023-09-15T19:22:15.558Z"
   },
   {
    "duration": 0,
    "start_time": "2023-09-15T19:22:15.559Z"
   },
   {
    "duration": 0,
    "start_time": "2023-09-15T19:22:15.560Z"
   },
   {
    "duration": 0,
    "start_time": "2023-09-15T19:22:15.561Z"
   },
   {
    "duration": 0,
    "start_time": "2023-09-15T19:22:15.562Z"
   },
   {
    "duration": 0,
    "start_time": "2023-09-15T19:22:15.562Z"
   },
   {
    "duration": 0,
    "start_time": "2023-09-15T19:22:15.563Z"
   },
   {
    "duration": 0,
    "start_time": "2023-09-15T19:22:15.564Z"
   },
   {
    "duration": 0,
    "start_time": "2023-09-15T19:22:15.564Z"
   },
   {
    "duration": 0,
    "start_time": "2023-09-15T19:22:15.565Z"
   },
   {
    "duration": 0,
    "start_time": "2023-09-15T19:22:15.571Z"
   },
   {
    "duration": 0,
    "start_time": "2023-09-15T19:22:15.574Z"
   },
   {
    "duration": 0,
    "start_time": "2023-09-15T19:22:15.575Z"
   },
   {
    "duration": 0,
    "start_time": "2023-09-15T19:22:15.577Z"
   },
   {
    "duration": 0,
    "start_time": "2023-09-15T19:22:15.580Z"
   },
   {
    "duration": 0,
    "start_time": "2023-09-15T19:22:15.581Z"
   },
   {
    "duration": 0,
    "start_time": "2023-09-15T19:22:15.584Z"
   },
   {
    "duration": 0,
    "start_time": "2023-09-15T19:22:15.585Z"
   },
   {
    "duration": 0,
    "start_time": "2023-09-15T19:22:15.586Z"
   },
   {
    "duration": 0,
    "start_time": "2023-09-15T19:22:15.588Z"
   },
   {
    "duration": 0,
    "start_time": "2023-09-15T19:22:15.589Z"
   },
   {
    "duration": 0,
    "start_time": "2023-09-15T19:22:15.590Z"
   },
   {
    "duration": 0,
    "start_time": "2023-09-15T19:22:15.592Z"
   },
   {
    "duration": 0,
    "start_time": "2023-09-15T19:22:15.593Z"
   },
   {
    "duration": 0,
    "start_time": "2023-09-15T19:22:15.594Z"
   },
   {
    "duration": 0,
    "start_time": "2023-09-15T19:22:15.596Z"
   },
   {
    "duration": 0,
    "start_time": "2023-09-15T19:22:15.596Z"
   },
   {
    "duration": 0,
    "start_time": "2023-09-15T19:22:15.598Z"
   },
   {
    "duration": 0,
    "start_time": "2023-09-15T19:22:15.599Z"
   },
   {
    "duration": 0,
    "start_time": "2023-09-15T19:22:15.662Z"
   },
   {
    "duration": 0,
    "start_time": "2023-09-15T19:22:15.663Z"
   },
   {
    "duration": 0,
    "start_time": "2023-09-15T19:22:15.665Z"
   },
   {
    "duration": 0,
    "start_time": "2023-09-15T19:22:15.666Z"
   },
   {
    "duration": 0,
    "start_time": "2023-09-15T19:22:15.667Z"
   },
   {
    "duration": 550,
    "start_time": "2023-09-15T19:26:07.559Z"
   },
   {
    "duration": 5,
    "start_time": "2023-09-15T19:26:08.884Z"
   },
   {
    "duration": 452,
    "start_time": "2023-09-15T19:26:09.931Z"
   },
   {
    "duration": 6,
    "start_time": "2023-09-15T19:26:10.614Z"
   },
   {
    "duration": 26,
    "start_time": "2023-09-15T19:26:14.507Z"
   },
   {
    "duration": 6,
    "start_time": "2023-09-15T19:26:15.645Z"
   },
   {
    "duration": 20,
    "start_time": "2023-09-15T19:26:16.449Z"
   },
   {
    "duration": 4,
    "start_time": "2023-09-15T19:26:16.974Z"
   },
   {
    "duration": 16,
    "start_time": "2023-09-15T19:26:17.679Z"
   },
   {
    "duration": 4,
    "start_time": "2023-09-15T19:26:18.412Z"
   },
   {
    "duration": 15,
    "start_time": "2023-09-15T19:26:19.055Z"
   },
   {
    "duration": 4,
    "start_time": "2023-09-15T19:26:19.820Z"
   },
   {
    "duration": 11,
    "start_time": "2023-09-15T19:26:20.457Z"
   },
   {
    "duration": 2,
    "start_time": "2023-09-15T19:26:21.519Z"
   },
   {
    "duration": 99,
    "start_time": "2023-09-15T19:26:22.958Z"
   },
   {
    "duration": 12,
    "start_time": "2023-09-15T19:26:24.021Z"
   },
   {
    "duration": 15,
    "start_time": "2023-09-15T19:26:26.933Z"
   },
   {
    "duration": 14,
    "start_time": "2023-09-15T19:26:28.990Z"
   },
   {
    "duration": 17,
    "start_time": "2023-09-15T19:26:29.997Z"
   },
   {
    "duration": 6,
    "start_time": "2023-09-15T19:26:31.675Z"
   },
   {
    "duration": 600,
    "start_time": "2023-09-15T19:27:48.382Z"
   },
   {
    "duration": 5,
    "start_time": "2023-09-15T19:27:55.074Z"
   },
   {
    "duration": 5,
    "start_time": "2023-09-15T19:27:58.078Z"
   },
   {
    "duration": 613,
    "start_time": "2023-09-15T19:27:58.859Z"
   },
   {
    "duration": 490,
    "start_time": "2023-09-15T19:28:02.449Z"
   },
   {
    "duration": 322,
    "start_time": "2023-09-15T19:28:04.219Z"
   },
   {
    "duration": 5,
    "start_time": "2023-09-15T19:28:05.071Z"
   },
   {
    "duration": 211,
    "start_time": "2023-09-15T19:28:06.395Z"
   },
   {
    "duration": 3,
    "start_time": "2023-09-15T19:28:08.740Z"
   },
   {
    "duration": 94,
    "start_time": "2023-09-15T19:28:11.172Z"
   },
   {
    "duration": 10,
    "start_time": "2023-09-15T19:28:13.371Z"
   },
   {
    "duration": 5,
    "start_time": "2023-09-15T19:28:14.240Z"
   },
   {
    "duration": 3,
    "start_time": "2023-09-15T19:28:15.206Z"
   },
   {
    "duration": 3745,
    "start_time": "2023-09-15T19:28:15.890Z"
   },
   {
    "duration": 4,
    "start_time": "2023-09-15T19:28:30.273Z"
   },
   {
    "duration": 14,
    "start_time": "2023-09-15T19:28:31.231Z"
   },
   {
    "duration": 8,
    "start_time": "2023-09-15T19:28:32.776Z"
   },
   {
    "duration": 12,
    "start_time": "2023-09-15T19:28:33.943Z"
   },
   {
    "duration": 3,
    "start_time": "2023-09-15T19:28:34.802Z"
   },
   {
    "duration": 4,
    "start_time": "2023-09-15T19:28:35.799Z"
   },
   {
    "duration": 5,
    "start_time": "2023-09-15T19:28:38.398Z"
   },
   {
    "duration": 94,
    "start_time": "2023-09-15T19:28:42.071Z"
   },
   {
    "duration": 5105,
    "start_time": "2023-09-15T19:29:17.937Z"
   },
   {
    "duration": 13,
    "start_time": "2023-09-15T19:33:16.910Z"
   },
   {
    "duration": 42,
    "start_time": "2023-09-15T19:35:55.566Z"
   },
   {
    "duration": 38,
    "start_time": "2023-09-15T19:36:02.629Z"
   },
   {
    "duration": 1370,
    "start_time": "2023-09-15T19:36:32.293Z"
   },
   {
    "duration": 5583,
    "start_time": "2023-09-15T19:36:33.666Z"
   },
   {
    "duration": 36,
    "start_time": "2023-09-15T19:36:42.822Z"
   },
   {
    "duration": 3,
    "start_time": "2023-09-15T19:36:43.528Z"
   },
   {
    "duration": 156,
    "start_time": "2023-09-15T19:36:44.071Z"
   },
   {
    "duration": 206,
    "start_time": "2023-09-15T19:36:44.584Z"
   },
   {
    "duration": 49,
    "start_time": "2023-09-15T19:36:44.859Z"
   },
   {
    "duration": 41,
    "start_time": "2023-09-15T19:36:45.532Z"
   },
   {
    "duration": 47,
    "start_time": "2023-09-15T19:36:45.774Z"
   },
   {
    "duration": 28,
    "start_time": "2023-09-15T19:36:45.984Z"
   },
   {
    "duration": 8,
    "start_time": "2023-09-15T19:36:46.774Z"
   },
   {
    "duration": 5,
    "start_time": "2023-09-15T19:36:46.990Z"
   },
   {
    "duration": 4,
    "start_time": "2023-09-15T19:36:47.222Z"
   },
   {
    "duration": 3,
    "start_time": "2023-09-15T19:36:47.431Z"
   },
   {
    "duration": 22,
    "start_time": "2023-09-15T19:36:47.638Z"
   },
   {
    "duration": 6,
    "start_time": "2023-09-15T19:36:48.068Z"
   },
   {
    "duration": 17,
    "start_time": "2023-09-15T19:36:48.274Z"
   },
   {
    "duration": 20,
    "start_time": "2023-09-15T19:36:48.877Z"
   },
   {
    "duration": 3,
    "start_time": "2023-09-15T19:36:49.093Z"
   },
   {
    "duration": 5,
    "start_time": "2023-09-15T19:36:53.292Z"
   },
   {
    "duration": 480,
    "start_time": "2023-09-15T19:36:53.502Z"
   },
   {
    "duration": 4,
    "start_time": "2023-09-15T19:36:53.984Z"
   },
   {
    "duration": 508,
    "start_time": "2023-09-15T19:36:53.991Z"
   },
   {
    "duration": 7,
    "start_time": "2023-09-15T19:36:54.502Z"
   },
   {
    "duration": 16,
    "start_time": "2023-09-15T19:36:56.236Z"
   },
   {
    "duration": 4,
    "start_time": "2023-09-15T19:36:56.480Z"
   },
   {
    "duration": 11,
    "start_time": "2023-09-15T19:36:56.710Z"
   },
   {
    "duration": 4,
    "start_time": "2023-09-15T19:36:56.926Z"
   },
   {
    "duration": 21,
    "start_time": "2023-09-15T19:36:57.150Z"
   },
   {
    "duration": 3,
    "start_time": "2023-09-15T19:36:57.372Z"
   },
   {
    "duration": 12,
    "start_time": "2023-09-15T19:36:57.556Z"
   },
   {
    "duration": 7,
    "start_time": "2023-09-15T19:36:57.955Z"
   },
   {
    "duration": 3,
    "start_time": "2023-09-15T19:36:58.190Z"
   },
   {
    "duration": 2,
    "start_time": "2023-09-15T19:36:58.415Z"
   },
   {
    "duration": 59,
    "start_time": "2023-09-15T19:36:58.835Z"
   },
   {
    "duration": 19,
    "start_time": "2023-09-15T19:36:59.054Z"
   },
   {
    "duration": 14,
    "start_time": "2023-09-15T19:36:59.714Z"
   },
   {
    "duration": 13,
    "start_time": "2023-09-15T19:37:00.081Z"
   },
   {
    "duration": 39,
    "start_time": "2023-09-15T19:37:00.326Z"
   },
   {
    "duration": 6,
    "start_time": "2023-09-15T19:37:00.734Z"
   },
   {
    "duration": 514,
    "start_time": "2023-09-15T19:37:01.132Z"
   },
   {
    "duration": 10,
    "start_time": "2023-09-15T19:37:01.649Z"
   },
   {
    "duration": 5,
    "start_time": "2023-09-15T19:37:02.563Z"
   },
   {
    "duration": 710,
    "start_time": "2023-09-15T19:37:03.365Z"
   },
   {
    "duration": 530,
    "start_time": "2023-09-15T19:37:04.271Z"
   },
   {
    "duration": 320,
    "start_time": "2023-09-15T19:37:04.804Z"
   },
   {
    "duration": 6,
    "start_time": "2023-09-15T19:37:05.568Z"
   },
   {
    "duration": 202,
    "start_time": "2023-09-15T19:37:05.995Z"
   },
   {
    "duration": 2,
    "start_time": "2023-09-15T19:37:06.880Z"
   },
   {
    "duration": 94,
    "start_time": "2023-09-15T19:37:08.196Z"
   },
   {
    "duration": 11,
    "start_time": "2023-09-15T19:37:14.565Z"
   },
   {
    "duration": 5,
    "start_time": "2023-09-15T19:37:15.760Z"
   },
   {
    "duration": 5,
    "start_time": "2023-09-15T19:37:16.567Z"
   },
   {
    "duration": 3501,
    "start_time": "2023-09-15T19:37:17.311Z"
   },
   {
    "duration": 4,
    "start_time": "2023-09-15T19:37:42.462Z"
   },
   {
    "duration": 10,
    "start_time": "2023-09-15T19:37:43.439Z"
   },
   {
    "duration": 4,
    "start_time": "2023-09-15T19:37:45.039Z"
   },
   {
    "duration": 9,
    "start_time": "2023-09-15T19:37:45.754Z"
   },
   {
    "duration": 21,
    "start_time": "2023-09-15T19:37:46.368Z"
   },
   {
    "duration": 3,
    "start_time": "2023-09-15T19:37:50.167Z"
   },
   {
    "duration": 5,
    "start_time": "2023-09-15T19:37:51.079Z"
   },
   {
    "duration": 233,
    "start_time": "2023-09-15T19:37:52.021Z"
   },
   {
    "duration": 19,
    "start_time": "2023-09-15T19:44:51.473Z"
   },
   {
    "duration": 26,
    "start_time": "2023-09-15T19:45:06.765Z"
   },
   {
    "duration": 1314,
    "start_time": "2023-09-15T19:45:37.964Z"
   },
   {
    "duration": 5896,
    "start_time": "2023-09-15T19:45:39.281Z"
   },
   {
    "duration": 59,
    "start_time": "2023-09-15T19:45:50.999Z"
   },
   {
    "duration": 3,
    "start_time": "2023-09-15T19:45:51.622Z"
   },
   {
    "duration": 356,
    "start_time": "2023-09-15T19:45:51.911Z"
   },
   {
    "duration": 428,
    "start_time": "2023-09-15T19:45:52.276Z"
   },
   {
    "duration": 78,
    "start_time": "2023-09-15T19:45:52.707Z"
   },
   {
    "duration": 33,
    "start_time": "2023-09-15T19:45:52.788Z"
   },
   {
    "duration": 81,
    "start_time": "2023-09-15T19:45:52.823Z"
   },
   {
    "duration": 31,
    "start_time": "2023-09-15T19:45:52.992Z"
   },
   {
    "duration": 8,
    "start_time": "2023-09-15T19:45:53.807Z"
   },
   {
    "duration": 5,
    "start_time": "2023-09-15T19:45:54.020Z"
   },
   {
    "duration": 3,
    "start_time": "2023-09-15T19:45:54.218Z"
   },
   {
    "duration": 3,
    "start_time": "2023-09-15T19:45:54.404Z"
   },
   {
    "duration": 16,
    "start_time": "2023-09-15T19:45:54.605Z"
   },
   {
    "duration": 6,
    "start_time": "2023-09-15T19:45:55.024Z"
   },
   {
    "duration": 12,
    "start_time": "2023-09-15T19:45:55.234Z"
   },
   {
    "duration": 30,
    "start_time": "2023-09-15T19:45:55.843Z"
   },
   {
    "duration": 5,
    "start_time": "2023-09-15T19:45:56.072Z"
   },
   {
    "duration": 5,
    "start_time": "2023-09-15T19:45:56.870Z"
   },
   {
    "duration": 505,
    "start_time": "2023-09-15T19:45:57.084Z"
   },
   {
    "duration": 5,
    "start_time": "2023-09-15T19:45:57.678Z"
   },
   {
    "duration": 479,
    "start_time": "2023-09-15T19:45:57.942Z"
   },
   {
    "duration": 5,
    "start_time": "2023-09-15T19:45:58.422Z"
   },
   {
    "duration": 12,
    "start_time": "2023-09-15T19:45:59.479Z"
   },
   {
    "duration": 6,
    "start_time": "2023-09-15T19:45:59.725Z"
   },
   {
    "duration": 35,
    "start_time": "2023-09-15T19:45:59.941Z"
   },
   {
    "duration": 5,
    "start_time": "2023-09-15T19:46:00.174Z"
   },
   {
    "duration": 14,
    "start_time": "2023-09-15T19:46:00.385Z"
   },
   {
    "duration": 6,
    "start_time": "2023-09-15T19:46:01.374Z"
   },
   {
    "duration": 17,
    "start_time": "2023-09-15T19:46:02.160Z"
   },
   {
    "duration": 5,
    "start_time": "2023-09-15T19:46:02.779Z"
   },
   {
    "duration": 2,
    "start_time": "2023-09-15T19:46:03.303Z"
   },
   {
    "duration": 3,
    "start_time": "2023-09-15T19:46:03.519Z"
   },
   {
    "duration": 84,
    "start_time": "2023-09-15T19:46:04.525Z"
   },
   {
    "duration": 24,
    "start_time": "2023-09-15T19:46:04.772Z"
   },
   {
    "duration": 11,
    "start_time": "2023-09-15T19:46:05.397Z"
   },
   {
    "duration": 11,
    "start_time": "2023-09-15T19:46:05.874Z"
   },
   {
    "duration": 19,
    "start_time": "2023-09-15T19:46:06.080Z"
   },
   {
    "duration": 7,
    "start_time": "2023-09-15T19:46:06.477Z"
   },
   {
    "duration": 489,
    "start_time": "2023-09-15T19:46:06.916Z"
   },
   {
    "duration": 3,
    "start_time": "2023-09-15T19:46:07.408Z"
   },
   {
    "duration": 10,
    "start_time": "2023-09-15T19:46:09.275Z"
   },
   {
    "duration": 704,
    "start_time": "2023-09-15T19:46:10.005Z"
   },
   {
    "duration": 480,
    "start_time": "2023-09-15T19:46:12.010Z"
   },
   {
    "duration": 400,
    "start_time": "2023-09-15T19:46:12.495Z"
   },
   {
    "duration": 3,
    "start_time": "2023-09-15T19:46:12.923Z"
   },
   {
    "duration": 220,
    "start_time": "2023-09-15T19:46:13.337Z"
   },
   {
    "duration": 4,
    "start_time": "2023-09-15T19:46:15.488Z"
   },
   {
    "duration": 63,
    "start_time": "2023-09-15T19:46:17.695Z"
   },
   {
    "duration": 10,
    "start_time": "2023-09-15T19:46:21.411Z"
   },
   {
    "duration": 9,
    "start_time": "2023-09-15T19:46:22.354Z"
   },
   {
    "duration": 4,
    "start_time": "2023-09-15T19:46:23.390Z"
   },
   {
    "duration": 8,
    "start_time": "2023-09-15T19:47:17.048Z"
   },
   {
    "duration": 23,
    "start_time": "2023-09-15T19:47:19.439Z"
   },
   {
    "duration": 10,
    "start_time": "2023-09-15T19:47:22.372Z"
   },
   {
    "duration": 5,
    "start_time": "2023-09-15T19:47:23.807Z"
   },
   {
    "duration": 24,
    "start_time": "2023-09-15T19:47:24.504Z"
   },
   {
    "duration": 4,
    "start_time": "2023-09-15T19:47:54.479Z"
   },
   {
    "duration": 193,
    "start_time": "2023-09-15T19:50:39.229Z"
   },
   {
    "duration": 78,
    "start_time": "2023-09-15T19:51:21.701Z"
   },
   {
    "duration": 11,
    "start_time": "2023-09-15T19:52:24.079Z"
   },
   {
    "duration": 6,
    "start_time": "2023-09-15T19:53:01.279Z"
   },
   {
    "duration": 9,
    "start_time": "2023-09-15T19:53:46.352Z"
   },
   {
    "duration": 4,
    "start_time": "2023-09-15T19:54:32.269Z"
   },
   {
    "duration": 4,
    "start_time": "2023-09-15T19:55:28.170Z"
   },
   {
    "duration": 14,
    "start_time": "2023-09-15T19:55:35.492Z"
   },
   {
    "duration": 17855,
    "start_time": "2023-09-15T19:56:59.710Z"
   },
   {
    "duration": 17793,
    "start_time": "2023-09-15T19:58:59.031Z"
   },
   {
    "duration": 17335,
    "start_time": "2023-09-15T19:59:20.055Z"
   },
   {
    "duration": 23561,
    "start_time": "2023-09-15T20:00:02.423Z"
   },
   {
    "duration": 268,
    "start_time": "2023-09-15T20:01:22.927Z"
   },
   {
    "duration": 15,
    "start_time": "2023-09-15T20:03:30.490Z"
   },
   {
    "duration": 5,
    "start_time": "2023-09-15T20:07:52.351Z"
   },
   {
    "duration": 7,
    "start_time": "2023-09-15T20:08:28.149Z"
   },
   {
    "duration": 4,
    "start_time": "2023-09-15T20:08:58.006Z"
   },
   {
    "duration": 3515,
    "start_time": "2023-09-15T20:09:58.662Z"
   },
   {
    "duration": 14,
    "start_time": "2023-09-15T20:12:39.779Z"
   },
   {
    "duration": 4871,
    "start_time": "2023-09-15T20:13:16.752Z"
   },
   {
    "duration": 13,
    "start_time": "2023-09-15T20:15:14.932Z"
   },
   {
    "duration": 18,
    "start_time": "2023-09-15T20:16:00.480Z"
   },
   {
    "duration": 6,
    "start_time": "2023-09-15T20:16:14.495Z"
   },
   {
    "duration": 38,
    "start_time": "2023-09-15T20:17:12.877Z"
   },
   {
    "duration": 67,
    "start_time": "2023-09-15T20:17:42.173Z"
   },
   {
    "duration": 40,
    "start_time": "2023-09-15T20:18:37.230Z"
   },
   {
    "duration": 148,
    "start_time": "2023-09-15T20:20:20.329Z"
   },
   {
    "duration": 1883,
    "start_time": "2023-09-15T20:21:40.188Z"
   },
   {
    "duration": 5,
    "start_time": "2023-09-15T20:28:17.856Z"
   },
   {
    "duration": 1879,
    "start_time": "2023-09-15T20:28:29.367Z"
   },
   {
    "duration": 6,
    "start_time": "2023-09-15T20:31:05.410Z"
   },
   {
    "duration": 5,
    "start_time": "2023-09-15T20:34:35.475Z"
   },
   {
    "duration": 158,
    "start_time": "2023-09-15T20:34:53.619Z"
   },
   {
    "duration": 24,
    "start_time": "2023-09-15T20:35:28.191Z"
   },
   {
    "duration": 12,
    "start_time": "2023-09-15T20:36:26.907Z"
   },
   {
    "duration": 11,
    "start_time": "2023-09-15T20:36:45.131Z"
   },
   {
    "duration": 34283,
    "start_time": "2023-09-15T20:37:14.592Z"
   },
   {
    "duration": 49,
    "start_time": "2023-09-15T20:38:00.174Z"
   },
   {
    "duration": 97,
    "start_time": "2023-09-15T20:38:24.174Z"
   },
   {
    "duration": 84,
    "start_time": "2023-09-15T20:39:04.365Z"
   },
   {
    "duration": 114,
    "start_time": "2023-09-15T20:39:14.367Z"
   },
   {
    "duration": 126,
    "start_time": "2023-09-15T20:39:59.592Z"
   },
   {
    "duration": 168,
    "start_time": "2023-09-15T20:41:28.412Z"
   },
   {
    "duration": 157,
    "start_time": "2023-09-15T20:41:46.624Z"
   },
   {
    "duration": 27741,
    "start_time": "2023-09-15T20:42:58.482Z"
   },
   {
    "duration": 29788,
    "start_time": "2023-09-15T20:44:41.122Z"
   },
   {
    "duration": 58,
    "start_time": "2023-09-15T20:47:20.170Z"
   },
   {
    "duration": 96,
    "start_time": "2023-09-15T20:47:54.343Z"
   },
   {
    "duration": 1312497,
    "start_time": "2023-09-15T20:48:50.582Z"
   },
   {
    "duration": 376,
    "start_time": "2023-09-15T21:10:43.082Z"
   },
   {
    "duration": 7,
    "start_time": "2023-09-15T21:10:51.436Z"
   },
   {
    "duration": 4,
    "start_time": "2023-09-15T21:11:49.122Z"
   },
   {
    "duration": 6,
    "start_time": "2023-09-15T21:11:59.987Z"
   },
   {
    "duration": 339,
    "start_time": "2023-09-15T21:12:01.727Z"
   },
   {
    "duration": 391,
    "start_time": "2023-09-15T21:13:21.342Z"
   },
   {
    "duration": 40,
    "start_time": "2023-09-15T21:15:09.827Z"
   },
   {
    "duration": 26,
    "start_time": "2023-09-15T21:15:45.460Z"
   },
   {
    "duration": 1329,
    "start_time": "2023-09-16T07:33:48.922Z"
   },
   {
    "duration": 9221,
    "start_time": "2023-09-16T07:33:50.319Z"
   },
   {
    "duration": 1135,
    "start_time": "2023-09-16T07:34:06.898Z"
   },
   {
    "duration": 4757,
    "start_time": "2023-09-16T07:34:08.035Z"
   },
   {
    "duration": 52,
    "start_time": "2023-09-16T07:34:12.794Z"
   },
   {
    "duration": 6,
    "start_time": "2023-09-16T07:34:12.853Z"
   },
   {
    "duration": 182,
    "start_time": "2023-09-16T07:34:12.861Z"
   },
   {
    "duration": 447,
    "start_time": "2023-09-16T07:34:13.046Z"
   },
   {
    "duration": 41,
    "start_time": "2023-09-16T07:34:13.495Z"
   },
   {
    "duration": 31,
    "start_time": "2023-09-16T07:34:13.538Z"
   },
   {
    "duration": 57,
    "start_time": "2023-09-16T07:34:13.571Z"
   },
   {
    "duration": 39,
    "start_time": "2023-09-16T07:34:13.631Z"
   },
   {
    "duration": 4,
    "start_time": "2023-09-16T07:34:13.672Z"
   },
   {
    "duration": 21,
    "start_time": "2023-09-16T07:34:13.678Z"
   },
   {
    "duration": 12,
    "start_time": "2023-09-16T07:34:13.700Z"
   },
   {
    "duration": 41,
    "start_time": "2023-09-16T07:34:13.714Z"
   },
   {
    "duration": 45,
    "start_time": "2023-09-16T07:34:13.756Z"
   },
   {
    "duration": 11,
    "start_time": "2023-09-16T07:34:13.803Z"
   },
   {
    "duration": 23,
    "start_time": "2023-09-16T07:34:13.816Z"
   },
   {
    "duration": 30,
    "start_time": "2023-09-16T07:34:13.840Z"
   },
   {
    "duration": 19,
    "start_time": "2023-09-16T07:34:13.872Z"
   },
   {
    "duration": 36,
    "start_time": "2023-09-16T07:34:13.893Z"
   },
   {
    "duration": 433,
    "start_time": "2023-09-16T07:34:13.931Z"
   },
   {
    "duration": 4,
    "start_time": "2023-09-16T07:34:14.365Z"
   },
   {
    "duration": 503,
    "start_time": "2023-09-16T07:34:14.370Z"
   },
   {
    "duration": 4,
    "start_time": "2023-09-16T07:34:14.875Z"
   },
   {
    "duration": 29,
    "start_time": "2023-09-16T07:34:14.880Z"
   },
   {
    "duration": 9,
    "start_time": "2023-09-16T07:34:14.910Z"
   },
   {
    "duration": 38,
    "start_time": "2023-09-16T07:34:14.920Z"
   },
   {
    "duration": 5,
    "start_time": "2023-09-16T07:34:14.965Z"
   },
   {
    "duration": 40,
    "start_time": "2023-09-16T07:34:14.971Z"
   },
   {
    "duration": 71,
    "start_time": "2023-09-16T07:34:15.013Z"
   },
   {
    "duration": 67,
    "start_time": "2023-09-16T07:34:15.085Z"
   },
   {
    "duration": 102,
    "start_time": "2023-09-16T07:34:15.153Z"
   },
   {
    "duration": 13,
    "start_time": "2023-09-16T07:34:15.261Z"
   },
   {
    "duration": 20,
    "start_time": "2023-09-16T07:34:15.276Z"
   },
   {
    "duration": 76,
    "start_time": "2023-09-16T07:34:15.297Z"
   },
   {
    "duration": 11,
    "start_time": "2023-09-16T07:34:15.374Z"
   },
   {
    "duration": 27,
    "start_time": "2023-09-16T07:34:15.386Z"
   },
   {
    "duration": 9,
    "start_time": "2023-09-16T07:34:15.414Z"
   },
   {
    "duration": 42,
    "start_time": "2023-09-16T07:34:15.424Z"
   },
   {
    "duration": 33,
    "start_time": "2023-09-16T07:34:15.468Z"
   },
   {
    "duration": 513,
    "start_time": "2023-09-16T07:34:15.503Z"
   },
   {
    "duration": 3,
    "start_time": "2023-09-16T07:34:16.018Z"
   },
   {
    "duration": 16,
    "start_time": "2023-09-16T07:34:16.022Z"
   },
   {
    "duration": 549,
    "start_time": "2023-09-16T07:34:16.039Z"
   },
   {
    "duration": 348,
    "start_time": "2023-09-16T07:34:16.589Z"
   },
   {
    "duration": 275,
    "start_time": "2023-09-16T07:34:16.938Z"
   },
   {
    "duration": 2,
    "start_time": "2023-09-16T07:34:17.215Z"
   },
   {
    "duration": 183,
    "start_time": "2023-09-16T07:34:17.219Z"
   },
   {
    "duration": 2,
    "start_time": "2023-09-16T07:34:17.404Z"
   },
   {
    "duration": 67,
    "start_time": "2023-09-16T07:34:17.407Z"
   },
   {
    "duration": 7,
    "start_time": "2023-09-16T07:34:17.476Z"
   },
   {
    "duration": 5,
    "start_time": "2023-09-16T07:34:17.484Z"
   },
   {
    "duration": 10,
    "start_time": "2023-09-16T07:34:17.490Z"
   },
   {
    "duration": 3090,
    "start_time": "2023-09-16T07:34:17.502Z"
   },
   {
    "duration": 3,
    "start_time": "2023-09-16T07:34:20.593Z"
   },
   {
    "duration": 28,
    "start_time": "2023-09-16T07:34:20.597Z"
   },
   {
    "duration": 32,
    "start_time": "2023-09-16T07:34:20.626Z"
   },
   {
    "duration": 14,
    "start_time": "2023-09-16T07:34:20.660Z"
   },
   {
    "duration": 29,
    "start_time": "2023-09-16T07:34:20.676Z"
   },
   {
    "duration": 16,
    "start_time": "2023-09-16T07:34:20.707Z"
   },
   {
    "duration": 138,
    "start_time": "2023-09-16T07:34:20.725Z"
   },
   {
    "duration": 3,
    "start_time": "2023-09-16T07:34:20.864Z"
   },
   {
    "duration": 21,
    "start_time": "2023-09-16T07:34:20.868Z"
   },
   {
    "duration": 35278,
    "start_time": "2023-09-16T07:34:20.891Z"
   },
   {
    "duration": 26,
    "start_time": "2023-09-16T07:34:56.171Z"
   },
   {
    "duration": 2641619,
    "start_time": "2023-09-16T07:34:56.198Z"
   },
   {
    "duration": 0,
    "start_time": "2023-09-16T08:18:57.820Z"
   },
   {
    "duration": 0,
    "start_time": "2023-09-16T08:18:57.822Z"
   },
   {
    "duration": 0,
    "start_time": "2023-09-16T08:18:57.823Z"
   },
   {
    "duration": 0,
    "start_time": "2023-09-16T08:18:57.825Z"
   },
   {
    "duration": 0,
    "start_time": "2023-09-16T08:18:57.826Z"
   },
   {
    "duration": 0,
    "start_time": "2023-09-16T08:18:57.843Z"
   },
   {
    "duration": 0,
    "start_time": "2023-09-16T08:18:57.844Z"
   },
   {
    "duration": 0,
    "start_time": "2023-09-16T08:18:57.845Z"
   },
   {
    "duration": 0,
    "start_time": "2023-09-16T08:18:57.846Z"
   },
   {
    "duration": 0,
    "start_time": "2023-09-16T08:18:57.847Z"
   },
   {
    "duration": 8,
    "start_time": "2023-09-16T08:20:07.859Z"
   },
   {
    "duration": 26,
    "start_time": "2023-09-16T08:20:08.695Z"
   },
   {
    "duration": 4,
    "start_time": "2023-09-16T08:20:31.604Z"
   },
   {
    "duration": 3927,
    "start_time": "2023-09-16T08:20:42.611Z"
   },
   {
    "duration": 224,
    "start_time": "2023-09-16T08:20:58.991Z"
   },
   {
    "duration": 148,
    "start_time": "2023-09-16T08:21:06.774Z"
   },
   {
    "duration": 20,
    "start_time": "2023-09-16T08:21:19.232Z"
   },
   {
    "duration": 48991,
    "start_time": "2023-09-16T08:21:21.995Z"
   },
   {
    "duration": 110,
    "start_time": "2023-09-16T08:23:12.807Z"
   },
   {
    "duration": 6958,
    "start_time": "2023-09-16T08:44:25.982Z"
   },
   {
    "duration": 1174424,
    "start_time": "2023-09-16T08:45:14.568Z"
   },
   {
    "duration": 19,
    "start_time": "2023-09-16T09:05:59.376Z"
   },
   {
    "duration": 102,
    "start_time": "2023-09-16T09:06:09.391Z"
   },
   {
    "duration": 0,
    "start_time": "2023-09-16T09:09:24.286Z"
   },
   {
    "duration": 311740,
    "start_time": "2023-09-16T09:09:27.009Z"
   },
   {
    "duration": 5404,
    "start_time": "2023-09-16T09:14:42.143Z"
   },
   {
    "duration": 5,
    "start_time": "2023-09-16T09:15:14.575Z"
   },
   {
    "duration": 5193,
    "start_time": "2023-09-16T09:15:34.615Z"
   },
   {
    "duration": 32593,
    "start_time": "2023-09-16T09:22:12.622Z"
   },
   {
    "duration": 29074,
    "start_time": "2023-09-16T09:23:44.513Z"
   },
   {
    "duration": 170677,
    "start_time": "2023-09-16T09:26:11.698Z"
   },
   {
    "duration": 793164,
    "start_time": "2023-09-16T09:29:11.716Z"
   },
   {
    "duration": 99101,
    "start_time": "2023-09-16T09:43:39.809Z"
   },
   {
    "duration": 29475,
    "start_time": "2023-09-16T09:45:31.709Z"
   },
   {
    "duration": 37274,
    "start_time": "2023-09-16T09:46:10.907Z"
   },
   {
    "duration": 4480498,
    "start_time": "2023-09-16T09:46:59.296Z"
   },
   {
    "duration": 14,
    "start_time": "2023-09-16T11:07:10.496Z"
   },
   {
    "duration": 11,
    "start_time": "2023-09-16T11:07:28.787Z"
   },
   {
    "duration": 13,
    "start_time": "2023-09-16T11:15:32.990Z"
   },
   {
    "duration": 12,
    "start_time": "2023-09-16T11:16:05.917Z"
   },
   {
    "duration": 12,
    "start_time": "2023-09-16T11:19:27.326Z"
   },
   {
    "duration": 20,
    "start_time": "2023-09-16T11:29:17.852Z"
   },
   {
    "duration": 9,
    "start_time": "2023-09-16T11:36:26.016Z"
   },
   {
    "duration": 121,
    "start_time": "2023-09-16T11:36:52.783Z"
   },
   {
    "duration": 10,
    "start_time": "2023-09-16T11:37:43.203Z"
   },
   {
    "duration": 135,
    "start_time": "2023-09-16T11:37:53.033Z"
   },
   {
    "duration": 17,
    "start_time": "2023-09-16T11:38:28.335Z"
   },
   {
    "duration": 15675,
    "start_time": "2023-09-16T11:38:40.192Z"
   },
   {
    "duration": 63784,
    "start_time": "2023-09-16T11:39:06.690Z"
   },
   {
    "duration": 8102,
    "start_time": "2023-09-16T11:48:50.361Z"
   },
   {
    "duration": 440802,
    "start_time": "2023-09-16T11:56:52.477Z"
   },
   {
    "duration": 114296,
    "start_time": "2023-09-16T12:16:42.081Z"
   },
   {
    "duration": 20,
    "start_time": "2023-09-16T12:20:18.780Z"
   },
   {
    "duration": 8,
    "start_time": "2023-09-16T12:20:27.108Z"
   },
   {
    "duration": 5,
    "start_time": "2023-09-16T12:20:30.588Z"
   },
   {
    "duration": 4,
    "start_time": "2023-09-16T12:20:56.525Z"
   },
   {
    "duration": 196,
    "start_time": "2023-09-16T12:21:04.414Z"
   },
   {
    "duration": 13,
    "start_time": "2023-09-16T12:21:39.477Z"
   },
   {
    "duration": 303,
    "start_time": "2023-09-16T12:22:27.608Z"
   },
   {
    "duration": 168,
    "start_time": "2023-09-17T09:01:03.030Z"
   },
   {
    "duration": 206,
    "start_time": "2023-09-17T09:01:25.126Z"
   },
   {
    "duration": 1426,
    "start_time": "2023-09-18T07:43:19.724Z"
   },
   {
    "duration": 115,
    "start_time": "2023-09-18T07:43:21.152Z"
   },
   {
    "duration": 8,
    "start_time": "2023-09-18T07:43:21.828Z"
   },
   {
    "duration": 8,
    "start_time": "2023-09-18T07:43:22.131Z"
   },
   {
    "duration": 12,
    "start_time": "2023-09-18T07:43:22.493Z"
   },
   {
    "duration": 9,
    "start_time": "2023-09-18T07:43:22.776Z"
   },
   {
    "duration": 10,
    "start_time": "2023-09-18T07:43:24.001Z"
   },
   {
    "duration": 9,
    "start_time": "2023-09-18T07:43:24.374Z"
   },
   {
    "duration": 3,
    "start_time": "2023-09-18T07:43:24.629Z"
   },
   {
    "duration": 314,
    "start_time": "2023-09-18T07:43:35.509Z"
   },
   {
    "duration": 9792,
    "start_time": "2023-09-18T07:43:36.440Z"
   },
   {
    "duration": 21,
    "start_time": "2023-09-18T07:43:56.890Z"
   },
   {
    "duration": 3,
    "start_time": "2023-09-18T07:43:57.886Z"
   },
   {
    "duration": 4,
    "start_time": "2023-09-18T07:43:58.842Z"
   },
   {
    "duration": 379,
    "start_time": "2023-09-18T07:44:01.514Z"
   },
   {
    "duration": 45,
    "start_time": "2023-09-18T07:44:03.494Z"
   },
   {
    "duration": 35,
    "start_time": "2023-09-18T07:44:04.503Z"
   },
   {
    "duration": 60,
    "start_time": "2023-09-18T07:44:05.055Z"
   },
   {
    "duration": 36,
    "start_time": "2023-09-18T07:44:05.356Z"
   },
   {
    "duration": 5,
    "start_time": "2023-09-18T07:44:06.220Z"
   },
   {
    "duration": 4,
    "start_time": "2023-09-18T07:44:06.537Z"
   },
   {
    "duration": 3,
    "start_time": "2023-09-18T07:44:06.858Z"
   },
   {
    "duration": 3,
    "start_time": "2023-09-18T07:44:07.150Z"
   },
   {
    "duration": 13,
    "start_time": "2023-09-18T07:44:07.368Z"
   },
   {
    "duration": 5,
    "start_time": "2023-09-18T07:44:10.030Z"
   },
   {
    "duration": 11,
    "start_time": "2023-09-18T07:44:11.309Z"
   },
   {
    "duration": 12,
    "start_time": "2023-09-18T07:44:12.107Z"
   },
   {
    "duration": 2,
    "start_time": "2023-09-18T07:44:12.386Z"
   },
   {
    "duration": 5,
    "start_time": "2023-09-18T07:44:13.441Z"
   },
   {
    "duration": 420,
    "start_time": "2023-09-18T07:44:13.689Z"
   },
   {
    "duration": 3,
    "start_time": "2023-09-18T07:44:14.111Z"
   },
   {
    "duration": 524,
    "start_time": "2023-09-18T07:44:14.203Z"
   },
   {
    "duration": 5,
    "start_time": "2023-09-18T07:44:14.729Z"
   },
   {
    "duration": 12,
    "start_time": "2023-09-18T07:44:16.890Z"
   },
   {
    "duration": 3,
    "start_time": "2023-09-18T07:44:18.169Z"
   },
   {
    "duration": 10,
    "start_time": "2023-09-18T07:44:18.959Z"
   },
   {
    "duration": 4,
    "start_time": "2023-09-18T07:44:19.281Z"
   },
   {
    "duration": 12,
    "start_time": "2023-09-18T07:44:19.561Z"
   },
   {
    "duration": 3,
    "start_time": "2023-09-18T07:44:20.799Z"
   },
   {
    "duration": 8,
    "start_time": "2023-09-18T07:44:21.579Z"
   },
   {
    "duration": 3,
    "start_time": "2023-09-18T07:44:22.394Z"
   },
   {
    "duration": 2,
    "start_time": "2023-09-18T07:44:25.033Z"
   },
   {
    "duration": 2,
    "start_time": "2023-09-18T07:44:26.355Z"
   },
   {
    "duration": 45,
    "start_time": "2023-09-18T07:44:28.660Z"
   },
   {
    "duration": 12,
    "start_time": "2023-09-18T07:44:28.931Z"
   },
   {
    "duration": 9,
    "start_time": "2023-09-18T07:44:32.660Z"
   },
   {
    "duration": 10,
    "start_time": "2023-09-18T07:44:34.767Z"
   },
   {
    "duration": 20,
    "start_time": "2023-09-18T07:44:35.064Z"
   },
   {
    "duration": 6,
    "start_time": "2023-09-18T07:44:37.443Z"
   },
   {
    "duration": 429,
    "start_time": "2023-09-18T07:44:38.604Z"
   },
   {
    "duration": 3,
    "start_time": "2023-09-18T07:44:40.201Z"
   },
   {
    "duration": 4,
    "start_time": "2023-09-18T07:44:41.321Z"
   },
   {
    "duration": 510,
    "start_time": "2023-09-18T07:44:41.548Z"
   },
   {
    "duration": 377,
    "start_time": "2023-09-18T07:44:43.448Z"
   },
   {
    "duration": 243,
    "start_time": "2023-09-18T07:44:43.940Z"
   },
   {
    "duration": 2,
    "start_time": "2023-09-18T07:44:45.422Z"
   },
   {
    "duration": 167,
    "start_time": "2023-09-18T07:44:45.975Z"
   },
   {
    "duration": 2,
    "start_time": "2023-09-18T07:44:49.093Z"
   },
   {
    "duration": 47,
    "start_time": "2023-09-18T07:44:51.473Z"
   },
   {
    "duration": 8,
    "start_time": "2023-09-18T07:44:54.368Z"
   },
   {
    "duration": 3,
    "start_time": "2023-09-18T07:44:55.402Z"
   },
   {
    "duration": 2,
    "start_time": "2023-09-18T07:44:56.864Z"
   },
   {
    "duration": 2978,
    "start_time": "2023-09-18T07:44:57.921Z"
   },
   {
    "duration": 3,
    "start_time": "2023-09-18T07:45:13.322Z"
   },
   {
    "duration": 11,
    "start_time": "2023-09-18T07:45:14.177Z"
   },
   {
    "duration": 3,
    "start_time": "2023-09-18T07:45:15.418Z"
   },
   {
    "duration": 5,
    "start_time": "2023-09-18T07:45:16.790Z"
   },
   {
    "duration": 2,
    "start_time": "2023-09-18T07:45:18.063Z"
   },
   {
    "duration": 3,
    "start_time": "2023-09-18T07:45:20.410Z"
   },
   {
    "duration": 4,
    "start_time": "2023-09-18T07:45:59.569Z"
   },
   {
    "duration": 3,
    "start_time": "2023-09-18T07:46:43.139Z"
   },
   {
    "duration": 6267,
    "start_time": "2023-09-18T07:46:44.778Z"
   },
   {
    "duration": 23,
    "start_time": "2023-09-18T07:49:18.998Z"
   },
   {
    "duration": 283,
    "start_time": "2023-09-18T07:49:34.373Z"
   },
   {
    "duration": 10,
    "start_time": "2023-09-18T07:58:28.365Z"
   },
   {
    "duration": 2,
    "start_time": "2023-09-18T07:59:23.831Z"
   },
   {
    "duration": 6539,
    "start_time": "2023-09-18T07:59:25.007Z"
   },
   {
    "duration": 6067,
    "start_time": "2023-09-18T08:00:48.784Z"
   },
   {
    "duration": 11,
    "start_time": "2023-09-18T08:05:28.984Z"
   },
   {
    "duration": 13,
    "start_time": "2023-09-18T08:05:52.804Z"
   },
   {
    "duration": 1225,
    "start_time": "2023-09-18T08:11:24.717Z"
   },
   {
    "duration": 4974,
    "start_time": "2023-09-18T08:11:25.944Z"
   },
   {
    "duration": 72,
    "start_time": "2023-09-18T08:11:30.921Z"
   },
   {
    "duration": 13,
    "start_time": "2023-09-18T08:11:30.996Z"
   },
   {
    "duration": 268,
    "start_time": "2023-09-18T08:11:31.011Z"
   },
   {
    "duration": 131,
    "start_time": "2023-09-18T08:11:31.281Z"
   },
   {
    "duration": 42,
    "start_time": "2023-09-18T08:11:31.414Z"
   },
   {
    "duration": 42,
    "start_time": "2023-09-18T08:11:31.457Z"
   },
   {
    "duration": 101,
    "start_time": "2023-09-18T08:11:31.500Z"
   },
   {
    "duration": 44,
    "start_time": "2023-09-18T08:11:31.604Z"
   },
   {
    "duration": 43,
    "start_time": "2023-09-18T08:11:31.650Z"
   },
   {
    "duration": 31,
    "start_time": "2023-09-18T08:11:31.695Z"
   },
   {
    "duration": 37,
    "start_time": "2023-09-18T08:11:31.727Z"
   },
   {
    "duration": 53,
    "start_time": "2023-09-18T08:11:31.765Z"
   },
   {
    "duration": 49,
    "start_time": "2023-09-18T08:11:31.820Z"
   },
   {
    "duration": 35,
    "start_time": "2023-09-18T08:11:31.871Z"
   },
   {
    "duration": 58,
    "start_time": "2023-09-18T08:11:31.907Z"
   },
   {
    "duration": 57,
    "start_time": "2023-09-18T08:11:31.966Z"
   },
   {
    "duration": 22,
    "start_time": "2023-09-18T08:11:32.025Z"
   },
   {
    "duration": 52,
    "start_time": "2023-09-18T08:11:32.049Z"
   },
   {
    "duration": 473,
    "start_time": "2023-09-18T08:11:32.103Z"
   },
   {
    "duration": 5,
    "start_time": "2023-09-18T08:11:32.578Z"
   },
   {
    "duration": 412,
    "start_time": "2023-09-18T08:11:32.584Z"
   },
   {
    "duration": 4,
    "start_time": "2023-09-18T08:11:32.998Z"
   },
   {
    "duration": 46,
    "start_time": "2023-09-18T08:11:33.003Z"
   },
   {
    "duration": 26,
    "start_time": "2023-09-18T08:11:33.051Z"
   },
   {
    "duration": 26,
    "start_time": "2023-09-18T08:11:33.078Z"
   },
   {
    "duration": 30,
    "start_time": "2023-09-18T08:11:33.107Z"
   },
   {
    "duration": 29,
    "start_time": "2023-09-18T08:11:33.139Z"
   },
   {
    "duration": 33,
    "start_time": "2023-09-18T08:11:33.170Z"
   },
   {
    "duration": 29,
    "start_time": "2023-09-18T08:11:33.204Z"
   },
   {
    "duration": 14,
    "start_time": "2023-09-18T08:11:33.234Z"
   },
   {
    "duration": 17,
    "start_time": "2023-09-18T08:11:33.250Z"
   },
   {
    "duration": 18,
    "start_time": "2023-09-18T08:11:33.269Z"
   },
   {
    "duration": 60,
    "start_time": "2023-09-18T08:11:33.289Z"
   },
   {
    "duration": 10,
    "start_time": "2023-09-18T08:11:33.351Z"
   },
   {
    "duration": 11,
    "start_time": "2023-09-18T08:11:33.362Z"
   },
   {
    "duration": 10,
    "start_time": "2023-09-18T08:11:33.374Z"
   },
   {
    "duration": 21,
    "start_time": "2023-09-18T08:11:33.386Z"
   },
   {
    "duration": 7,
    "start_time": "2023-09-18T08:11:33.409Z"
   },
   {
    "duration": 543,
    "start_time": "2023-09-18T08:11:33.417Z"
   },
   {
    "duration": 2,
    "start_time": "2023-09-18T08:11:33.962Z"
   },
   {
    "duration": 24,
    "start_time": "2023-09-18T08:11:33.965Z"
   },
   {
    "duration": 581,
    "start_time": "2023-09-18T08:11:33.991Z"
   },
   {
    "duration": 368,
    "start_time": "2023-09-18T08:11:34.573Z"
   },
   {
    "duration": 263,
    "start_time": "2023-09-18T08:11:34.943Z"
   },
   {
    "duration": 3,
    "start_time": "2023-09-18T08:11:35.208Z"
   },
   {
    "duration": 185,
    "start_time": "2023-09-18T08:11:35.212Z"
   },
   {
    "duration": 2,
    "start_time": "2023-09-18T08:11:35.398Z"
   },
   {
    "duration": 57,
    "start_time": "2023-09-18T08:11:35.402Z"
   },
   {
    "duration": 7,
    "start_time": "2023-09-18T08:11:35.461Z"
   },
   {
    "duration": 11,
    "start_time": "2023-09-18T08:11:35.469Z"
   },
   {
    "duration": 11,
    "start_time": "2023-09-18T08:11:35.482Z"
   },
   {
    "duration": 3036,
    "start_time": "2023-09-18T08:11:35.495Z"
   },
   {
    "duration": 3,
    "start_time": "2023-09-18T08:11:38.533Z"
   },
   {
    "duration": 26,
    "start_time": "2023-09-18T08:11:38.537Z"
   },
   {
    "duration": 8,
    "start_time": "2023-09-18T08:11:38.565Z"
   },
   {
    "duration": 13,
    "start_time": "2023-09-18T08:11:38.574Z"
   },
   {
    "duration": 6,
    "start_time": "2023-09-18T08:11:38.589Z"
   },
   {
    "duration": 11,
    "start_time": "2023-09-18T08:11:38.597Z"
   },
   {
    "duration": 12,
    "start_time": "2023-09-18T08:11:38.610Z"
   },
   {
    "duration": 13,
    "start_time": "2023-09-18T08:11:38.624Z"
   },
   {
    "duration": 123,
    "start_time": "2023-09-18T08:11:38.639Z"
   },
   {
    "duration": 0,
    "start_time": "2023-09-18T08:11:38.764Z"
   },
   {
    "duration": 0,
    "start_time": "2023-09-18T08:11:38.766Z"
   },
   {
    "duration": 0,
    "start_time": "2023-09-18T08:11:38.767Z"
   },
   {
    "duration": 0,
    "start_time": "2023-09-18T08:11:38.768Z"
   },
   {
    "duration": 0,
    "start_time": "2023-09-18T08:11:38.770Z"
   },
   {
    "duration": 0,
    "start_time": "2023-09-18T08:11:38.771Z"
   },
   {
    "duration": 0,
    "start_time": "2023-09-18T08:11:38.772Z"
   },
   {
    "duration": 0,
    "start_time": "2023-09-18T08:11:38.774Z"
   },
   {
    "duration": 0,
    "start_time": "2023-09-18T08:11:38.775Z"
   },
   {
    "duration": 0,
    "start_time": "2023-09-18T08:11:38.776Z"
   },
   {
    "duration": 0,
    "start_time": "2023-09-18T08:11:38.778Z"
   },
   {
    "duration": 0,
    "start_time": "2023-09-18T08:11:38.779Z"
   },
   {
    "duration": 0,
    "start_time": "2023-09-18T08:11:38.781Z"
   },
   {
    "duration": 0,
    "start_time": "2023-09-18T08:11:38.782Z"
   },
   {
    "duration": 0,
    "start_time": "2023-09-18T08:11:38.783Z"
   },
   {
    "duration": 0,
    "start_time": "2023-09-18T08:11:38.784Z"
   },
   {
    "duration": 29887,
    "start_time": "2023-09-18T08:14:03.906Z"
   },
   {
    "duration": 38474,
    "start_time": "2023-09-18T08:15:39.606Z"
   },
   {
    "duration": 31497,
    "start_time": "2023-09-18T08:20:13.447Z"
   },
   {
    "duration": 3,
    "start_time": "2023-09-18T08:26:31.596Z"
   },
   {
    "duration": 2,
    "start_time": "2023-09-18T08:26:53.383Z"
   },
   {
    "duration": 22,
    "start_time": "2023-09-18T08:30:30.841Z"
   },
   {
    "duration": 18,
    "start_time": "2023-09-18T08:34:02.987Z"
   },
   {
    "duration": 6,
    "start_time": "2023-09-18T08:34:30.775Z"
   },
   {
    "duration": 20,
    "start_time": "2023-09-18T08:34:31.795Z"
   },
   {
    "duration": 15,
    "start_time": "2023-09-18T08:49:18.586Z"
   },
   {
    "duration": 17,
    "start_time": "2023-09-18T08:49:27.469Z"
   },
   {
    "duration": 615,
    "start_time": "2023-09-18T08:50:10.262Z"
   },
   {
    "duration": 31340,
    "start_time": "2023-09-18T08:53:31.203Z"
   },
   {
    "duration": 10,
    "start_time": "2023-09-18T08:55:51.147Z"
   },
   {
    "duration": 118,
    "start_time": "2023-09-18T08:56:28.035Z"
   },
   {
    "duration": 81,
    "start_time": "2023-09-18T08:56:37.450Z"
   },
   {
    "duration": 16713,
    "start_time": "2023-09-18T08:56:44.145Z"
   },
   {
    "duration": 146419,
    "start_time": "2023-09-18T08:57:05.226Z"
   },
   {
    "duration": 407578,
    "start_time": "2023-09-18T09:02:00.187Z"
   },
   {
    "duration": 160295,
    "start_time": "2023-09-18T09:12:34.059Z"
   },
   {
    "duration": 359140,
    "start_time": "2023-09-18T09:17:17.710Z"
   },
   {
    "duration": 3,
    "start_time": "2023-09-18T10:01:52.674Z"
   },
   {
    "duration": 5,
    "start_time": "2023-09-18T10:02:40.781Z"
   },
   {
    "duration": 139,
    "start_time": "2023-09-18T10:02:45.040Z"
   },
   {
    "duration": 18,
    "start_time": "2023-09-18T10:02:59.648Z"
   },
   {
    "duration": 138,
    "start_time": "2023-09-18T10:03:17.639Z"
   },
   {
    "duration": 16,
    "start_time": "2023-09-18T11:36:24.731Z"
   },
   {
    "duration": 3,
    "start_time": "2023-09-18T11:36:51.644Z"
   },
   {
    "duration": 157,
    "start_time": "2023-09-18T11:36:52.541Z"
   },
   {
    "duration": 342,
    "start_time": "2023-09-18T11:40:55.287Z"
   },
   {
    "duration": 150,
    "start_time": "2023-09-18T12:30:00.247Z"
   },
   {
    "duration": 12,
    "start_time": "2023-09-18T12:39:01.354Z"
   },
   {
    "duration": 12,
    "start_time": "2023-09-18T12:53:46.190Z"
   },
   {
    "duration": 289,
    "start_time": "2023-09-18T12:54:39.735Z"
   },
   {
    "duration": 215,
    "start_time": "2023-09-18T12:55:04.555Z"
   },
   {
    "duration": 17,
    "start_time": "2023-09-18T13:03:43.800Z"
   },
   {
    "duration": 11,
    "start_time": "2023-09-18T13:32:34.342Z"
   },
   {
    "duration": 3,
    "start_time": "2023-09-18T13:34:23.518Z"
   },
   {
    "duration": 14,
    "start_time": "2023-09-18T13:34:24.464Z"
   },
   {
    "duration": 9,
    "start_time": "2023-09-18T13:36:25.729Z"
   },
   {
    "duration": 90,
    "start_time": "2023-09-18T13:57:06.694Z"
   },
   {
    "duration": 81,
    "start_time": "2023-09-18T13:57:51.213Z"
   },
   {
    "duration": 16,
    "start_time": "2023-09-18T13:58:16.130Z"
   },
   {
    "duration": 16,
    "start_time": "2023-09-18T13:58:39.393Z"
   },
   {
    "duration": 390370,
    "start_time": "2023-09-18T14:05:08.280Z"
   },
   {
    "duration": 11874,
    "start_time": "2023-09-18T14:11:42.389Z"
   },
   {
    "duration": 3074,
    "start_time": "2023-09-18T14:12:10.989Z"
   },
   {
    "duration": 1164,
    "start_time": "2023-09-18T14:20:10.008Z"
   },
   {
    "duration": 4961,
    "start_time": "2023-09-18T14:20:11.173Z"
   },
   {
    "duration": 33,
    "start_time": "2023-09-18T14:20:16.137Z"
   },
   {
    "duration": 13,
    "start_time": "2023-09-18T14:20:16.172Z"
   },
   {
    "duration": 252,
    "start_time": "2023-09-18T14:20:16.187Z"
   },
   {
    "duration": 219,
    "start_time": "2023-09-18T14:20:16.440Z"
   },
   {
    "duration": 43,
    "start_time": "2023-09-18T14:20:16.661Z"
   },
   {
    "duration": 40,
    "start_time": "2023-09-18T14:20:16.705Z"
   },
   {
    "duration": 45,
    "start_time": "2023-09-18T14:20:16.747Z"
   },
   {
    "duration": 54,
    "start_time": "2023-09-18T14:20:16.795Z"
   },
   {
    "duration": 4,
    "start_time": "2023-09-18T14:20:16.851Z"
   },
   {
    "duration": 35,
    "start_time": "2023-09-18T14:20:16.856Z"
   },
   {
    "duration": 19,
    "start_time": "2023-09-18T14:20:16.893Z"
   },
   {
    "duration": 18,
    "start_time": "2023-09-18T14:20:16.914Z"
   },
   {
    "duration": 27,
    "start_time": "2023-09-18T14:20:16.933Z"
   },
   {
    "duration": 26,
    "start_time": "2023-09-18T14:20:16.962Z"
   },
   {
    "duration": 45,
    "start_time": "2023-09-18T14:20:16.990Z"
   },
   {
    "duration": 50,
    "start_time": "2023-09-18T14:20:17.037Z"
   },
   {
    "duration": 33,
    "start_time": "2023-09-18T14:20:17.089Z"
   },
   {
    "duration": 30,
    "start_time": "2023-09-18T14:20:17.124Z"
   },
   {
    "duration": 434,
    "start_time": "2023-09-18T14:20:17.156Z"
   },
   {
    "duration": 4,
    "start_time": "2023-09-18T14:20:17.592Z"
   },
   {
    "duration": 438,
    "start_time": "2023-09-18T14:20:17.597Z"
   },
   {
    "duration": 4,
    "start_time": "2023-09-18T14:20:18.037Z"
   },
   {
    "duration": 29,
    "start_time": "2023-09-18T14:20:18.043Z"
   },
   {
    "duration": 53,
    "start_time": "2023-09-18T14:20:18.073Z"
   },
   {
    "duration": 44,
    "start_time": "2023-09-18T14:20:18.128Z"
   },
   {
    "duration": 31,
    "start_time": "2023-09-18T14:20:18.176Z"
   },
   {
    "duration": 68,
    "start_time": "2023-09-18T14:20:18.208Z"
   },
   {
    "duration": 29,
    "start_time": "2023-09-18T14:20:18.277Z"
   },
   {
    "duration": 56,
    "start_time": "2023-09-18T14:20:18.308Z"
   },
   {
    "duration": 27,
    "start_time": "2023-09-18T14:20:18.365Z"
   },
   {
    "duration": 31,
    "start_time": "2023-09-18T14:20:18.394Z"
   },
   {
    "duration": 25,
    "start_time": "2023-09-18T14:20:18.427Z"
   },
   {
    "duration": 63,
    "start_time": "2023-09-18T14:20:18.454Z"
   },
   {
    "duration": 11,
    "start_time": "2023-09-18T14:20:18.518Z"
   },
   {
    "duration": 31,
    "start_time": "2023-09-18T14:20:18.531Z"
   },
   {
    "duration": 29,
    "start_time": "2023-09-18T14:20:18.564Z"
   },
   {
    "duration": 34,
    "start_time": "2023-09-18T14:20:18.594Z"
   },
   {
    "duration": 36,
    "start_time": "2023-09-18T14:20:18.630Z"
   },
   {
    "duration": 570,
    "start_time": "2023-09-18T14:20:18.668Z"
   },
   {
    "duration": 4,
    "start_time": "2023-09-18T14:20:19.240Z"
   },
   {
    "duration": 22,
    "start_time": "2023-09-18T14:20:19.246Z"
   },
   {
    "duration": 530,
    "start_time": "2023-09-18T14:20:19.269Z"
   },
   {
    "duration": 393,
    "start_time": "2023-09-18T14:20:19.801Z"
   },
   {
    "duration": 254,
    "start_time": "2023-09-18T14:20:20.196Z"
   },
   {
    "duration": 3,
    "start_time": "2023-09-18T14:20:20.452Z"
   },
   {
    "duration": 191,
    "start_time": "2023-09-18T14:20:20.456Z"
   },
   {
    "duration": 2,
    "start_time": "2023-09-18T14:20:20.648Z"
   },
   {
    "duration": 66,
    "start_time": "2023-09-18T14:20:20.652Z"
   },
   {
    "duration": 9,
    "start_time": "2023-09-18T14:20:20.720Z"
   },
   {
    "duration": 21,
    "start_time": "2023-09-18T14:20:20.731Z"
   },
   {
    "duration": 28,
    "start_time": "2023-09-18T14:20:20.754Z"
   },
   {
    "duration": 3123,
    "start_time": "2023-09-18T14:20:20.784Z"
   },
   {
    "duration": 2,
    "start_time": "2023-09-18T14:20:23.909Z"
   },
   {
    "duration": 17,
    "start_time": "2023-09-18T14:20:23.913Z"
   },
   {
    "duration": 14,
    "start_time": "2023-09-18T14:20:23.931Z"
   },
   {
    "duration": 15,
    "start_time": "2023-09-18T14:20:23.946Z"
   },
   {
    "duration": 21,
    "start_time": "2023-09-18T14:20:23.962Z"
   },
   {
    "duration": 13,
    "start_time": "2023-09-18T14:20:23.985Z"
   },
   {
    "duration": 18,
    "start_time": "2023-09-18T14:20:24.000Z"
   },
   {
    "duration": 32127,
    "start_time": "2023-09-18T14:20:24.020Z"
   },
   {
    "duration": 91,
    "start_time": "2023-09-18T14:20:56.154Z"
   },
   {
    "duration": 33,
    "start_time": "2023-09-18T14:20:56.247Z"
   },
   {
    "duration": 15,
    "start_time": "2023-09-18T14:20:56.281Z"
   },
   {
    "duration": 25,
    "start_time": "2023-09-18T14:20:56.298Z"
   },
   {
    "duration": 136,
    "start_time": "2023-09-18T14:20:56.325Z"
   },
   {
    "duration": 0,
    "start_time": "2023-09-18T14:20:56.463Z"
   },
   {
    "duration": 0,
    "start_time": "2023-09-18T14:20:56.464Z"
   },
   {
    "duration": 0,
    "start_time": "2023-09-18T14:20:56.465Z"
   },
   {
    "duration": 0,
    "start_time": "2023-09-18T14:20:56.466Z"
   },
   {
    "duration": 0,
    "start_time": "2023-09-18T14:20:56.467Z"
   },
   {
    "duration": 0,
    "start_time": "2023-09-18T14:20:56.468Z"
   },
   {
    "duration": 0,
    "start_time": "2023-09-18T14:20:56.470Z"
   },
   {
    "duration": 0,
    "start_time": "2023-09-18T14:20:56.471Z"
   },
   {
    "duration": 0,
    "start_time": "2023-09-18T14:20:56.472Z"
   },
   {
    "duration": 0,
    "start_time": "2023-09-18T14:20:56.473Z"
   },
   {
    "duration": 2,
    "start_time": "2023-09-18T14:23:22.554Z"
   },
   {
    "duration": 693,
    "start_time": "2023-09-18T14:23:24.009Z"
   },
   {
    "duration": 3,
    "start_time": "2023-09-18T14:23:30.124Z"
   },
   {
    "duration": 94,
    "start_time": "2023-09-18T14:23:32.894Z"
   },
   {
    "duration": 128824,
    "start_time": "2023-09-18T14:23:36.426Z"
   },
   {
    "duration": 3,
    "start_time": "2023-09-18T14:26:14.583Z"
   },
   {
    "duration": 1277,
    "start_time": "2023-09-18T14:26:21.983Z"
   },
   {
    "duration": 2,
    "start_time": "2023-09-18T14:26:30.362Z"
   },
   {
    "duration": 3,
    "start_time": "2023-09-18T14:26:33.525Z"
   },
   {
    "duration": 3,
    "start_time": "2023-09-18T14:27:03.042Z"
   },
   {
    "duration": 201,
    "start_time": "2023-09-18T14:27:04.524Z"
   },
   {
    "duration": 332,
    "start_time": "2023-09-18T14:27:10.332Z"
   },
   {
    "duration": 2580,
    "start_time": "2023-09-18T14:27:20.482Z"
   },
   {
    "duration": 3,
    "start_time": "2023-09-18T14:27:53.919Z"
   },
   {
    "duration": 3133,
    "start_time": "2023-09-18T14:27:54.882Z"
   },
   {
    "duration": 84,
    "start_time": "2023-09-18T19:36:27.172Z"
   },
   {
    "duration": 111,
    "start_time": "2023-09-18T19:38:15.290Z"
   },
   {
    "duration": 1550,
    "start_time": "2023-09-19T07:33:00.429Z"
   },
   {
    "duration": 11198,
    "start_time": "2023-09-19T07:33:10.358Z"
   },
   {
    "duration": 59,
    "start_time": "2023-09-19T07:34:07.076Z"
   },
   {
    "duration": 5,
    "start_time": "2023-09-19T07:34:08.029Z"
   },
   {
    "duration": 207,
    "start_time": "2023-09-19T07:34:09.279Z"
   },
   {
    "duration": 465,
    "start_time": "2023-09-19T07:34:10.303Z"
   },
   {
    "duration": 49,
    "start_time": "2023-09-19T07:34:11.791Z"
   },
   {
    "duration": 33,
    "start_time": "2023-09-19T07:34:13.173Z"
   },
   {
    "duration": 57,
    "start_time": "2023-09-19T07:34:14.407Z"
   },
   {
    "duration": 36,
    "start_time": "2023-09-19T07:34:15.279Z"
   },
   {
    "duration": 6,
    "start_time": "2023-09-19T07:34:21.482Z"
   },
   {
    "duration": 6,
    "start_time": "2023-09-19T07:34:27.549Z"
   },
   {
    "duration": 3,
    "start_time": "2023-09-19T07:34:28.549Z"
   },
   {
    "duration": 3,
    "start_time": "2023-09-19T07:34:29.295Z"
   },
   {
    "duration": 14,
    "start_time": "2023-09-19T07:34:29.558Z"
   },
   {
    "duration": 5,
    "start_time": "2023-09-19T07:34:30.072Z"
   },
   {
    "duration": 14,
    "start_time": "2023-09-19T07:34:30.354Z"
   },
   {
    "duration": 14,
    "start_time": "2023-09-19T07:34:34.358Z"
   },
   {
    "duration": 2,
    "start_time": "2023-09-19T07:34:34.624Z"
   },
   {
    "duration": 5,
    "start_time": "2023-09-19T07:34:37.532Z"
   },
   {
    "duration": 456,
    "start_time": "2023-09-19T07:34:37.820Z"
   },
   {
    "duration": 7,
    "start_time": "2023-09-19T07:34:39.022Z"
   },
   {
    "duration": 452,
    "start_time": "2023-09-19T07:34:39.300Z"
   },
   {
    "duration": 5,
    "start_time": "2023-09-19T07:34:39.754Z"
   },
   {
    "duration": 13,
    "start_time": "2023-09-19T07:34:40.699Z"
   },
   {
    "duration": 3,
    "start_time": "2023-09-19T07:34:41.086Z"
   },
   {
    "duration": 10,
    "start_time": "2023-09-19T07:34:41.356Z"
   },
   {
    "duration": 3,
    "start_time": "2023-09-19T07:34:43.284Z"
   },
   {
    "duration": 12,
    "start_time": "2023-09-19T07:34:44.295Z"
   },
   {
    "duration": 4,
    "start_time": "2023-09-19T07:34:45.988Z"
   },
   {
    "duration": 9,
    "start_time": "2023-09-19T07:34:46.974Z"
   },
   {
    "duration": 3,
    "start_time": "2023-09-19T07:34:48.308Z"
   },
   {
    "duration": 3,
    "start_time": "2023-09-19T07:34:49.362Z"
   },
   {
    "duration": 3,
    "start_time": "2023-09-19T07:34:50.158Z"
   },
   {
    "duration": 55,
    "start_time": "2023-09-19T07:34:50.852Z"
   },
   {
    "duration": 14,
    "start_time": "2023-09-19T07:34:54.422Z"
   },
   {
    "duration": 10,
    "start_time": "2023-09-19T07:35:00.676Z"
   },
   {
    "duration": 12,
    "start_time": "2023-09-19T07:35:03.228Z"
   },
   {
    "duration": 28,
    "start_time": "2023-09-19T07:35:04.207Z"
   },
   {
    "duration": 7,
    "start_time": "2023-09-19T07:35:09.219Z"
   },
   {
    "duration": 622,
    "start_time": "2023-09-19T07:35:14.820Z"
   },
   {
    "duration": 4,
    "start_time": "2023-09-19T07:35:17.591Z"
   },
   {
    "duration": 4,
    "start_time": "2023-09-19T07:35:20.293Z"
   },
   {
    "duration": 582,
    "start_time": "2023-09-19T07:35:21.319Z"
   },
   {
    "duration": 396,
    "start_time": "2023-09-19T07:35:23.652Z"
   },
   {
    "duration": 306,
    "start_time": "2023-09-19T07:35:25.047Z"
   },
   {
    "duration": 2,
    "start_time": "2023-09-19T07:35:26.796Z"
   },
   {
    "duration": 260,
    "start_time": "2023-09-19T07:35:28.492Z"
   },
   {
    "duration": 4,
    "start_time": "2023-09-19T07:35:31.299Z"
   },
   {
    "duration": 56,
    "start_time": "2023-09-19T07:35:33.510Z"
   },
   {
    "duration": 9,
    "start_time": "2023-09-19T07:35:36.027Z"
   },
   {
    "duration": 6,
    "start_time": "2023-09-19T07:35:36.665Z"
   },
   {
    "duration": 3,
    "start_time": "2023-09-19T07:35:37.381Z"
   },
   {
    "duration": 3551,
    "start_time": "2023-09-19T07:35:38.656Z"
   },
   {
    "duration": 3,
    "start_time": "2023-09-19T07:35:55.395Z"
   },
   {
    "duration": 10,
    "start_time": "2023-09-19T07:35:55.992Z"
   },
   {
    "duration": 4,
    "start_time": "2023-09-19T07:35:56.872Z"
   },
   {
    "duration": 4,
    "start_time": "2023-09-19T07:35:57.559Z"
   },
   {
    "duration": 2,
    "start_time": "2023-09-19T07:35:58.542Z"
   },
   {
    "duration": 2,
    "start_time": "2023-09-19T07:36:03.259Z"
   },
   {
    "duration": 4,
    "start_time": "2023-09-19T07:36:03.768Z"
   },
   {
    "duration": 3,
    "start_time": "2023-09-19T07:36:31.972Z"
   },
   {
    "duration": 3,
    "start_time": "2023-09-19T07:38:08.208Z"
   },
   {
    "duration": 4,
    "start_time": "2023-09-19T07:38:15.058Z"
   },
   {
    "duration": 36797,
    "start_time": "2023-09-19T07:38:16.213Z"
   },
   {
    "duration": 3,
    "start_time": "2023-09-19T07:39:47.476Z"
   },
   {
    "duration": 37214,
    "start_time": "2023-09-19T07:40:55.758Z"
   },
   {
    "duration": 42401,
    "start_time": "2023-09-19T07:41:52.010Z"
   },
   {
    "duration": 20,
    "start_time": "2023-09-19T07:45:28.417Z"
   },
   {
    "duration": 3,
    "start_time": "2023-09-19T07:45:32.155Z"
   },
   {
    "duration": 21,
    "start_time": "2023-09-19T07:45:33.461Z"
   },
   {
    "duration": 3,
    "start_time": "2023-09-19T07:47:54.980Z"
   },
   {
    "duration": 19,
    "start_time": "2023-09-19T07:47:56.134Z"
   },
   {
    "duration": 10,
    "start_time": "2023-09-19T07:51:49.864Z"
   },
   {
    "duration": 4,
    "start_time": "2023-09-19T07:53:25.252Z"
   },
   {
    "duration": 47,
    "start_time": "2023-09-19T07:56:35.607Z"
   },
   {
    "duration": 42,
    "start_time": "2023-09-19T07:57:05.295Z"
   },
   {
    "duration": 169,
    "start_time": "2023-09-19T08:02:52.309Z"
   },
   {
    "duration": 145,
    "start_time": "2023-09-19T08:04:04.794Z"
   },
   {
    "duration": 191,
    "start_time": "2023-09-19T08:06:30.883Z"
   },
   {
    "duration": 116,
    "start_time": "2023-09-19T08:07:25.490Z"
   },
   {
    "duration": 156,
    "start_time": "2023-09-19T08:07:46.929Z"
   },
   {
    "duration": 3,
    "start_time": "2023-09-19T08:08:11.190Z"
   },
   {
    "duration": 197,
    "start_time": "2023-09-19T08:08:12.459Z"
   },
   {
    "duration": 29,
    "start_time": "2023-09-19T08:10:08.472Z"
   },
   {
    "duration": 23278,
    "start_time": "2023-09-19T08:12:34.171Z"
   },
   {
    "duration": 12,
    "start_time": "2023-09-19T08:17:25.654Z"
   },
   {
    "duration": 114,
    "start_time": "2023-09-19T08:17:38.608Z"
   },
   {
    "duration": 13654,
    "start_time": "2023-09-19T08:17:41.861Z"
   },
   {
    "duration": 10934,
    "start_time": "2023-09-19T08:18:54.575Z"
   },
   {
    "duration": 15842,
    "start_time": "2023-09-19T08:21:23.477Z"
   },
   {
    "duration": 1050,
    "start_time": "2023-09-19T08:29:57.975Z"
   },
   {
    "duration": 1344,
    "start_time": "2023-09-19T08:30:19.268Z"
   },
   {
    "duration": 3,
    "start_time": "2023-09-19T08:32:37.285Z"
   },
   {
    "duration": 18,
    "start_time": "2023-09-19T08:32:38.736Z"
   },
   {
    "duration": 12,
    "start_time": "2023-09-19T08:33:26.335Z"
   },
   {
    "duration": 11,
    "start_time": "2023-09-19T08:35:19.068Z"
   },
   {
    "duration": 20,
    "start_time": "2023-09-19T08:36:35.535Z"
   },
   {
    "duration": 12,
    "start_time": "2023-09-19T08:37:08.685Z"
   },
   {
    "duration": 127,
    "start_time": "2023-09-19T08:37:46.406Z"
   },
   {
    "duration": 2,
    "start_time": "2023-09-19T08:37:51.166Z"
   },
   {
    "duration": 13,
    "start_time": "2023-09-19T08:37:54.467Z"
   },
   {
    "duration": 202,
    "start_time": "2023-09-19T08:38:10.599Z"
   },
   {
    "duration": 380,
    "start_time": "2023-09-19T08:38:17.164Z"
   },
   {
    "duration": 4,
    "start_time": "2023-09-19T08:39:52.604Z"
   },
   {
    "duration": 9099,
    "start_time": "2023-09-19T08:40:37.650Z"
   },
   {
    "duration": 25,
    "start_time": "2023-09-19T08:41:25.177Z"
   },
   {
    "duration": 18,
    "start_time": "2023-09-19T08:44:52.023Z"
   },
   {
    "duration": 14,
    "start_time": "2023-09-19T08:45:56.079Z"
   },
   {
    "duration": 19305,
    "start_time": "2023-09-19T08:48:03.737Z"
   },
   {
    "duration": 229,
    "start_time": "2023-09-19T08:52:59.897Z"
   },
   {
    "duration": 985,
    "start_time": "2023-09-19T08:53:22.471Z"
   },
   {
    "duration": 919,
    "start_time": "2023-09-19T08:53:44.871Z"
   },
   {
    "duration": 1668,
    "start_time": "2023-09-20T07:48:59.337Z"
   },
   {
    "duration": 14327,
    "start_time": "2023-09-20T07:49:01.008Z"
   },
   {
    "duration": 66,
    "start_time": "2023-09-20T07:49:15.338Z"
   },
   {
    "duration": 3,
    "start_time": "2023-09-20T07:49:15.407Z"
   },
   {
    "duration": 293,
    "start_time": "2023-09-20T07:49:15.412Z"
   },
   {
    "duration": 635,
    "start_time": "2023-09-20T07:49:15.707Z"
   },
   {
    "duration": 47,
    "start_time": "2023-09-20T07:49:16.345Z"
   },
   {
    "duration": 46,
    "start_time": "2023-09-20T07:49:16.394Z"
   },
   {
    "duration": 53,
    "start_time": "2023-09-20T07:49:16.442Z"
   },
   {
    "duration": 43,
    "start_time": "2023-09-20T07:49:16.529Z"
   },
   {
    "duration": 14,
    "start_time": "2023-09-20T07:49:16.574Z"
   },
   {
    "duration": 27,
    "start_time": "2023-09-20T07:49:16.590Z"
   },
   {
    "duration": 23,
    "start_time": "2023-09-20T07:49:16.618Z"
   },
   {
    "duration": 23,
    "start_time": "2023-09-20T07:49:16.642Z"
   },
   {
    "duration": 41,
    "start_time": "2023-09-20T07:49:16.667Z"
   },
   {
    "duration": 53,
    "start_time": "2023-09-20T07:49:16.710Z"
   },
   {
    "duration": 45,
    "start_time": "2023-09-20T07:49:16.765Z"
   },
   {
    "duration": 32,
    "start_time": "2023-09-20T07:49:16.812Z"
   },
   {
    "duration": 21,
    "start_time": "2023-09-20T07:49:16.846Z"
   },
   {
    "duration": 21,
    "start_time": "2023-09-20T07:49:16.869Z"
   },
   {
    "duration": 523,
    "start_time": "2023-09-20T07:49:16.892Z"
   },
   {
    "duration": 8,
    "start_time": "2023-09-20T07:49:17.417Z"
   },
   {
    "duration": 463,
    "start_time": "2023-09-20T07:49:17.427Z"
   },
   {
    "duration": 5,
    "start_time": "2023-09-20T07:49:17.892Z"
   },
   {
    "duration": 95,
    "start_time": "2023-09-20T07:49:17.898Z"
   },
   {
    "duration": 95,
    "start_time": "2023-09-20T07:49:17.995Z"
   },
   {
    "duration": 114,
    "start_time": "2023-09-20T07:49:18.092Z"
   },
   {
    "duration": 180,
    "start_time": "2023-09-20T07:49:18.210Z"
   },
   {
    "duration": 57,
    "start_time": "2023-09-20T07:49:18.391Z"
   },
   {
    "duration": 114,
    "start_time": "2023-09-20T07:49:18.450Z"
   },
   {
    "duration": 84,
    "start_time": "2023-09-20T07:49:18.566Z"
   },
   {
    "duration": 9,
    "start_time": "2023-09-20T07:49:18.652Z"
   },
   {
    "duration": 26,
    "start_time": "2023-09-20T07:49:18.663Z"
   },
   {
    "duration": 10,
    "start_time": "2023-09-20T07:49:18.690Z"
   },
   {
    "duration": 77,
    "start_time": "2023-09-20T07:49:18.701Z"
   },
   {
    "duration": 12,
    "start_time": "2023-09-20T07:49:18.779Z"
   },
   {
    "duration": 15,
    "start_time": "2023-09-20T07:49:18.793Z"
   },
   {
    "duration": 18,
    "start_time": "2023-09-20T07:49:18.825Z"
   },
   {
    "duration": 22,
    "start_time": "2023-09-20T07:49:18.844Z"
   },
   {
    "duration": 12,
    "start_time": "2023-09-20T07:49:18.868Z"
   },
   {
    "duration": 594,
    "start_time": "2023-09-20T07:49:18.882Z"
   },
   {
    "duration": 3,
    "start_time": "2023-09-20T07:49:19.478Z"
   },
   {
    "duration": 26,
    "start_time": "2023-09-20T07:49:19.482Z"
   },
   {
    "duration": 623,
    "start_time": "2023-09-20T07:49:19.510Z"
   },
   {
    "duration": 481,
    "start_time": "2023-09-20T07:49:20.136Z"
   },
   {
    "duration": 289,
    "start_time": "2023-09-20T07:49:20.624Z"
   },
   {
    "duration": 4,
    "start_time": "2023-09-20T07:49:20.915Z"
   },
   {
    "duration": 250,
    "start_time": "2023-09-20T07:49:20.924Z"
   },
   {
    "duration": 3,
    "start_time": "2023-09-20T07:49:21.175Z"
   },
   {
    "duration": 64,
    "start_time": "2023-09-20T07:49:21.179Z"
   },
   {
    "duration": 13,
    "start_time": "2023-09-20T07:49:21.246Z"
   },
   {
    "duration": 13,
    "start_time": "2023-09-20T07:49:21.261Z"
   },
   {
    "duration": 6,
    "start_time": "2023-09-20T07:49:21.276Z"
   },
   {
    "duration": 3663,
    "start_time": "2023-09-20T07:49:21.283Z"
   },
   {
    "duration": 3,
    "start_time": "2023-09-20T07:49:24.947Z"
   },
   {
    "duration": 23,
    "start_time": "2023-09-20T07:49:24.952Z"
   },
   {
    "duration": 6,
    "start_time": "2023-09-20T07:49:24.976Z"
   },
   {
    "duration": 11,
    "start_time": "2023-09-20T07:49:24.984Z"
   },
   {
    "duration": 33,
    "start_time": "2023-09-20T07:49:24.996Z"
   },
   {
    "duration": 13,
    "start_time": "2023-09-20T07:49:25.031Z"
   },
   {
    "duration": 30,
    "start_time": "2023-09-20T07:49:25.046Z"
   },
   {
    "duration": 18,
    "start_time": "2023-09-20T07:49:25.078Z"
   },
   {
    "duration": 35629,
    "start_time": "2023-09-20T07:49:25.098Z"
   },
   {
    "duration": 4,
    "start_time": "2023-09-20T07:50:00.729Z"
   },
   {
    "duration": 270,
    "start_time": "2023-09-20T07:50:00.734Z"
   },
   {
    "duration": 123,
    "start_time": "2023-09-20T07:50:01.005Z"
   },
   {
    "duration": 336,
    "start_time": "2023-09-20T07:50:01.131Z"
   },
   {
    "duration": 115,
    "start_time": "2023-09-20T07:50:01.470Z"
   },
   {
    "duration": 22908,
    "start_time": "2023-09-20T07:50:01.587Z"
   },
   {
    "duration": 3,
    "start_time": "2023-09-20T07:50:24.497Z"
   },
   {
    "duration": 74,
    "start_time": "2023-09-20T07:50:24.502Z"
   },
   {
    "duration": 153,
    "start_time": "2023-09-20T07:50:24.578Z"
   },
   {
    "duration": 366303,
    "start_time": "2023-09-20T07:50:24.733Z"
   },
   {
    "duration": 5,
    "start_time": "2023-09-20T07:56:31.040Z"
   },
   {
    "duration": 330185,
    "start_time": "2023-09-20T07:56:31.047Z"
   },
   {
    "duration": 3,
    "start_time": "2023-09-20T08:02:01.233Z"
   },
   {
    "duration": 198,
    "start_time": "2023-09-20T08:02:01.238Z"
   },
   {
    "duration": 105,
    "start_time": "2023-09-20T08:02:01.439Z"
   },
   {
    "duration": 411,
    "start_time": "2023-09-20T08:02:01.546Z"
   },
   {
    "duration": 493,
    "start_time": "2023-09-20T08:02:01.958Z"
   },
   {
    "duration": 914,
    "start_time": "2023-09-20T08:02:02.454Z"
   },
   {
    "duration": 21689,
    "start_time": "2023-09-20T08:06:33.425Z"
   },
   {
    "duration": 33284,
    "start_time": "2023-09-20T08:08:12.588Z"
   },
   {
    "duration": 24,
    "start_time": "2023-09-20T08:24:46.480Z"
   },
   {
    "duration": 22,
    "start_time": "2023-09-20T08:26:02.987Z"
   }
  ],
  "kernelspec": {
   "display_name": "Python 3 (ipykernel)",
   "language": "python",
   "name": "python3"
  },
  "language_info": {
   "codemirror_mode": {
    "name": "ipython",
    "version": 3
   },
   "file_extension": ".py",
   "mimetype": "text/x-python",
   "name": "python",
   "nbconvert_exporter": "python",
   "pygments_lexer": "ipython3",
   "version": "3.9.5"
  },
  "toc": {
   "base_numbering": 1,
   "nav_menu": {},
   "number_sections": false,
   "sideBar": true,
   "skip_h1_title": true,
   "title_cell": "Table of Contents",
   "title_sidebar": "Contents",
   "toc_cell": false,
   "toc_position": {},
   "toc_section_display": true,
   "toc_window_display": true
  }
 },
 "nbformat": 4,
 "nbformat_minor": 2
}
